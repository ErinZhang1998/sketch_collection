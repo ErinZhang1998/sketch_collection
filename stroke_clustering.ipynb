{
 "cells": [
  {
   "cell_type": "code",
   "execution_count": 1,
   "metadata": {},
   "outputs": [],
   "source": [
    "import numpy as np\n",
    "import pandas as pd\n",
    "import os\n",
    "import json\n",
    "import matplotlib.pyplot as plt\n",
    "import PIL\n",
    "import read_datasets as rd\n",
    "import constants as CONST\n",
    "from importlib import reload\n",
    "reload(rd)\n",
    "reload(CONST)\n",
    "import pickle"
   ]
  },
  {
   "cell_type": "code",
   "execution_count": 2,
   "metadata": {},
   "outputs": [],
   "source": [
    "import sys\n",
    "sys.path.insert(0, \"/home/xiaoyuz1/mnist-em-bmm-gmm\")\n",
    "import gmm\n",
    "\n",
    "from IPython.display import SVG, display\n",
    "import svgwrite # conda install -c omnia svgwrite=1.1.6"
   ]
  },
  {
   "cell_type": "markdown",
   "metadata": {},
   "source": [
    "# Prepare features"
   ]
  },
  {
   "cell_type": "code",
   "execution_count": 3,
   "metadata": {},
   "outputs": [],
   "source": [
    "# face_json = json.load(open(\n",
    "#     '/raid/xiaoyuz1/sketch_datasets/SketchX-PRIS-Dataset/Perceptual Grouping/{}.ndjson'.format('face'), \n",
    "#     'r'))\n",
    "# # face_json['train_data'][0]"
   ]
  },
  {
   "cell_type": "code",
   "execution_count": 4,
   "metadata": {
    "scrolled": true
   },
   "outputs": [],
   "source": [
    "# file to load? \n",
    "drawing_npz = np.load(\n",
    "    '/raid/xiaoyuz1/sketch_datasets/sketchrnn_face.npz', \n",
    "    allow_pickle=True,\n",
    "    encoding='latin1',\n",
    ")\n",
    "stroke_data_path = \"/raid/xiaoyuz1/\"\n",
    "# keys: train, test, valid "
   ]
  },
  {
   "cell_type": "code",
   "execution_count": 5,
   "metadata": {},
   "outputs": [
    {
     "data": {
      "text/plain": [
       "((83, 3), (76, 3))"
      ]
     },
     "execution_count": 5,
     "metadata": {},
     "output_type": "execute_result"
    }
   ],
   "source": [
    "drawing_npz['train'][0].shape, drawing_npz['train'][1].shape"
   ]
  },
  {
   "cell_type": "markdown",
   "metadata": {
    "heading_collapsed": true
   },
   "source": [
    "## From: https://github.com/magenta/magenta-demos/blob/main/jupyter-notebooks/Sketch_RNN.ipynb"
   ]
  },
  {
   "cell_type": "code",
   "execution_count": 6,
   "metadata": {
    "code_folding": [
     3,
     24
    ],
    "hidden": true
   },
   "outputs": [],
   "source": [
    "\n",
    "def get_bounds(data, factor=10):\n",
    "    \"\"\"Return bounds of data.\"\"\"\n",
    "    min_x = 0\n",
    "    max_x = 0\n",
    "    min_y = 0\n",
    "    max_y = 0\n",
    "\n",
    "    abs_x = 0\n",
    "    abs_y = 0\n",
    "    for i in range(len(data)):\n",
    "        x = float(data[i, 0]) / factor\n",
    "        y = float(data[i, 1]) / factor\n",
    "        abs_x += x\n",
    "        abs_y += y\n",
    "        min_x = min(min_x, abs_x)\n",
    "        min_y = min(min_y, abs_y)\n",
    "        max_x = max(max_x, abs_x)\n",
    "        max_y = max(max_y, abs_y)\n",
    "\n",
    "    return (min_x, max_x, min_y, max_y)\n",
    "\n",
    "def draw_strokes(data, factor=1, svg_filename = '/raid/xiaoyuz1/sample.svg'):\n",
    "    # tf.gfile.MakeDirs(os.path.dirname(svg_filename))\n",
    "    min_x, max_x, min_y, max_y = get_bounds(data, factor)\n",
    "    \n",
    "    dims = (50 + max_x - min_x, 50 + max_y - min_y)\n",
    "    dwg = svgwrite.Drawing(svg_filename, size=dims)\n",
    "    dwg.add(dwg.rect(insert=(0, 0), size=dims, fill='white'))\n",
    "    \n",
    "    lift_pen = 1\n",
    "    abs_x = 25 - min_x \n",
    "    abs_y = 25 - min_y\n",
    "    \n",
    "    p = \"M%s,%s \" % (abs_x, abs_y)\n",
    "    command = \"m\"\n",
    "    for i in range(len(data)):\n",
    "        if (lift_pen == 1):\n",
    "            command = \"m\"\n",
    "        elif (command != \"l\"):\n",
    "            command = \"l\"\n",
    "        else:\n",
    "            command = \"\"\n",
    "            \n",
    "        x = float(data[i,0])/factor\n",
    "        y = float(data[i,1])/factor\n",
    "        lift_pen = data[i, 2]\n",
    "        p += command+str(x)+\",\"+str(y)+\" \"\n",
    "        \n",
    "    the_color = \"black\"\n",
    "    stroke_width = 1\n",
    "    dwg.add(dwg.path(p).stroke(the_color,stroke_width).fill(\"none\"))\n",
    "    # dwg.save()\n",
    "    display(SVG(dwg.tostring()))"
   ]
  },
  {
   "cell_type": "code",
   "execution_count": 7,
   "metadata": {
    "hidden": true,
    "scrolled": true
   },
   "outputs": [],
   "source": [
    "# drawing_idx = 129\n",
    "# draw_strokes(drawing_npz['train'][drawing_idx])"
   ]
  },
  {
   "cell_type": "markdown",
   "metadata": {},
   "source": [
    "## process raw QuickDraw format"
   ]
  },
  {
   "cell_type": "code",
   "execution_count": 8,
   "metadata": {},
   "outputs": [],
   "source": [
    "# drawing_raw = drawing_npz['train'][1000]\n",
    "# drawing_raw = drawing_raw.astype(float)\n",
    "# drawing_raw[:,0] = np.cumsum(drawing_raw[:,0], 0)\n",
    "# drawing_raw[:,1] = np.cumsum(drawing_raw[:,1], 0)\n",
    "# drawing_raw[:,0] += (25 - np.min(drawing_raw[:,0]))\n",
    "# drawing_raw[:,1] += (25 - np.min(drawing_raw[:,1]))\n",
    "\n",
    "# pen_lift_indices = np.where(drawing_raw[:,2] == 1)[0]+1\n",
    "# strokes = np.vsplit(drawing_raw[:,:2].astype(float), pen_lift_indices)[:-1]\n",
    "# strokes_spline_fitted = []\n",
    "# for stroke in strokes:\n",
    "#     stroke_sampled = rd.bspline(stroke, n=100, degree=3)\n",
    "#     strokes_spline_fitted.append(stroke_sampled)"
   ]
  },
  {
   "cell_type": "code",
   "execution_count": null,
   "metadata": {},
   "outputs": [],
   "source": []
  },
  {
   "cell_type": "code",
   "execution_count": 9,
   "metadata": {
    "scrolled": true
   },
   "outputs": [
    {
     "name": "stderr",
     "output_type": "stream",
     "text": [
      "100%|██████████| 3/3 [00:02<00:00,  1.18it/s]\n"
     ]
    }
   ],
   "source": [
    "from tqdm import tqdm\n",
    "all_stroke_data = []\n",
    "for i in tqdm(range(2000)):\n",
    "    drawing_raw = drawing_npz['train'][i]\n",
    "    strokes = rd.process_quickdraw_to_stroke(drawing_raw)\n",
    "    all_stroke_data.append(np.asarray(strokes))"
   ]
  },
  {
   "cell_type": "code",
   "execution_count": 14,
   "metadata": {},
   "outputs": [],
   "source": [
    "np.savez_compressed('/raid/xiaoyuz1/face_stroke', train=np.asarray(all_stroke_data, dtype=object))"
   ]
  },
  {
   "cell_type": "code",
   "execution_count": 19,
   "metadata": {},
   "outputs": [],
   "source": [
    "test = np.load('/raid/xiaoyuz1/face_stroke.npz',allow_pickle=True,encoding='latin1')['train']"
   ]
  },
  {
   "cell_type": "code",
   "execution_count": 27,
   "metadata": {},
   "outputs": [
    {
     "data": {
      "image/png": "[encoded data removed]",
      "text/plain": [
       "<PIL.Image.Image image mode=L size=256x256 at 0x7F919C82FC40>"
      ]
     },
     "execution_count": 27,
     "metadata": {},
     "output_type": "execute_result"
    }
   ],
   "source": [
    "rd.render_img(\n",
    "    [test[2][4]], \n",
    "    img_path=None, \n",
    "    show=False,\n",
    "    side=256,\n",
    "    line_diameter=1,\n",
    "    padding=0,\n",
    "    bg_color=(0,0,0),\n",
    "    fg_color=(1,1,1),\n",
    "    original_side = 28.,\n",
    "    convert = True,\n",
    ")"
   ]
  },
  {
   "cell_type": "code",
   "execution_count": 26,
   "metadata": {},
   "outputs": [
    {
     "data": {
      "image/png": "[encoded data removed]",
      "text/plain": [
       "<PIL.Image.Image image mode=L size=256x256 at 0x7F53A0922E80>"
      ]
     },
     "execution_count": 26,
     "metadata": {},
     "output_type": "execute_result"
    }
   ],
   "source": [
    "strokes = rd.quickdraw_to_vector(drawing_npz['train'][2])\n",
    "rd.render_img(\n",
    "    strokes, \n",
    "    img_path=None, \n",
    "    show=False,\n",
    "    side=256,\n",
    "    line_diameter=1,\n",
    "    padding=0,\n",
    "    bg_color=(0,0,0),\n",
    "    fg_color=(1,1,1),\n",
    "    original_side = 256.,\n",
    "    convert = True,\n",
    ")"
   ]
  },
  {
   "cell_type": "markdown",
   "metadata": {},
   "source": [
    "## Fitting b-spline"
   ]
  },
  {
   "cell_type": "code",
   "execution_count": 30,
   "metadata": {
    "code_folding": []
   },
   "outputs": [
    {
     "data": {
      "image/png": "[encoded data removed]",
      "text/plain": [
       "<Figure size 432x288 with 2 Axes>"
      ]
     },
     "metadata": {
      "needs_background": "light"
     },
     "output_type": "display_data"
    }
   ],
   "source": [
    "import numpy as np\n",
    "import scipy.interpolate as si\n",
    "import matplotlib.pyplot as plt\n",
    "colors = ('b', 'g', 'r', 'c', 'm', 'y', 'k')\n",
    "\n",
    "cv = strokes_normalized[4]\n",
    "# cv = np.vstack([cv, cv[0].copy()])\n",
    "plt.subplot(1, 2, 1)\n",
    "plt.plot(cv[:,0],cv[:,1], label='Control Points')\n",
    "plt.minorticks_on()\n",
    "# plt.legend()\n",
    "plt.xlabel('x')\n",
    "plt.ylabel('y')\n",
    "plt.xlim(0, 28)\n",
    "plt.ylim(28, 0)\n",
    "plt.gca().set_aspect('equal', adjustable='box')\n",
    "\n",
    "d = 3\n",
    "p = rd.bspline(cv,n=100,degree=d)\n",
    "x,y = p.T\n",
    "plt.subplot(1, 2, 2)\n",
    "plt.plot(x,y,label='Degree %s'%d,color = colors[d%len(colors)])\n",
    "\n",
    "plt.minorticks_on()\n",
    "plt.xlabel('x')\n",
    "plt.ylabel('y')\n",
    "plt.xlim(0, 28)\n",
    "plt.ylim(28, 0)\n",
    "plt.gca().set_aspect('equal', adjustable='box')\n",
    "plt.show()"
   ]
  },
  {
   "cell_type": "code",
   "execution_count": 29,
   "metadata": {},
   "outputs": [
    {
     "data": {
      "image/png": "[encoded data removed]",
      "text/plain": [
       "<PIL.Image.Image image mode=L size=256x256 at 0x7F23533B4A90>"
      ]
     },
     "execution_count": 29,
     "metadata": {},
     "output_type": "execute_result"
    }
   ],
   "source": [
    "rd.render_img(\n",
    "    [p], \n",
    "    img_path=None, \n",
    "    show=False,\n",
    "    side=256,\n",
    "    line_diameter=1,\n",
    "    padding=0,\n",
    "    bg_color=(0,0,0),\n",
    "    fg_color=(1,1,1),\n",
    "    original_side = 28.,\n",
    "    convert = True,\n",
    ")"
   ]
  },
  {
   "cell_type": "markdown",
   "metadata": {},
   "source": [
    "## Raw pixel images"
   ]
  },
  {
   "cell_type": "code",
   "execution_count": null,
   "metadata": {},
   "outputs": [],
   "source": []
  },
  {
   "cell_type": "markdown",
   "metadata": {},
   "source": [
    "## CLIP features"
   ]
  },
  {
   "cell_type": "code",
   "execution_count": null,
   "metadata": {},
   "outputs": [],
   "source": []
  },
  {
   "cell_type": "markdown",
   "metadata": {},
   "source": [
    "## Inception V3 features"
   ]
  },
  {
   "cell_type": "code",
   "execution_count": null,
   "metadata": {},
   "outputs": [],
   "source": []
  },
  {
   "cell_type": "markdown",
   "metadata": {},
   "source": [
    "# GMM clustering"
   ]
  },
  {
   "cell_type": "code",
   "execution_count": null,
   "metadata": {},
   "outputs": [],
   "source": []
  },
  {
   "cell_type": "code",
   "execution_count": null,
   "metadata": {},
   "outputs": [],
   "source": []
  },
  {
   "cell_type": "markdown",
   "metadata": {},
   "source": [
    "## Visualize clusters"
   ]
  },
  {
   "cell_type": "code",
   "execution_count": null,
   "metadata": {},
   "outputs": [],
   "source": []
  }
 ],
 "metadata": {
  "kernelspec": {
   "display_name": "clipdraw",
   "language": "python",
   "name": "clipdraw"
  },
  "language_info": {
   "codemirror_mode": {
    "name": "ipython",
    "version": 3
   },
   "file_extension": ".py",
   "mimetype": "text/x-python",
   "name": "python",
   "nbconvert_exporter": "python",
   "pygments_lexer": "ipython3",
   "version": "3.8.12"
  }
 },
 "nbformat": 4,
 "nbformat_minor": 4
}
