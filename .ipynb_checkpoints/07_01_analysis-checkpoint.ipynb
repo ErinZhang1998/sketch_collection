{
 "cells": [
  {
   "cell_type": "code",
   "execution_count": 1,
   "metadata": {},
   "outputs": [],
   "source": [
    "import seaborn as sns\n",
    "import numpy as np\n",
    "import pandas as pd\n",
    "import os\n",
    "import json\n",
    "import matplotlib.pyplot as plt\n",
    "import PIL\n",
    "import read_datasets as rd\n",
    "import constants as CONST\n",
    "from importlib import reload\n",
    "reload(rd)\n",
    "reload(CONST)\n",
    "import base64\n",
    "import pickle\n",
    "import collections\n",
    "import itertools, collections\n",
    "from sklearn.metrics import mean_squared_error\n",
    "import cv2 \n",
    "import math"
   ]
  },
  {
   "cell_type": "code",
   "execution_count": 2,
   "metadata": {},
   "outputs": [],
   "source": [
    "import torch.nn.utils.rnn as rnn"
   ]
  },
  {
   "cell_type": "code",
   "execution_count": 3,
   "metadata": {},
   "outputs": [],
   "source": [
    "import torch"
   ]
  },
  {
   "cell_type": "code",
   "execution_count": 18,
   "metadata": {},
   "outputs": [
    {
     "name": "stdout",
     "output_type": "stream",
     "text": [
      "[torch.Size([3, 6]), torch.Size([3, 6]), torch.Size([3, 6]), torch.Size([3, 6]), torch.Size([3, 6]), torch.Size([3, 6]), torch.Size([3, 6]), torch.Size([3, 6]), torch.Size([3, 6]), torch.Size([3, 6]), torch.Size([3, 6]), torch.Size([3, 6]), torch.Size([3, 6]), torch.Size([3, 6]), torch.Size([3, 6]), torch.Size([3, 6]), torch.Size([3, 6]), torch.Size([3, 6]), torch.Size([3, 6]), torch.Size([3, 6]), torch.Size([3, 3])]\n",
      "torch.Size([20, 3, 6])\n",
      "torch.Size([3, 3])\n"
     ]
    }
   ],
   "source": [
    "y = torch.rand((3, 123))\n",
    "params = torch.split(y,6,1)\n",
    "print([x.shape for x in params])\n",
    "params_mixture = torch.stack(params[:-1]) \n",
    "print(params_mixture.shape)\n",
    "params_pen = params[-1] # pen up/down\n",
    "print(params_pen.shape)"
   ]
  },
  {
   "cell_type": "code",
   "execution_count": 4,
   "metadata": {},
   "outputs": [],
   "source": [
    "import torch.nn as nn\n",
    "num_embeddings = 20\n",
    "embed_dim = 48\n",
    "hidden_embed_dim = 128\n",
    "embed = nn.Embedding(num_embeddings, embed_dim)"
   ]
  },
  {
   "cell_type": "code",
   "execution_count": 5,
   "metadata": {},
   "outputs": [],
   "source": [
    "seq = [[6, 9, 8, 4, 1, 11, 12, 10],[7, 3, 2, 5, 13, 7],[12, 5, 8, 14]]\n",
    "seq = [torch.from_numpy(np.array(l)).long() for l in seq]"
   ]
  },
  {
   "cell_type": "code",
   "execution_count": 6,
   "metadata": {},
   "outputs": [
    {
     "name": "stdout",
     "output_type": "stream",
     "text": [
      "PackedSequence(data=tensor([ 6,  7, 12,  9,  3,  5,  8,  2,  8,  4,  5, 14,  1, 13, 11,  7, 12, 10]), batch_sizes=tensor([3, 3, 3, 3, 2, 2, 1, 1]), sorted_indices=None, unsorted_indices=None)\n"
     ]
    }
   ],
   "source": [
    "quesT = rnn.pack_sequence(seq)\n",
    "print(quesT)"
   ]
  },
  {
   "cell_type": "code",
   "execution_count": 7,
   "metadata": {
    "scrolled": true
   },
   "outputs": [
    {
     "name": "stdout",
     "output_type": "stream",
     "text": [
      "tensor([[ 6,  9,  8,  4,  1, 11, 12, 10],\n",
      "        [ 7,  3,  2,  5, 13,  7,  0,  0],\n",
      "        [12,  5,  8, 14,  0,  0,  0,  0]]) tensor([8, 6, 4])\n"
     ]
    }
   ],
   "source": [
    "question, lens = rnn.pad_packed_sequence(quesT, batch_first=True)\n",
    "print(question.shape,lens)   "
   ]
  },
  {
   "cell_type": "code",
   "execution_count": 8,
   "metadata": {},
   "outputs": [
    {
     "name": "stdout",
     "output_type": "stream",
     "text": [
      "torch.Size([3, 8, 48])\n"
     ]
    }
   ],
   "source": [
    "words = embed(question)\n",
    "print(words.shape)"
   ]
  },
  {
   "cell_type": "code",
   "execution_count": 9,
   "metadata": {},
   "outputs": [],
   "source": [
    "lstm = nn.LSTM(\n",
    "    input_size = embed_dim, \n",
    "    hidden_size = hidden_embed_dim, \n",
    "    num_layers = 3, \n",
    "    dropout = 0.2,\n",
    ")"
   ]
  },
  {
   "cell_type": "code",
   "execution_count": 11,
   "metadata": {
    "scrolled": true
   },
   "outputs": [],
   "source": [
    "phrase_packed = rnn.pack_padded_sequence(torch.transpose(words, 0, 1), lens)"
   ]
  },
  {
   "cell_type": "code",
   "execution_count": 12,
   "metadata": {},
   "outputs": [],
   "source": [
    "sentence_packed, hidden = lstm(phrase_packed, None)"
   ]
  },
  {
   "cell_type": "code",
   "execution_count": 12,
   "metadata": {},
   "outputs": [],
   "source": [
    "sentence, _ = rnn.pad_packed_sequence(sentence_packed)\n",
    "sentence = torch.transpose(sentence, 0, 1) "
   ]
  },
  {
   "cell_type": "code",
   "execution_count": 13,
   "metadata": {},
   "outputs": [
    {
     "data": {
      "text/plain": [
       "torch.Size([3, 8, 128])"
      ]
     },
     "execution_count": 13,
     "metadata": {},
     "output_type": "execute_result"
    }
   ],
   "source": [
    "sentence.shape"
   ]
  },
  {
   "cell_type": "code",
   "execution_count": 42,
   "metadata": {},
   "outputs": [
    {
     "data": {
      "text/plain": [
       "torch.Size([3, 3, 128])"
      ]
     },
     "execution_count": 42,
     "metadata": {},
     "output_type": "execute_result"
    }
   ],
   "source": [
    "hidden[0].shape"
   ]
  },
  {
   "cell_type": "code",
   "execution_count": 2,
   "metadata": {},
   "outputs": [],
   "source": [
    "import torch"
   ]
  },
  {
   "cell_type": "code",
   "execution_count": 3,
   "metadata": {},
   "outputs": [],
   "source": [
    "np.set_printoptions(precision=4, suppress=True)"
   ]
  },
  {
   "cell_type": "code",
   "execution_count": 4,
   "metadata": {},
   "outputs": [],
   "source": [
    "w = h = 256\n",
    "TEMPLATE_DICT = {\n",
    "    'arc' : lambda n : rd.generate_arc(n1=n, radius=10, x0=0, y0=0, template_size=w),\n",
    "    'circle' : lambda n : rd.generate_circle(n1=n, radius=100, x0=100, y0=100, template_size=w),\n",
    "    'square' : lambda n : rd.generate_square(n1=n, template_size=w),\n",
    "    'semicircle' : lambda n : rd.generate_semicircle(n1=n, radius=100, x0=100, y0=100, template_size=w),\n",
    "    'zigzag1' : lambda n : rd.generate_zigzag1(n1=n, template_size=w),\n",
    "}"
   ]
  },
  {
   "cell_type": "code",
   "execution_count": 5,
   "metadata": {},
   "outputs": [],
   "source": [
    "drawing_arr = CONST.face_json['train_data']\n",
    "b_spline_num_sampled_points = n = 200\n",
    "use_projective = False"
   ]
  },
  {
   "cell_type": "code",
   "execution_count": 14,
   "metadata": {},
   "outputs": [],
   "source": [
    "template_dict_processed = {}\n",
    "for k,v in TEMPLATE_DICT.items():\n",
    "    template_dict_processed[k] = v(b_spline_num_sampled_points)"
   ]
  },
  {
   "cell_type": "code",
   "execution_count": null,
   "metadata": {},
   "outputs": [],
   "source": [
    "def affine_trans(data, theta, translate_x, translate_y, scale):\n",
    "    rotate_mat = np.array([[np.cos(theta), np.sin(theta)], [-np.sin(theta), np.cos(theta)]])\n",
    "    affine_data = []\n",
    "    for item in data:\n",
    "        if len(item) == 0:\n",
    "            continue\n",
    "        affine_item = np.array(item) - self.original_image_size\n",
    "        affine_item = np.transpose(np.matmul(rotate_mat, np.transpose(affine_item)))\n",
    "        affine_item[:, 0] += translate_x\n",
    "        affine_item[:, 1] += translate_y\n",
    "        affine_item *= scale\n",
    "        affine_data.append(affine_item + self.original_image_size)"
   ]
  },
  {
   "cell_type": "code",
   "execution_count": null,
   "metadata": {},
   "outputs": [],
   "source": []
  },
  {
   "cell_type": "code",
   "execution_count": null,
   "metadata": {
    "scrolled": true
   },
   "outputs": [],
   "source": [
    "num_pngs_per_row = 2\n",
    "row_figsize = 3\n",
    "column_figsize = 3\n",
    "\n",
    "num_rows = len(TEMPLATE_DICT) // num_pngs_per_row\n",
    "if num_rows * num_pngs_per_row < len(TEMPLATE_DICT):\n",
    "    num_rows += 1\n",
    "\n",
    "fig = plt.figure(figsize=(num_pngs_per_row * row_figsize, num_rows * column_figsize)) \n",
    "fig.patch.set_alpha(1)  # solution\n",
    "\n",
    "for index, (template_name, template_func) in enumerate(TEMPLATE_DICT.items()):\n",
    "    template = template_func(n)\n",
    "\n",
    "    plt.subplot(num_rows, num_pngs_per_row, index+1)\n",
    "    plt.scatter(template[:,0], template[:,1], s=1, c='r')\n",
    "    plt.title(template_name)\n",
    "    # plt.axis('off')\n",
    "    plt.xlim(0,w)\n",
    "    plt.ylim(h,0)\n",
    "\n",
    "plt.show()\n",
    "plt.close()"
   ]
  },
  {
   "cell_type": "code",
   "execution_count": null,
   "metadata": {
    "scrolled": true
   },
   "outputs": [],
   "source": [
    "reload(rd)\n",
    "from tqdm import tqdm\n",
    "\n",
    "M_arr = collections.defaultdict(lambda : np.zeros(9))\n",
    "M_name = collections.defaultdict(lambda : \" \")\n",
    "M_mse = collections.defaultdict(float)\n",
    "\n",
    "\n",
    "\n",
    "for idx in tqdm(range(len(drawing_arr))):\n",
    "# for idx in range(len(drawing_arr)):\n",
    "#     print(idx)\n",
    "    \n",
    "    strokes_spline_fitted = rd.process_quickdraw_to_part_convex_hull(\n",
    "        drawing_arr[idx],\n",
    "        list(CONST.face_parts_idx_dict.keys()),\n",
    "        b_spline_num_sampled_points=200,\n",
    "    )\n",
    "#     strokes_spline_fitted = rd.process_quickdraw_to_stroke_no_normalize(\n",
    "#         drawing_arr[idx], \n",
    "#         b_spline_num_sampled_points=200,\n",
    "#     )\n",
    "    \n",
    "    \n",
    "    for stroke_index, (part_type, data) in enumerate(strokes_spline_fitted.items()):\n",
    "        \n",
    "        mat, prim_name, prim_mse = rd.get_transform_smallest_mse(\n",
    "            data, template_dict_processed, use_projective=use_projective,\n",
    "        )\n",
    "        M_arr[(idx, part_type)] = mat\n",
    "        M_name[(idx, part_type)] = prim_name\n",
    "        M_mse[(idx, part_type)] = prim_mse\n",
    "        \n",
    "with open('/raid/xiaoyuz1/SPG_Face_Part_256_projective_{}_mse.pkl'.format(use_projective), \"wb+\") as f:\n",
    "    pickle.dump((dict(M_arr), dict(M_name), dict(M_mse)), f)"
   ]
  },
  {
   "cell_type": "code",
   "execution_count": 6,
   "metadata": {},
   "outputs": [
    {
     "data": {
      "text/plain": [
       "'/raid/xiaoyuz1/SPG_Face_Part_256_projective_False_mse.pkl'"
      ]
     },
     "execution_count": 6,
     "metadata": {},
     "output_type": "execute_result"
    }
   ],
   "source": [
    "'/raid/xiaoyuz1/SPG_Face_Part_256_projective_{}_mse.pkl'.format(use_projective)"
   ]
  },
  {
   "cell_type": "code",
   "execution_count": null,
   "metadata": {},
   "outputs": [],
   "source": [
    "line_dict = dict(filter(lambda x: x[1] == 'line', M_name.items()))\n",
    "print(len(line_dict), line_dict)"
   ]
  },
  {
   "cell_type": "code",
   "execution_count": null,
   "metadata": {},
   "outputs": [],
   "source": []
  },
  {
   "cell_type": "code",
   "execution_count": 7,
   "metadata": {},
   "outputs": [],
   "source": [
    "M_arr, M_name = None,None\n",
    "M_mse = None\n",
    "fname = '/raid/xiaoyuz1/SPG_Face_Part_256_projective_False_mse.pkl'\n",
    "with open(fname, \"rb\") as f:\n",
    "    M_arr, M_name, M_mse = pickle.load(f)"
   ]
  },
  {
   "cell_type": "code",
   "execution_count": null,
   "metadata": {},
   "outputs": [],
   "source": [
    "mse_l = list(filter(lambda x: not math.isinf(x), list(M_mse.values())))\n",
    "np.mean(mse_l)"
   ]
  },
  {
   "cell_type": "code",
   "execution_count": 8,
   "metadata": {
    "scrolled": true
   },
   "outputs": [],
   "source": [
    "image_list = list(map(lambda x: x[0], M_name.keys()))\n",
    "stroke_list = list(map(lambda x: x[1], M_name.keys()))\n",
    "arr_list = list(M_arr.values())\n",
    "name_list = list(M_name.values())\n",
    "mse_list = list(M_mse.values())\n",
    "\n",
    "data = {'image': image_list, 'stroke' : stroke_list, 'M' : arr_list, 'primitive' : name_list, 'mse' : mse_list}\n",
    "df = pd.DataFrame.from_dict(data)"
   ]
  },
  {
   "cell_type": "code",
   "execution_count": 9,
   "metadata": {},
   "outputs": [],
   "source": [
    "dfa = df[df.mse.apply(lambda x: not math.isinf(x))]"
   ]
  },
  {
   "cell_type": "code",
   "execution_count": 10,
   "metadata": {},
   "outputs": [
    {
     "data": {
      "text/html": [
       "<div>\n",
       "<style scoped>\n",
       "    .dataframe tbody tr th:only-of-type {\n",
       "        vertical-align: middle;\n",
       "    }\n",
       "\n",
       "    .dataframe tbody tr th {\n",
       "        vertical-align: top;\n",
       "    }\n",
       "\n",
       "    .dataframe thead th {\n",
       "        text-align: right;\n",
       "    }\n",
       "</style>\n",
       "<table border=\"1\" class=\"dataframe\">\n",
       "  <thead>\n",
       "    <tr style=\"text-align: right;\">\n",
       "      <th></th>\n",
       "      <th>image</th>\n",
       "      <th>stroke</th>\n",
       "      <th>M</th>\n",
       "      <th>primitive</th>\n",
       "      <th>mse</th>\n",
       "    </tr>\n",
       "  </thead>\n",
       "  <tbody>\n",
       "    <tr>\n",
       "      <th>0</th>\n",
       "      <td>0</td>\n",
       "      <td>0.0</td>\n",
       "      <td>[-0.30653831674773796, -0.17504789615428756, 1...</td>\n",
       "      <td>circle</td>\n",
       "      <td>26.847162</td>\n",
       "    </tr>\n",
       "    <tr>\n",
       "      <th>1</th>\n",
       "      <td>0</td>\n",
       "      <td>2.0</td>\n",
       "      <td>[0.5736975740632647, -0.007411886717107498, 65...</td>\n",
       "      <td>zigzag1</td>\n",
       "      <td>6.117696</td>\n",
       "    </tr>\n",
       "    <tr>\n",
       "      <th>2</th>\n",
       "      <td>0</td>\n",
       "      <td>6.0</td>\n",
       "      <td>[-0.4696393179842269, -0.6225181112914386, 256...</td>\n",
       "      <td>circle</td>\n",
       "      <td>37.900253</td>\n",
       "    </tr>\n",
       "    <tr>\n",
       "      <th>3</th>\n",
       "      <td>1</td>\n",
       "      <td>0.0</td>\n",
       "      <td>[0.11333508222111885, -0.0435327041873152, 76....</td>\n",
       "      <td>square</td>\n",
       "      <td>4.119106</td>\n",
       "    </tr>\n",
       "    <tr>\n",
       "      <th>4</th>\n",
       "      <td>1</td>\n",
       "      <td>2.0</td>\n",
       "      <td>[-0.10240665187744817, 0.009131536623320316, 1...</td>\n",
       "      <td>circle</td>\n",
       "      <td>129.848048</td>\n",
       "    </tr>\n",
       "    <tr>\n",
       "      <th>...</th>\n",
       "      <td>...</td>\n",
       "      <td>...</td>\n",
       "      <td>...</td>\n",
       "      <td>...</td>\n",
       "      <td>...</td>\n",
       "    </tr>\n",
       "    <tr>\n",
       "      <th>3076</th>\n",
       "      <td>798</td>\n",
       "      <td>6.0</td>\n",
       "      <td>[-0.06655853315203604, -0.5514048575240723, 20...</td>\n",
       "      <td>circle</td>\n",
       "      <td>2.862589</td>\n",
       "    </tr>\n",
       "    <tr>\n",
       "      <th>3077</th>\n",
       "      <td>799</td>\n",
       "      <td>0.0</td>\n",
       "      <td>[-0.1306167295768735, 0.04341834182422056, 95....</td>\n",
       "      <td>circle</td>\n",
       "      <td>1.838850</td>\n",
       "    </tr>\n",
       "    <tr>\n",
       "      <th>3078</th>\n",
       "      <td>799</td>\n",
       "      <td>2.0</td>\n",
       "      <td>[-0.1647178106375739, 0.0329583431620741, 113....</td>\n",
       "      <td>arc</td>\n",
       "      <td>0.909009</td>\n",
       "    </tr>\n",
       "    <tr>\n",
       "      <th>3079</th>\n",
       "      <td>799</td>\n",
       "      <td>4.0</td>\n",
       "      <td>[-0.3416462346835277, -0.5252111080701682, 225...</td>\n",
       "      <td>circle</td>\n",
       "      <td>75.641601</td>\n",
       "    </tr>\n",
       "    <tr>\n",
       "      <th>3080</th>\n",
       "      <td>799</td>\n",
       "      <td>6.0</td>\n",
       "      <td>[0.23849245802085092, -0.45543059486805604, 12...</td>\n",
       "      <td>circle</td>\n",
       "      <td>14.961382</td>\n",
       "    </tr>\n",
       "  </tbody>\n",
       "</table>\n",
       "<p>3081 rows × 5 columns</p>\n",
       "</div>"
      ],
      "text/plain": [
       "      image  stroke                                                  M  \\\n",
       "0         0     0.0  [-0.30653831674773796, -0.17504789615428756, 1...   \n",
       "1         0     2.0  [0.5736975740632647, -0.007411886717107498, 65...   \n",
       "2         0     6.0  [-0.4696393179842269, -0.6225181112914386, 256...   \n",
       "3         1     0.0  [0.11333508222111885, -0.0435327041873152, 76....   \n",
       "4         1     2.0  [-0.10240665187744817, 0.009131536623320316, 1...   \n",
       "...     ...     ...                                                ...   \n",
       "3076    798     6.0  [-0.06655853315203604, -0.5514048575240723, 20...   \n",
       "3077    799     0.0  [-0.1306167295768735, 0.04341834182422056, 95....   \n",
       "3078    799     2.0  [-0.1647178106375739, 0.0329583431620741, 113....   \n",
       "3079    799     4.0  [-0.3416462346835277, -0.5252111080701682, 225...   \n",
       "3080    799     6.0  [0.23849245802085092, -0.45543059486805604, 12...   \n",
       "\n",
       "     primitive         mse  \n",
       "0       circle   26.847162  \n",
       "1      zigzag1    6.117696  \n",
       "2       circle   37.900253  \n",
       "3       square    4.119106  \n",
       "4       circle  129.848048  \n",
       "...        ...         ...  \n",
       "3076    circle    2.862589  \n",
       "3077    circle    1.838850  \n",
       "3078       arc    0.909009  \n",
       "3079    circle   75.641601  \n",
       "3080    circle   14.961382  \n",
       "\n",
       "[3081 rows x 5 columns]"
      ]
     },
     "execution_count": 10,
     "metadata": {},
     "output_type": "execute_result"
    }
   ],
   "source": [
    "dfa"
   ]
  },
  {
   "cell_type": "code",
   "execution_count": null,
   "metadata": {},
   "outputs": [],
   "source": []
  },
  {
   "cell_type": "code",
   "execution_count": null,
   "metadata": {},
   "outputs": [],
   "source": [
    "print(len(dfa))"
   ]
  },
  {
   "cell_type": "code",
   "execution_count": null,
   "metadata": {},
   "outputs": [],
   "source": [
    "dfa.primitive.unique()"
   ]
  },
  {
   "cell_type": "code",
   "execution_count": null,
   "metadata": {},
   "outputs": [],
   "source": [
    "dfa[dfa['mse'] >= 10]"
   ]
  },
  {
   "cell_type": "code",
   "execution_count": 19,
   "metadata": {},
   "outputs": [],
   "source": [
    "idx = 83\n",
    "stroke_idx = 1"
   ]
  },
  {
   "cell_type": "code",
   "execution_count": 20,
   "metadata": {},
   "outputs": [
    {
     "data": {
      "image/png": "[encoded data removed]",
      "text/plain": [
       "<Figure size 1728x288 with 1 Axes>"
      ]
     },
     "metadata": {},
     "output_type": "display_data"
    }
   ],
   "source": [
    "# print(dict(filter(lambda x: x[0][0] == idx, M_name.items())))\n",
    "\n",
    "rd.show_these_sketches(\n",
    "    CONST.face_json,\n",
    "    [idx], \n",
    "    [str(idx)], \n",
    "    [[]], \n",
    "    num_pngs_per_row = 6,\n",
    "    row_figsize = 4,\n",
    "    column_figsize = 4,\n",
    ")\n",
    "\n"
   ]
  },
  {
   "cell_type": "code",
   "execution_count": 19,
   "metadata": {},
   "outputs": [],
   "source": [
    "strokes_spline_fitted = rd.process_quickdraw_to_part_convex_hull(\n",
    "    drawing_arr[idx],\n",
    "    list(CONST.face_parts_idx_dict.keys()),\n",
    "    b_spline_num_sampled_points=200,\n",
    ")\n",
    "\n",
    "# strokes_spline_fitted = rd.process_quickdraw_to_stroke_no_normalize(\n",
    "#     drawing_arr[idx], \n",
    "#     b_spline_num_sampled_points=200,\n",
    "# )\n",
    "# print(len(strokes_spline_fitted))"
   ]
  },
  {
   "cell_type": "code",
   "execution_count": null,
   "metadata": {},
   "outputs": [],
   "source": []
  },
  {
   "cell_type": "code",
   "execution_count": null,
   "metadata": {},
   "outputs": [],
   "source": [
    "from scipy.spatial import ConvexHull, convex_hull_plot_2d\n",
    "\n",
    "parts_indices = list(CONST.face_parts_idx_dict.keys())\n",
    "\n",
    "drawing_raw = np.asarray(drawing_arr[idx])\n",
    "drawing_raw[:,0] = np.cumsum(drawing_raw[:,0], 0) + 25\n",
    "drawing_raw[:,1] = np.cumsum(drawing_raw[:,1], 0) + 25\n",
    "\n",
    "parts = []\n",
    "part_idx_part = {}\n",
    "\n",
    "for k in parts_indices:\n",
    "    strokes = drawing_raw[drawing_raw[:,-1] == k]\n",
    "    if len(strokes) < 1:\n",
    "        continue\n",
    "    parts.append(strokes)\n",
    "    part_idx_part[k] = strokes[:,:2]"
   ]
  },
  {
   "cell_type": "code",
   "execution_count": null,
   "metadata": {},
   "outputs": [],
   "source": [
    "np.sum(parts[0][:,2] == 1)"
   ]
  },
  {
   "cell_type": "code",
   "execution_count": null,
   "metadata": {
    "scrolled": true
   },
   "outputs": [],
   "source": [
    "part = part_idx_part[2]\n",
    "strokes = part[:,:2]\n",
    "maxs = np.max(strokes, axis=0)\n",
    "mins = np.min(strokes, axis=0)\n",
    "ll = maxs - mins\n",
    "\n",
    "more_than_3 = len(strokes) >= 3\n",
    "has_length_x =  not np.isclose(ll[0], 0.0, rtol=1, atol=1e-05)\n",
    "has_length_y = not np.isclose(ll[1], 0.0, rtol=1, atol=1e-05)\n",
    "\n",
    "if more_than_3 and has_length_x and has_length_y:\n",
    "    hull = ConvexHull(strokes)\n",
    "    hull_vert = strokes[hull.vertices]\n",
    "else:\n",
    "\n",
    "    if not has_length_x:\n",
    "        reg = LinearRegression().fit(strokes[:,1].reshape(-1,1), strokes[:,0])\n",
    "        test_xs = np.linspace(mins[1], maxs[1], 30)\n",
    "        test_ys = reg.predict(test_xs.reshape(-1,1))\n",
    "        test_data  = np.hstack([test_xs.reshape(-1,1), test_ys.reshape(-1,1)])\n",
    "        mask = np.zeros(len(test_data))\n",
    "        mask[:10] = 1\n",
    "        np.random.shuffle(mask)\n",
    "        #test_data = test_data + (np.random.normal(0, 0.05, len(test_data)) * mask).reshape(-1,1)\n",
    "        test_data[:,1] = test_data[:,1] + (np.random.normal(0, 0.05, len(test_data)) * mask)\n",
    "        hull = ConvexHull(test_data)\n",
    "        hull_vert = np.hstack([\n",
    "            test_data[hull.vertices][:,1:],\n",
    "            test_data[hull.vertices][:,:1],\n",
    "        ])\n",
    "    else:\n",
    "        reg = LinearRegression().fit(strokes[:,0].reshape(-1,1), strokes[:,1])\n",
    "        test_xs = np.linspace(mins[0], maxs[0], 30)\n",
    "        test_ys = reg.predict(test_xs.reshape(-1,1))\n",
    "        test_data  = np.hstack([test_xs.reshape(-1,1), test_ys.reshape(-1,1)])\n",
    "        mask = np.zeros(len(test_data))\n",
    "        mask[:10] = 1\n",
    "        np.random.shuffle(mask)\n",
    "        \n",
    "        if not has_length_y:\n",
    "            test_data[:,1] = test_data[:,1] + (np.random.normal(0, 0.05, len(test_data)) * mask)\n",
    "        else:\n",
    "            test_data[:,0] = test_data[:,0] + (np.random.normal(0, 0.05, len(test_data)) * mask)\n",
    "        \n",
    "        hull = ConvexHull(test_data)\n",
    "        hull_vert = test_data[hull.vertices]\n",
    "\n",
    "plt.scatter(strokes[:,0], strokes[:,1], c='g')\n",
    "# plt.scatter(test_data[:,0], test_data[:,1], c='b', alpha=0.5)\n",
    "# plt.scatter(test_data[:,1], test_data[:,0], c='b', alpha=0.5)\n",
    "\n",
    "# hull_vert = np.concatenate([hull_vert, hull_vert[0].reshape(1,-1)])     \n",
    "plt.plot(hull_vert[:,0], hull_vert[:,1], c='g', alpha=0.3)\n",
    "plt.show()"
   ]
  },
  {
   "cell_type": "code",
   "execution_count": null,
   "metadata": {},
   "outputs": [],
   "source": [
    "plt.figure(figsize=(6,6))\n",
    "for i,(part, hull) in enumerate(zip(parts, strokes_spline_fitted)):\n",
    "#     if i != 1:\n",
    "#         continue\n",
    "    plt.plot(part[:,0], part[:,1], c='g')\n",
    "    #plt.scatter(part[:,0], part[:,1], s=1, c='g')\n",
    "    #plt.scatter(hull[:,0], hull[:,1], s=1, c='r', alpha=0.6)\n",
    "# plt.scatter(hulls[0][:,0], hulls[0][:,1])\n",
    "plt.xlim(0,w)\n",
    "plt.ylim(h,0)\n",
    "plt.show()"
   ]
  },
  {
   "cell_type": "code",
   "execution_count": null,
   "metadata": {
    "scrolled": true
   },
   "outputs": [],
   "source": [
    "f, (ax1, ax2) = plt.subplots(1, 2, figsize=(12, 6))\n",
    "\n",
    "for index, entry in dfa[dfa.image == idx].iterrows():\n",
    "    data = strokes_spline_fitted[entry.stroke]\n",
    "    \n",
    "    template_func = TEMPLATE_DICT[entry.primitive]\n",
    "    template = template_func(n)\n",
    "    \n",
    "    print(entry.M.reshape(3,3))\n",
    "    \n",
    "    result, mse = rd.get_transformed_template(template, data, entry.M.reshape(3,3),projective=use_projective)\n",
    "    ax1.scatter(result[:,0], result[:,1], label=\"transformed template\", s=1, c='r')\n",
    "    ax2.scatter(data[:,0], data[:,1], label=\"data\", alpha=0.5, s=1, c='g')\n",
    "    orig_data = part_idx_part[int(entry.stroke)]\n",
    "    ax2.plot(orig_data[:,0], orig_data[:,1], alpha=0.5, c='b')\n",
    "    \n",
    "#     ax1.plot(result[:,0], result[:,1], label=\"transformed template\", c='r')\n",
    "#     ax2.plot(data[:,0], data[:,1], label=\"data\", alpha=0.5,c='g')\n",
    "\n",
    "# plt.legend()\n",
    "# plt.xlim(0,w)\n",
    "# plt.ylim(h,0)\n",
    "\n",
    "ax1.axis(xmin=0,xmax=w)\n",
    "ax1.axis(ymin=h,ymax=0)\n",
    "\n",
    "ax2.axis(xmin=0,xmax=w)\n",
    "ax2.axis(ymin=h,ymax=0)\n",
    "\n",
    "plt.show()"
   ]
  },
  {
   "cell_type": "code",
   "execution_count": 29,
   "metadata": {},
   "outputs": [],
   "source": []
  },
  {
   "cell_type": "code",
   "execution_count": 20,
   "metadata": {},
   "outputs": [
    {
     "name": "stdout",
     "output_type": "stream",
     "text": [
      "[[ 0.6562  0.0192 45.9962]\n",
      " [-0.0372 -0.2341 77.7728]\n",
      " [ 0.      0.      1.    ]]\n",
      "30.428401582225533\n"
     ]
    }
   ],
   "source": [
    "entry = dfa[dfa.image == idx].iloc[2]\n",
    "data = strokes_spline_fitted[entry['stroke']]\n",
    "template_func = TEMPLATE_DICT[entry['primitive']]\n",
    "template = template_func(n)\n",
    "\n",
    "print(entry['M'].reshape(3,3))\n",
    "\n",
    "result, mse = rd.get_transformed_template(template, data, entry['M'].reshape(3,3),projective=use_projective)\n",
    "print(mse)"
   ]
  },
  {
   "cell_type": "code",
   "execution_count": 17,
   "metadata": {},
   "outputs": [
    {
     "data": {
      "text/html": [
       "<div>\n",
       "<style scoped>\n",
       "    .dataframe tbody tr th:only-of-type {\n",
       "        vertical-align: middle;\n",
       "    }\n",
       "\n",
       "    .dataframe tbody tr th {\n",
       "        vertical-align: top;\n",
       "    }\n",
       "\n",
       "    .dataframe thead th {\n",
       "        text-align: right;\n",
       "    }\n",
       "</style>\n",
       "<table border=\"1\" class=\"dataframe\">\n",
       "  <thead>\n",
       "    <tr style=\"text-align: right;\">\n",
       "      <th></th>\n",
       "      <th>image</th>\n",
       "      <th>stroke</th>\n",
       "      <th>M</th>\n",
       "      <th>primitive</th>\n",
       "      <th>mse</th>\n",
       "    </tr>\n",
       "  </thead>\n",
       "  <tbody>\n",
       "    <tr>\n",
       "      <th>315</th>\n",
       "      <td>83</td>\n",
       "      <td>0.0</td>\n",
       "      <td>[-0.12135445774080379, 0.12729385011427752, 11...</td>\n",
       "      <td>square</td>\n",
       "      <td>1.221216</td>\n",
       "    </tr>\n",
       "    <tr>\n",
       "      <th>316</th>\n",
       "      <td>83</td>\n",
       "      <td>2.0</td>\n",
       "      <td>[0.2968504097355662, 0.007759808020350079, 79....</td>\n",
       "      <td>semicircle</td>\n",
       "      <td>9.139419</td>\n",
       "    </tr>\n",
       "    <tr>\n",
       "      <th>317</th>\n",
       "      <td>83</td>\n",
       "      <td>4.0</td>\n",
       "      <td>[0.6561608022209431, 0.01919516397916056, 45.9...</td>\n",
       "      <td>zigzag1</td>\n",
       "      <td>30.428402</td>\n",
       "    </tr>\n",
       "    <tr>\n",
       "      <th>318</th>\n",
       "      <td>83</td>\n",
       "      <td>6.0</td>\n",
       "      <td>[-0.32040842540464826, -0.7209469619935103, 25...</td>\n",
       "      <td>circle</td>\n",
       "      <td>87.828024</td>\n",
       "    </tr>\n",
       "  </tbody>\n",
       "</table>\n",
       "</div>"
      ],
      "text/plain": [
       "     image  stroke                                                  M  \\\n",
       "315     83     0.0  [-0.12135445774080379, 0.12729385011427752, 11...   \n",
       "316     83     2.0  [0.2968504097355662, 0.007759808020350079, 79....   \n",
       "317     83     4.0  [0.6561608022209431, 0.01919516397916056, 45.9...   \n",
       "318     83     6.0  [-0.32040842540464826, -0.7209469619935103, 25...   \n",
       "\n",
       "      primitive        mse  \n",
       "315      square   1.221216  \n",
       "316  semicircle   9.139419  \n",
       "317     zigzag1  30.428402  \n",
       "318      circle  87.828024  "
      ]
     },
     "execution_count": 17,
     "metadata": {},
     "output_type": "execute_result"
    }
   ],
   "source": [
    "dfa[dfa.image == idx]"
   ]
  },
  {
   "cell_type": "code",
   "execution_count": null,
   "metadata": {},
   "outputs": [],
   "source": [
    "from sklearn.metrics import mean_squared_error\n"
   ]
  },
  {
   "cell_type": "code",
   "execution_count": 34,
   "metadata": {},
   "outputs": [
    {
     "data": {
      "text/plain": [
       "1.4166666666666667"
      ]
     },
     "execution_count": 34,
     "metadata": {},
     "output_type": "execute_result"
    }
   ],
   "source": [
    "xt = np.asarray([[0.5, 1], [-1, 1], [7, -6]])\n",
    "dst = np.asarray([[0, 2], [-1, 2], [8, -5]])\n",
    "d = np.zeros(np.shape(xt))\n",
    "d[:,0] = xt[:,0]-dst[:,0]\n",
    "d[:,1] = xt[:,1]-dst[:,1]\n",
    "r = np.sum(np.square(d[:,0])+np.square(d[:,1]))\n",
    "r/3"
   ]
  },
  {
   "cell_type": "code",
   "execution_count": 36,
   "metadata": {},
   "outputs": [
    {
     "data": {
      "text/plain": [
       "array([0.4167, 1.    ])"
      ]
     },
     "execution_count": 36,
     "metadata": {},
     "output_type": "execute_result"
    }
   ],
   "source": [
    "mean_squared_error(xt,dst,multioutput='raw_values')"
   ]
  },
  {
   "cell_type": "code",
   "execution_count": 38,
   "metadata": {
    "scrolled": true
   },
   "outputs": [
    {
     "data": {
      "text/plain": [
       "60.85678989881457"
      ]
     },
     "execution_count": 38,
     "metadata": {},
     "output_type": "execute_result"
    }
   ],
   "source": [
    "def fit_transformation_loss(T,src,dst):\n",
    "    \n",
    "    n = np.size(src,0)\n",
    "    xt = np.ones([n,3])\n",
    "    xt[:,:-1] = src\n",
    "    xt = xt @ T.T\n",
    "    #xt = xt.T\n",
    "    d = np.zeros(np.shape(src))\n",
    "    d[:,0] = xt[:,0]-dst[:,0]\n",
    "    d[:,1] = xt[:,1]-dst[:,1]\n",
    "    r = np.sum(np.square(d[:,0])+np.square(d[:,1]))\n",
    "    return r/n\n",
    "\n",
    "fit_transformation_loss(entry['M'].reshape(3,3), template, data)"
   ]
  },
  {
   "cell_type": "code",
   "execution_count": 39,
   "metadata": {},
   "outputs": [
    {
     "data": {
      "text/plain": [
       "array([[ 0.6562,  0.0192, 45.9962],\n",
       "       [-0.0372, -0.2341, 77.7728],\n",
       "       [ 0.    ,  0.    ,  1.    ]])"
      ]
     },
     "execution_count": 39,
     "metadata": {},
     "output_type": "execute_result"
    }
   ],
   "source": [
    "entry['M'].reshape(3,3)"
   ]
  },
  {
   "cell_type": "code",
   "execution_count": null,
   "metadata": {},
   "outputs": [],
   "source": [
    "dfa[dfa.image == idx].M[98].reshape((3,3))"
   ]
  },
  {
   "cell_type": "code",
   "execution_count": null,
   "metadata": {},
   "outputs": [],
   "source": [
    "dfa[dfa.image == idx].M[99].reshape((3,3))"
   ]
  },
  {
   "cell_type": "code",
   "execution_count": 11,
   "metadata": {},
   "outputs": [],
   "source": [
    "# dfn = new_df_pair()\n",
    "dfo = pd.read_csv('/raid/xiaoyuz1/amazon_turk/df_all.csv')\n",
    "dfo['no_punc_1'] = dfo.no_punc_1.apply(lambda x: [str(y).strip()[1:-1] for y in x[1:-1].split(',')])\n",
    "# dfn = new_df_pair()\n",
    "dfp = pd.read_csv('/raid/xiaoyuz1/amazon_turk/df_all_pair.csv')\n",
    "dfp['no_punc_1'] = dfp.no_punc_1.apply(lambda x: [str(y).strip()[1:-1] for y in x[1:-1].split(',')])\n",
    "dfp['no_punc_2'] = dfp.no_punc_2.apply(lambda x: [str(y).strip()[1:-1] for y in x[1:-1].split(',')])"
   ]
  },
  {
   "cell_type": "code",
   "execution_count": 13,
   "metadata": {},
   "outputs": [
    {
     "data": {
      "text/plain": [
       "[[139.36842105263156, 4.21052631578948, 0, 6],\n",
       " [-2.10526315789474, -1.2631578947368496, 0, 6],\n",
       " [-2.10526315789474, -0.8421052631578902, 0, 6],\n",
       " [-4.21052631578948, -0.8421052631578902, 0, 6],\n",
       " [-2.10526315789474, 0.0, 0, 6],\n",
       " [-4.210526315789423, -0.8421052631579045, 0, 6],\n",
       " [-2.10526315789474, 0.0, 0, 6],\n",
       " [-2.10526315789474, -0.4210526315789451, 0, 6],\n",
       " [-24.0, 0.0, 0, 6],\n",
       " [-2.10526315789474, 0.4210526315789451, 0, 6],\n",
       " [-2.10526315789474, 0.0, 0, 6],\n",
       " [-2.10526315789474, 0.4210526315789451, 0, 6],\n",
       " [-2.10526315789474, 0.0, 0, 6],\n",
       " [-6.736842105263179, 1.2631578947368496, 0, 6],\n",
       " [-2.10526315789474, 0.8421052631578902, 0, 6],\n",
       " [-4.21052631578948, 0.8421052631579045, 0, 6],\n",
       " [-6.315789473684163, 2.526315789473685, 0, 6],\n",
       " [-2.10526315789474, 0.4210526315789451, 0, 6],\n",
       " [-2.10526315789474, 0.8421052631578902, 0, 6],\n",
       " [-2.10526315789474, 1.2631578947368354, 0, 6],\n",
       " [-2.10526315789474, 0.8421052631579045, 0, 6],\n",
       " [-14.736842105263179, 8.84210526315789, 0, 6],\n",
       " [-6.3157894736842195, 5.05263157894737, 0, 6],\n",
       " [-1.6842105263157805, 2.10526315789474, 0, 6],\n",
       " [-2.10526315789474, 1.6842105263157805, 0, 6],\n",
       " [-2.10526315789474, 2.526315789473685, 0, 6],\n",
       " [-2.10526315789474, 2.105263157894754, 0, 6],\n",
       " [-8.842105263157862, 10.94736842105263, 0, 6],\n",
       " [-2.10526315789474, 2.10526315789474, 0, 6],\n",
       " [-1.6842105263157805, 2.5263157894736707, 0, 6],\n",
       " [-2.10526315789474, 2.10526315789474, 0, 6],\n",
       " [-1.6842105263158373, 2.10526315789474, 0, 6],\n",
       " [-1.2631578947368212, 2.5263157894736707, 0, 6],\n",
       " [-1.6842105263157805, 2.10526315789474, 0, 6],\n",
       " [-0.8421052631579187, 2.10526315789474, 0, 6],\n",
       " [-1.2631578947368212, 2.10526315789474, 0, 6],\n",
       " [-0.8421052631579187, 2.10526315789474, 0, 6],\n",
       " [-1.2631578947368212, 2.10526315789474, 0, 6],\n",
       " [-0.8421052631579187, 2.5263157894736707, 0, 6],\n",
       " [-0.4210526315789025, 2.10526315789474, 0, 6],\n",
       " [-0.8421052631579187, 2.10526315789474, 0, 6],\n",
       " [-0.8421052631578618, 4.631578947368411, 0, 6],\n",
       " [-0.8421052631579187, 2.10526315789474, 0, 6],\n",
       " [-0.8421052631579187, 5.05263157894737, 0, 6],\n",
       " [0.0, 2.10526315789474, 0, 6],\n",
       " [-1.6842105263157805, 9.26315789473685, 0, 6],\n",
       " [0.0, 2.5263157894736707, 0, 6],\n",
       " [-0.42105263157895934, 2.10526315789474, 0, 6],\n",
       " [0.0, 2.94736842105263, 0, 6],\n",
       " [-0.4210526315789025, 2.94736842105263, 0, 6],\n",
       " [0.0, 8.42105263157896, 0, 6],\n",
       " [0.4210526315789025, 2.94736842105263, 0, 6],\n",
       " [0.0, 2.10526315789474, 0, 6],\n",
       " [1.6842105263158373, 10.10526315789474, 0, 6],\n",
       " [0.8421052631578618, 2.10526315789474, 0, 6],\n",
       " [0.0, 2.10526315789474, 0, 6],\n",
       " [0.8421052631579187, 2.5263157894736707, 0, 6],\n",
       " [0.42105263157895934, 2.10526315789474, 0, 6],\n",
       " [2.105263157894683, 4.631578947368411, 0, 6],\n",
       " [1.6842105263158373, 2.10526315789474, 0, 6],\n",
       " [1.2631578947368212, 2.10526315789474, 0, 6],\n",
       " [5.473684210526301, 6.73684210526315, 0, 6],\n",
       " [2.9473684210526585, 2.10526315789474, 0, 6],\n",
       " [5.473684210526301, 5.052631578947398, 0, 6],\n",
       " [9.263157894736821, 5.473684210526301, 0, 6],\n",
       " [11.789473684210577, 4.631578947368439, 0, 6],\n",
       " [2.5263157894736423, 0.4210526315789025, 0, 6],\n",
       " [5.052631578947398, 1.6842105263157805, 0, 6],\n",
       " [10.947368421052602, 2.10526315789474, 0, 6],\n",
       " [2.526315789473699, 0.42105263157895934, 0, 6],\n",
       " [2.526315789473699, 0.0, 0, 6],\n",
       " [5.473684210526301, 0.8421052631579187, 0, 6],\n",
       " [19.78947368421052, 0.0, 0, 6],\n",
       " [3.7894736842105203, -0.42105263157895934, 0, 6],\n",
       " [2.10526315789474, 0.0, 0, 6],\n",
       " [2.526315789473699, -0.42105263157895934, 0, 6],\n",
       " [2.526315789473699, 0.0, 0, 6],\n",
       " [10.526315789473642, -1.6842105263157805, 0, 6],\n",
       " [2.9473684210526585, -0.42105263157895934, 0, 6],\n",
       " [2.9473684210526017, -0.8421052631578618, 0, 6],\n",
       " [12.631578947368439, -4.631578947368439, 0, 6],\n",
       " [2.10526315789474, -1.2631578947368212, 0, 6],\n",
       " [9.263157894736821, -4.21052631578948, 0, 6],\n",
       " [2.10526315789474, -1.263157894736878, 0, 6],\n",
       " [10.5263157894737, -4.631578947368411, 0, 6],\n",
       " [2.10526315789474, -1.6842105263157805, 0, 6],\n",
       " [6.736842105263179, -3.7894736842105203, 0, 6],\n",
       " [7.157894736842081, -5.05263157894737, 0, 6],\n",
       " [5.473684210526358, -4.631578947368411, 0, 6],\n",
       " [2.5263157894736423, -2.9473684210526585, 0, 6],\n",
       " [4.631578947368439, -7.578947368421041, 0, 6],\n",
       " [4.631578947368439, -11.78947368421052, 0, 6],\n",
       " [3.7894736842105203, -9.68421052631578, 0, 6],\n",
       " [0.8421052631579187, -2.10526315789474, 0, 6],\n",
       " [1.2631578947367643, -6.3157894736842195, 0, 6],\n",
       " [0.0, -9.26315789473685, 0, 6],\n",
       " [-1.2631578947367643, -7.15789473684211, 0, 6],\n",
       " [0.0, -2.10526315789474, 0, 6],\n",
       " [-0.8421052631579187, -5.473684210526301, 0, 6],\n",
       " [0.0, -2.10526315789474, 0, 6],\n",
       " [-0.42105263157895934, -2.5263157894736707, 0, 6],\n",
       " [0.0, -2.94736842105263, 0, 6],\n",
       " [-1.263157894736878, -6.3157894736842195, 0, 6],\n",
       " [-1.6842105263157237, -4.631578947368439, 0, 6],\n",
       " [-1.263157894736878, -2.1052631578947114, 0, 6],\n",
       " [-5.052631578947398, -13.47368421052633, 0, 6],\n",
       " [-1.2631578947367643, -2.10526315789474, 0, 6],\n",
       " [-1.6842105263158373, -4.631578947368411, 0, 6],\n",
       " [-3.368421052631561, -4.631578947368425, 0, 6],\n",
       " [-1.263157894736878, -2.10526315789474, 0, 6],\n",
       " [-6.736842105263122, -8.421052631578945, 0, 6],\n",
       " [-2.10526315789474, -2.526315789473685, 0, 6],\n",
       " [-2.10526315789474, -1.2631578947368496, 0, 6],\n",
       " [-2.10526315789474, -1.6842105263157805, 0, 6],\n",
       " [-2.10526315789474, -1.2631578947368496, 0, 6],\n",
       " [-2.10526315789474, -1.6842105263157805, 0, 6],\n",
       " [-2.10526315789474, -1.2631578947368496, 0, 6],\n",
       " [-2.10526315789474, -0.8421052631578902, 0, 6],\n",
       " [-4.21052631578948, -2.526315789473685, 0, 6],\n",
       " [-2.10526315789474, -0.8421052631578902, 0, 6],\n",
       " [-2.10526315789474, -1.2631578947368496, 0, 6],\n",
       " [-2.10526315789474, -0.8421052631578902, 0, 6],\n",
       " [-6.3157894736842195, -1.2631578947368496, 0, 6],\n",
       " [-0.8421052631578618, 0.0, 1, 6],\n",
       " [-80.42105263157896, 56.84210526315789, 0, 0],\n",
       " [2.10526315789474, -1.2631578947368212, 0, 0],\n",
       " [1.2631578947368212, -2.10526315789474, 0, 0],\n",
       " [3.7894736842105203, -4.631578947368439, 0, 0],\n",
       " [2.10526315789474, -2.10526315789474, 0, 0],\n",
       " [5.89473684210526, -7.578947368421041, 0, 0],\n",
       " [1.263157894736878, -2.5263157894736707, 0, 0],\n",
       " [3.368421052631561, -4.631578947368439, 0, 0],\n",
       " [2.10526315789474, -2.10526315789474, 0, 0],\n",
       " [2.10526315789474, -1.6842105263157805, 0, 0],\n",
       " [2.10526315789474, 1.2631578947368496, 0, 0],\n",
       " [0.8421052631579187, 2.10526315789474, 0, 0],\n",
       " [0.4210526315789025, 2.10526315789474, 0, 0],\n",
       " [0.8421052631579187, 2.1052631578947114, 0, 0],\n",
       " [0.42105263157895934, 2.10526315789474, 0, 0],\n",
       " [0.8421052631578618, 2.526315789473699, 0, 0],\n",
       " [3.7894736842105203, 7.15789473684211, 0, 0],\n",
       " [0.8421052631579187, 2.10526315789474, 0, 0],\n",
       " [0.42105263157895934, 2.1052631578947114, 0, 0],\n",
       " [1.2631578947368212, 1.684210526315809, 1, 0],\n",
       " [23.57894736842104, 6.73684210526315, 0, 0],\n",
       " [4.21052631578948, -4.21052631578948, 0, 0],\n",
       " [1.6842105263157805, -2.10526315789474, 0, 0],\n",
       " [2.10526315789474, -2.10526315789474, 0, 0],\n",
       " [2.10526315789474, -1.6842105263157805, 0, 0],\n",
       " [7.157894736842138, -7.15789473684211, 0, 0],\n",
       " [8.0, -6.73684210526315, 0, 0],\n",
       " [2.10526315789474, -0.8421052631578902, 0, 0],\n",
       " [2.10526315789474, 0.8421052631578902, 0, 0],\n",
       " [0.4210526315789025, 2.10526315789474, 0, 0],\n",
       " [0.0, 2.10526315789474, 0, 0],\n",
       " [0.42105263157895934, 2.10526315789474, 0, 0],\n",
       " [0.8421052631579187, 2.5263157894736707, 0, 0],\n",
       " [1.2631578947368212, 6.3157894736842195, 0, 0],\n",
       " [0.8421052631579187, 2.10526315789474, 0, 0],\n",
       " [0.8421052631578618, 4.631578947368411, 0, 0],\n",
       " [1.6842105263157805, 4.631578947368411, 0, 0],\n",
       " [1.263157894736878, 0.8421052631579187, 1, 0],\n",
       " [-88.0, 44.21052631578945, 0, 2],\n",
       " [-0.42105263157895934, 2.526315789473699, 0, 2],\n",
       " [-2.9473684210526585, 7.15789473684211, 0, 2],\n",
       " [-0.8421052631578618, 4.631578947368411, 0, 2],\n",
       " [0.0, 2.526315789473699, 0, 2],\n",
       " [0.8421052631578618, 2.5263157894736707, 0, 2],\n",
       " [2.526315789473699, 4.21052631578948, 0, 2],\n",
       " [3.7894736842105203, 4.631578947368411, 0, 2],\n",
       " [2.10526315789474, 0.8421052631578902, 0, 2],\n",
       " [2.10526315789474, 1.2631578947368496, 0, 2],\n",
       " [6.3157894736842195, 1.2631578947368496, 0, 2],\n",
       " [2.10526315789474, 0.0, 0, 2],\n",
       " [2.526315789473699, -0.42105263157895934, 0, 2],\n",
       " [2.5263157894736423, -0.8421052631578902, 0, 2],\n",
       " [11.368421052631618, -5.89473684210526, 0, 2],\n",
       " [2.10526315789474, -2.10526315789474, 0, 2],\n",
       " [2.5263157894736423, -4.21052631578948, 0, 2],\n",
       " [0.8421052631579187, -2.10526315789474, 0, 2],\n",
       " [0.42105263157895934, -2.1052631578947114, 0, 2],\n",
       " [0.0, -2.10526315789474, 0, 2],\n",
       " [-1.6842105263157805, 2.10526315789474, 0, 2],\n",
       " [-0.42105263157895934, 2.5263157894736707, 0, 2],\n",
       " [-0.8421052631579187, 2.10526315789474, 0, 2],\n",
       " [0.0, 4.21052631578948, 0, 2],\n",
       " [0.42105263157895934, 2.10526315789474, 0, 2],\n",
       " [1.6842105263157805, 2.5263157894736707, 0, 2],\n",
       " [2.526315789473699, 1.6842105263157805, 0, 2],\n",
       " [2.526315789473699, 1.2631578947368496, 0, 2],\n",
       " [2.9473684210526017, 0.8421052631578902, 0, 2],\n",
       " [2.9473684210526585, 0.42105263157895934, 0, 2],\n",
       " [5.0526315789473415, 0.0, 0, 2],\n",
       " [4.21052631578948, -0.8421052631578902, 0, 2],\n",
       " [2.10526315789474, -1.2631578947368496, 0, 2],\n",
       " [4.21052631578948, -4.21052631578948, 0, 2],\n",
       " [1.6842105263157805, -2.10526315789474, 0, 2],\n",
       " [2.526315789473699, -4.631578947368411, 0, 2],\n",
       " [0.42105263157895934, -2.10526315789474, 0, 2],\n",
       " [0.0, -7.15789473684211, 0, 2],\n",
       " [-0.8421052631579187, 0.0, 1, 2],\n",
       " [-32.84210526315786, -39.57894736842104, 0, 1],\n",
       " [0.0, 2.5263157894736707, 0, 1],\n",
       " [0.4210526315789025, 2.10526315789474, 0, 1],\n",
       " [0.0, 2.10526315789474, 0, 1],\n",
       " [0.42105263157895934, 2.10526315789474, 1, 1],\n",
       " [82.52631578947364, -71.15789473684211, 0, 3],\n",
       " [2.526315789473756, 0.4210526315789451, 0, 3],\n",
       " [3.368421052631561, 1.6842105263157947, 0, 3],\n",
       " [2.105263157894683, 1.6842105263157947, 0, 3],\n",
       " [2.1052631578947967, 2.1052631578947256, 0, 3],\n",
       " [3.368421052631561, 4.631578947368425, 0, 3],\n",
       " [1.263157894736878, 2.526315789473685, 0, 3],\n",
       " [0.8421052631579187, 2.5263157894736707, 0, 3],\n",
       " [0.42105263157884565, 2.526315789473699, 0, 3],\n",
       " [0.0, 2.10526315789474, 0, 3],\n",
       " [-0.42105263157884565, 2.10526315789474, 0, 3],\n",
       " [-2.1052631578947967, 1.6842105263157805, 0, 3],\n",
       " [-4.631578947368439, 2.10526315789474, 0, 3],\n",
       " [-0.42105263157895934, 0.42105263157895934, 1, 3],\n",
       " [-159.99999999999994, -21.052631578947384, 0, 3],\n",
       " [-2.10526315789474, -0.8421052631578902, 0, 3],\n",
       " [-5.473684210526358, -0.8421052631578902, 0, 3],\n",
       " [-2.9473684210526017, 0.0, 0, 3],\n",
       " [-2.526315789473699, 0.4210526315789451, 0, 3],\n",
       " [-2.526315789473699, 0.8421052631578902, 0, 3],\n",
       " [-4.631578947368382, 2.94736842105263, 0, 3],\n",
       " [-5.052631578947398, 4.631578947368425, 0, 3],\n",
       " [-6.3157894736842195, 9.263157894736835, 0, 3],\n",
       " [-0.8421052631578618, 2.526315789473699, 0, 3],\n",
       " [0.0, 0.8421052631578902, 1, 3]]"
      ]
     },
     "execution_count": 13,
     "metadata": {},
     "output_type": "execute_result"
    }
   ],
   "source": [
    "drawing_arr[722]"
   ]
  },
  {
   "cell_type": "code",
   "execution_count": 12,
   "metadata": {},
   "outputs": [
    {
     "data": {
      "text/html": [
       "<div>\n",
       "<style scoped>\n",
       "    .dataframe tbody tr th:only-of-type {\n",
       "        vertical-align: middle;\n",
       "    }\n",
       "\n",
       "    .dataframe tbody tr th {\n",
       "        vertical-align: top;\n",
       "    }\n",
       "\n",
       "    .dataframe thead th {\n",
       "        text-align: right;\n",
       "    }\n",
       "</style>\n",
       "<table border=\"1\" class=\"dataframe\">\n",
       "  <thead>\n",
       "    <tr style=\"text-align: right;\">\n",
       "      <th></th>\n",
       "      <th>image_1</th>\n",
       "      <th>worker_id</th>\n",
       "      <th>part</th>\n",
       "      <th>category</th>\n",
       "      <th>time</th>\n",
       "      <th>folder</th>\n",
       "      <th>text_1</th>\n",
       "      <th>tokenized_1</th>\n",
       "      <th>lower_1</th>\n",
       "      <th>no_punc_1</th>\n",
       "      <th>no_punc_str_1</th>\n",
       "    </tr>\n",
       "  </thead>\n",
       "  <tbody>\n",
       "    <tr>\n",
       "      <th>0</th>\n",
       "      <td>722</td>\n",
       "      <td>AKQAI78JTXXC9</td>\n",
       "      <td>0</td>\n",
       "      <td>face</td>\n",
       "      <td>353.0</td>\n",
       "      <td>/raid/xiaoyuz1/amazon_turk/2022_03_21_release</td>\n",
       "      <td>linear</td>\n",
       "      <td>['linear']</td>\n",
       "      <td>['linear']</td>\n",
       "      <td>[linear]</td>\n",
       "      <td>linear</td>\n",
       "    </tr>\n",
       "    <tr>\n",
       "      <th>1</th>\n",
       "      <td>260</td>\n",
       "      <td>AKQAI78JTXXC9</td>\n",
       "      <td>0</td>\n",
       "      <td>face</td>\n",
       "      <td>353.0</td>\n",
       "      <td>/raid/xiaoyuz1/amazon_turk/2022_03_21_release</td>\n",
       "      <td>open oval</td>\n",
       "      <td>['open', 'oval']</td>\n",
       "      <td>['open', 'oval']</td>\n",
       "      <td>[open, oval]</td>\n",
       "      <td>open oval</td>\n",
       "    </tr>\n",
       "    <tr>\n",
       "      <th>2</th>\n",
       "      <td>556</td>\n",
       "      <td>AKQAI78JTXXC9</td>\n",
       "      <td>1</td>\n",
       "      <td>face</td>\n",
       "      <td>353.0</td>\n",
       "      <td>/raid/xiaoyuz1/amazon_turk/2022_03_21_release</td>\n",
       "      <td>small curved</td>\n",
       "      <td>['small', 'curved']</td>\n",
       "      <td>['small', 'curved']</td>\n",
       "      <td>[small, curved]</td>\n",
       "      <td>small curved</td>\n",
       "    </tr>\n",
       "    <tr>\n",
       "      <th>3</th>\n",
       "      <td>144</td>\n",
       "      <td>AKQAI78JTXXC9</td>\n",
       "      <td>1</td>\n",
       "      <td>face</td>\n",
       "      <td>353.0</td>\n",
       "      <td>/raid/xiaoyuz1/amazon_turk/2022_03_21_release</td>\n",
       "      <td>large curved</td>\n",
       "      <td>['large', 'curved']</td>\n",
       "      <td>['large', 'curved']</td>\n",
       "      <td>[large, curved]</td>\n",
       "      <td>large curved</td>\n",
       "    </tr>\n",
       "    <tr>\n",
       "      <th>4</th>\n",
       "      <td>419</td>\n",
       "      <td>AKQAI78JTXXC9</td>\n",
       "      <td>2</td>\n",
       "      <td>face</td>\n",
       "      <td>353.0</td>\n",
       "      <td>/raid/xiaoyuz1/amazon_turk/2022_03_21_release</td>\n",
       "      <td>wide u-shaped</td>\n",
       "      <td>['wide', 'u', '-']</td>\n",
       "      <td>['wide', 'u', '-']</td>\n",
       "      <td>[wide, u]</td>\n",
       "      <td>wide u</td>\n",
       "    </tr>\n",
       "    <tr>\n",
       "      <th>...</th>\n",
       "      <td>...</td>\n",
       "      <td>...</td>\n",
       "      <td>...</td>\n",
       "      <td>...</td>\n",
       "      <td>...</td>\n",
       "      <td>...</td>\n",
       "      <td>...</td>\n",
       "      <td>...</td>\n",
       "      <td>...</td>\n",
       "      <td>...</td>\n",
       "      <td>...</td>\n",
       "    </tr>\n",
       "    <tr>\n",
       "      <th>11145</th>\n",
       "      <td>280</td>\n",
       "      <td>APGX2WZ59OWDN</td>\n",
       "      <td>5</td>\n",
       "      <td>angel</td>\n",
       "      <td>239.0</td>\n",
       "      <td>/raid/xiaoyuz1/amazon_turk/2022_04_06_release_3</td>\n",
       "      <td>serrated</td>\n",
       "      <td>['serrate']</td>\n",
       "      <td>['serrate']</td>\n",
       "      <td>[serrate]</td>\n",
       "      <td>serrate</td>\n",
       "    </tr>\n",
       "    <tr>\n",
       "      <th>11146</th>\n",
       "      <td>736</td>\n",
       "      <td>APGX2WZ59OWDN</td>\n",
       "      <td>7</td>\n",
       "      <td>angel</td>\n",
       "      <td>239.0</td>\n",
       "      <td>/raid/xiaoyuz1/amazon_turk/2022_04_06_release_3</td>\n",
       "      <td>butterfly-shaped</td>\n",
       "      <td>['butterfly', '-']</td>\n",
       "      <td>['butterfly', '-']</td>\n",
       "      <td>[butterfly]</td>\n",
       "      <td>butterfly</td>\n",
       "    </tr>\n",
       "    <tr>\n",
       "      <th>11147</th>\n",
       "      <td>477</td>\n",
       "      <td>APGX2WZ59OWDN</td>\n",
       "      <td>7</td>\n",
       "      <td>angel</td>\n",
       "      <td>239.0</td>\n",
       "      <td>/raid/xiaoyuz1/amazon_turk/2022_04_06_release_3</td>\n",
       "      <td>bumpy</td>\n",
       "      <td>['bumpy']</td>\n",
       "      <td>['bumpy']</td>\n",
       "      <td>[bumpy]</td>\n",
       "      <td>bumpy</td>\n",
       "    </tr>\n",
       "    <tr>\n",
       "      <th>11148</th>\n",
       "      <td>614</td>\n",
       "      <td>APGX2WZ59OWDN</td>\n",
       "      <td>4</td>\n",
       "      <td>angel</td>\n",
       "      <td>239.0</td>\n",
       "      <td>/raid/xiaoyuz1/amazon_turk/2022_04_06_release_3</td>\n",
       "      <td>rectangular</td>\n",
       "      <td>['rectangular']</td>\n",
       "      <td>['rectangular']</td>\n",
       "      <td>[rectangular]</td>\n",
       "      <td>rectangular</td>\n",
       "    </tr>\n",
       "    <tr>\n",
       "      <th>11149</th>\n",
       "      <td>693</td>\n",
       "      <td>APGX2WZ59OWDN</td>\n",
       "      <td>4</td>\n",
       "      <td>angel</td>\n",
       "      <td>239.0</td>\n",
       "      <td>/raid/xiaoyuz1/amazon_turk/2022_04_06_release_3</td>\n",
       "      <td>tilted</td>\n",
       "      <td>['tilt']</td>\n",
       "      <td>['tilt']</td>\n",
       "      <td>[tilt]</td>\n",
       "      <td>tilt</td>\n",
       "    </tr>\n",
       "  </tbody>\n",
       "</table>\n",
       "<p>11150 rows × 11 columns</p>\n",
       "</div>"
      ],
      "text/plain": [
       "       image_1      worker_id  part category   time  \\\n",
       "0          722  AKQAI78JTXXC9     0     face  353.0   \n",
       "1          260  AKQAI78JTXXC9     0     face  353.0   \n",
       "2          556  AKQAI78JTXXC9     1     face  353.0   \n",
       "3          144  AKQAI78JTXXC9     1     face  353.0   \n",
       "4          419  AKQAI78JTXXC9     2     face  353.0   \n",
       "...        ...            ...   ...      ...    ...   \n",
       "11145      280  APGX2WZ59OWDN     5    angel  239.0   \n",
       "11146      736  APGX2WZ59OWDN     7    angel  239.0   \n",
       "11147      477  APGX2WZ59OWDN     7    angel  239.0   \n",
       "11148      614  APGX2WZ59OWDN     4    angel  239.0   \n",
       "11149      693  APGX2WZ59OWDN     4    angel  239.0   \n",
       "\n",
       "                                                folder            text_1  \\\n",
       "0        /raid/xiaoyuz1/amazon_turk/2022_03_21_release            linear   \n",
       "1        /raid/xiaoyuz1/amazon_turk/2022_03_21_release         open oval   \n",
       "2        /raid/xiaoyuz1/amazon_turk/2022_03_21_release      small curved   \n",
       "3        /raid/xiaoyuz1/amazon_turk/2022_03_21_release      large curved   \n",
       "4        /raid/xiaoyuz1/amazon_turk/2022_03_21_release     wide u-shaped   \n",
       "...                                                ...               ...   \n",
       "11145  /raid/xiaoyuz1/amazon_turk/2022_04_06_release_3          serrated   \n",
       "11146  /raid/xiaoyuz1/amazon_turk/2022_04_06_release_3  butterfly-shaped   \n",
       "11147  /raid/xiaoyuz1/amazon_turk/2022_04_06_release_3             bumpy   \n",
       "11148  /raid/xiaoyuz1/amazon_turk/2022_04_06_release_3       rectangular   \n",
       "11149  /raid/xiaoyuz1/amazon_turk/2022_04_06_release_3            tilted   \n",
       "\n",
       "               tokenized_1              lower_1        no_punc_1 no_punc_str_1  \n",
       "0               ['linear']           ['linear']         [linear]        linear  \n",
       "1         ['open', 'oval']     ['open', 'oval']     [open, oval]     open oval  \n",
       "2      ['small', 'curved']  ['small', 'curved']  [small, curved]  small curved  \n",
       "3      ['large', 'curved']  ['large', 'curved']  [large, curved]  large curved  \n",
       "4       ['wide', 'u', '-']   ['wide', 'u', '-']        [wide, u]        wide u  \n",
       "...                    ...                  ...              ...           ...  \n",
       "11145          ['serrate']          ['serrate']        [serrate]       serrate  \n",
       "11146   ['butterfly', '-']   ['butterfly', '-']      [butterfly]     butterfly  \n",
       "11147            ['bumpy']            ['bumpy']          [bumpy]         bumpy  \n",
       "11148      ['rectangular']      ['rectangular']    [rectangular]   rectangular  \n",
       "11149             ['tilt']             ['tilt']           [tilt]          tilt  \n",
       "\n",
       "[11150 rows x 11 columns]"
      ]
     },
     "execution_count": 12,
     "metadata": {},
     "output_type": "execute_result"
    }
   ],
   "source": [
    "dfo"
   ]
  },
  {
   "cell_type": "code",
   "execution_count": null,
   "metadata": {
    "scrolled": true
   },
   "outputs": [],
   "source": [
    "dfo[(dfo['image_1'] == idx)]"
   ]
  },
  {
   "cell_type": "code",
   "execution_count": null,
   "metadata": {
    "scrolled": true
   },
   "outputs": [],
   "source": [
    "reload(rd)\n",
    "M_arr_idx, M_name_idx, M_mse_idx = {},{},{}\n",
    "\n",
    "template_dict = {\n",
    "    #'arc' : lambda n : rd.generate_arc(n1=n),\n",
    "    'circle' : lambda n : rd.generate_circle(n1=n, radius=100, x0=100, y0=100, template_size=256),\n",
    "    'square' : lambda n : rd.generate_square(n1=n, template_size=256),\n",
    "    'semicircle' : lambda n : rd.generate_semicircle(n1=n, radius=100, x0=100, y0=100, template_size=256),\n",
    "    'zigzag3' : lambda n : rd.generate_zigzag3(n1=n, template_size=256),\n",
    "    #'zigzag1' : lambda n : rd.generate_zigzag1(n1=n, template_size=256),\n",
    "    'zigzag5' : lambda n : rd.generate_zigzag(n1=n,num_fold=5, template_size=256),\n",
    "    'zigzag7' : lambda n : rd.generate_zigzag(n1=n,num_fold=7, template_size=256),\n",
    "    'zigzag10' : lambda n : rd.generate_zigzag(n1=n,num_fold=10, template_size=256),\n",
    "}\n",
    "\n",
    "\n",
    "for stroke_index, data in enumerate(strokes_spline_fitted):\n",
    "    mat, prim_name, prim_mse = rd.get_transform_smallest_mse(data, template_dict, \\\n",
    "                                                            n=200, use_projective=True)\n",
    "    M_arr_idx[(idx, stroke_index)] = mat\n",
    "    M_name_idx[(idx, stroke_index)] = prim_name\n",
    "    M_mse_idx[(idx, stroke_index)] = prim_mse"
   ]
  },
  {
   "cell_type": "code",
   "execution_count": null,
   "metadata": {},
   "outputs": [],
   "source": [
    "f, (ax1, ax2) = plt.subplots(1, 2, figsize=(12, 6))\n",
    "\n",
    "for k, M in M_arr_idx.items():\n",
    "    if k[1] != 3:\n",
    "        continue\n",
    "    data = strokes_spline_fitted[k[1]]\n",
    "    template_func = template_dict[M_name_idx[k]]\n",
    "    template = template_func(n)\n",
    "    \n",
    "    result, mse = rd.get_transformed_template(template, data, M.reshape(3,3),projective=True)\n",
    "    ax1.scatter(result[:,0], result[:,1], label=\"transformed template\", s=1, c='r')\n",
    "    ax1.scatter(data[:,0], data[:,1], label=\"data\", alpha=0.5, s=1, c='g')\n",
    "\n",
    "# plt.legend()\n",
    "# plt.xlim(0,w)\n",
    "# plt.ylim(h,0)\n",
    "\n",
    "# ax1.axis(xmin=0,xmax=w)\n",
    "# ax1.axis(ymin=h,ymax=0)\n",
    "\n",
    "# ax2.axis(xmin=0,xmax=w)\n",
    "# ax2.axis(ymin=h,ymax=0)\n",
    "\n",
    "plt.show()"
   ]
  },
  {
   "cell_type": "code",
   "execution_count": null,
   "metadata": {},
   "outputs": [],
   "source": [
    "data = strokes_spline_fitted[stroke_idx]"
   ]
  },
  {
   "cell_type": "code",
   "execution_count": null,
   "metadata": {},
   "outputs": [],
   "source": []
  },
  {
   "cell_type": "code",
   "execution_count": null,
   "metadata": {},
   "outputs": [],
   "source": [
    "data = strokes_spline_fitted[stroke_idx]\n",
    "template_func = rd.TEMPLATE_DICT[M_name[(idx, stroke_idx)]]\n",
    "template = template_func(n)\n",
    "\n",
    "result, mse = rd.get_transformed_template(template, data, M_arr[(idx, stroke_idx)].reshape(3,3))\n",
    "\n",
    "print(mse)\n",
    "\n",
    "datacolors = rd.get_sequence_colors(n, plt.cm.Greens)\n",
    "templatecolors = rd.get_sequence_colors(n, plt.cm.Reds)\n",
    "\n",
    "plt.figure(figsize=(6, 6))\n",
    "# plt.scatter(result[:,0], result[:,1], label=\"transformed template\", s=1, \\\n",
    "#             c=templatecolors)\n",
    "# plt.scatter(data[:,0], data[:,1], label=\"data\", alpha=0.5, s=1, c=datacolors)\n",
    "\n",
    "plt.scatter(result[:,0], result[:,1], label=\"transformed template\", s=1, c='r')\n",
    "plt.scatter(data[:,0], data[:,1], label=\"data\", alpha=0.5, s=1, c='g')\n",
    "\n",
    "plt.legend()\n",
    "# plt.xlim(0,w)\n",
    "# plt.ylim(h,0)\n",
    "\n",
    "plt.show()"
   ]
  },
  {
   "cell_type": "code",
   "execution_count": null,
   "metadata": {},
   "outputs": [],
   "source": []
  },
  {
   "cell_type": "code",
   "execution_count": null,
   "metadata": {},
   "outputs": [],
   "source": [
    "reload(rd)"
   ]
  },
  {
   "cell_type": "code",
   "execution_count": null,
   "metadata": {},
   "outputs": [],
   "source": [
    "data = strokes_spline_fitted[stroke_idx]"
   ]
  },
  {
   "cell_type": "code",
   "execution_count": null,
   "metadata": {},
   "outputs": [],
   "source": [
    "\n",
    "print(M_name[(idx, stroke_idx)])\n",
    "\n",
    "template_func = rd.TEMPLATE_DICT[M_name[(idx, stroke_idx)]]"
   ]
  },
  {
   "cell_type": "code",
   "execution_count": null,
   "metadata": {},
   "outputs": [],
   "source": [
    "projectiveM = M_arr[(idx, stroke_idx)]\n",
    "template = template_func(n)\n",
    "src_pts = template.astype(np.float32).reshape(-1,1,2)\n",
    "result = cv2.perspectiveTransform(src_pts, projectiveM.reshape(3,3)).reshape(-1,2)"
   ]
  },
  {
   "cell_type": "code",
   "execution_count": null,
   "metadata": {},
   "outputs": [],
   "source": [
    "# calculate ourselves\n",
    "template_func = rd.TEMPLATE_DICT['zigzag1']\n",
    "template = template_func(n)\n",
    "\n",
    "# template = rd.generate_zigzag(num_fold=10)\n",
    "M, result = rd.get_transform(template, data, projective=True)"
   ]
  },
  {
   "cell_type": "code",
   "execution_count": null,
   "metadata": {},
   "outputs": [],
   "source": [
    "data.shape, template.shape"
   ]
  },
  {
   "cell_type": "code",
   "execution_count": null,
   "metadata": {},
   "outputs": [],
   "source": [
    "mse = mean_squared_error(result, data)\n",
    "print(mse)\n",
    "\n",
    "datacolors = rd.get_sequence_colors(n, plt.cm.Greens)\n",
    "templatecolors = rd.get_sequence_colors(n, plt.cm.Reds)\n",
    "\n",
    "plt.figure(figsize=(6, 6))\n",
    "# plt.scatter(result[:,0], result[:,1], label=\"transformed template\", s=1, \\\n",
    "#             c=templatecolors)\n",
    "# plt.scatter(data[:,0], data[:,1], label=\"data\", alpha=0.5, s=1, c=datacolors)\n",
    "\n",
    "plt.scatter(result[:,0], result[:,1], label=\"transformed template\", s=1, c='r')\n",
    "plt.scatter(data[:,0], data[:,1], label=\"data\", alpha=0.5, s=1, c='g')\n",
    "\n",
    "plt.legend()\n",
    "# plt.xlim(0,w)\n",
    "# plt.ylim(h,0)\n",
    "\n",
    "plt.show()"
   ]
  },
  {
   "cell_type": "code",
   "execution_count": null,
   "metadata": {
    "scrolled": true
   },
   "outputs": [],
   "source": []
  },
  {
   "cell_type": "code",
   "execution_count": null,
   "metadata": {},
   "outputs": [],
   "source": [
    "import cv2\n",
    "import numpy as np\n",
    "import sys\n",
    "from numpy.random import *"
   ]
  },
  {
   "cell_type": "code",
   "execution_count": null,
   "metadata": {},
   "outputs": [],
   "source": [
    "def del_miss(indeces, dist, max_dist, th_rate = 0.8):\n",
    "    th_dist = max_dist * th_rate\n",
    "    return np.array([indeces[0][np.where(dist.T[0] < th_dist)]])\n"
   ]
  },
  {
   "cell_type": "code",
   "execution_count": null,
   "metadata": {},
   "outputs": [],
   "source": [
    "def is_converge(Tr, scale):\n",
    "    delta_angle = 0.0001\n",
    "    delta_scale = scale * 0.0001\n",
    "    \n",
    "    min_cos = 1 - delta_angle\n",
    "    max_cos = 1 + delta_angle\n",
    "    min_sin = -delta_angle\n",
    "    max_sin = delta_angle\n",
    "    min_move = -delta_scale\n",
    "    max_move = delta_scale\n",
    "    \n",
    "    return min_cos < Tr[0, 0] and Tr[0, 0] < max_cos and \\\n",
    "           min_cos < Tr[1, 1] and Tr[1, 1] < max_cos and \\\n",
    "           min_sin < -Tr[1, 0] and -Tr[1, 0] < max_sin and \\\n",
    "           min_sin < Tr[0, 1] and Tr[0, 1] < max_sin and \\\n",
    "           min_move < Tr[0, 2] and Tr[0, 2] < max_move and \\\n",
    "           min_move < Tr[1, 2] and Tr[1, 2] < max_move"
   ]
  },
  {
   "cell_type": "code",
   "execution_count": null,
   "metadata": {},
   "outputs": [],
   "source": [
    "def icp(d1, d2, max_iterate = 100):\n",
    "    src = np.array([d1.T], copy=True).astype(np.float32)\n",
    "    dst = np.array([d2.T], copy=True).astype(np.float32)\n",
    "    \n",
    "    knn = cv2.KNearest()\n",
    "    responses = np.array(range(len(d2[0]))).astype(np.float32)\n",
    "    knn.train(src[0], responses)\n",
    "        \n",
    "    Tr = np.array([[np.cos(0), -np.sin(0), 0],\n",
    "                   [np.sin(0), np.cos(0),  0],\n",
    "                   [0,         0,          1]])\n",
    "\n",
    "    dst = cv2.transform(dst, Tr[0:2])\n",
    "    max_dist = sys.maxint\n",
    "    \n",
    "    scale_x = np.max(d1[0]) - np.min(d1[0])\n",
    "    scale_y = np.max(d1[1]) - np.min(d1[1])\n",
    "    scale = max(scale_x, scale_y)\n",
    "       \n",
    "    for i in range(max_iterate):\n",
    "        ret, results, neighbours, dist = knn.find_nearest(dst[0], 1)\n",
    "        \n",
    "        indeces = results.astype(np.int32).T     \n",
    "        indeces = del_miss(indeces, dist, max_dist)  \n",
    "        \n",
    "        T = cv2.estimateRigidTransform(dst[0, indeces], src[0, indeces], True)\n",
    "\n",
    "        max_dist = np.max(dist)\n",
    "        dst = cv2.transform(dst, T)\n",
    "        Tr = np.dot(np.vstack((T,[0,0,1])), Tr)\n",
    "        \n",
    "        if (is_converge(T, scale)):\n",
    "            break\n",
    "        \n",
    "    return Tr[0:2]"
   ]
  },
  {
   "cell_type": "code",
   "execution_count": null,
   "metadata": {},
   "outputs": [],
   "source": [
    "if __name__ == \"__main__\":\n",
    "    import matplotlib.pyplot as plt\n",
    "    \n",
    "    point_count = 100\n",
    "    th = np.pi / 8\n",
    "    move = np.array([[0.30], [0.5]])\n",
    "    rnd_scale = 0.03\n",
    "    x1 = np.linspace(0, 1.1, point_count)\n",
    "    y1 = np.sin(x1 * np.pi)\n",
    "    d1 = np.array([x1, y1])\n",
    "\n",
    "    rot = np.array([[np.cos(th), -np.sin(th)], [np.sin(th), np.cos(th)]])\n",
    "    rand = np.random.rand(2, point_count)*rnd_scale\n",
    "    d2 = np.dot(rot, d1) + move\n",
    "    d2 = np.add(d2, rand)\n",
    "\n",
    "    plt.plot(d1[0], d1[1])\n",
    "    plt.plot(d2[0], d2[1])\n",
    "    plt.show()"
   ]
  },
  {
   "cell_type": "code",
   "execution_count": null,
   "metadata": {},
   "outputs": [],
   "source": [
    "    ret = icp(d1, d2)\n",
    "    \n",
    "    plt.plot(d1[0], d1[1])\n",
    "    dst = np.array([d2.T], copy=True).astype(np.float32)\n",
    "    dst = cv2.transform(dst, ret)\n",
    "    plt.plot(dst[0].T[0], dst[0].T[1])\n",
    "    plt.show()\n",
    "    \n",
    "    print ret[0][0] * ret[0][0] + ret[0][1] * ret[0][1]\n",
    "    print np.arccos(ret[0][0]) / 2 / np.pi * 360\n",
    "    print np.arcsin(ret[0][1]) / 2 / np.pi * 360\n",
    "\n",
    "    print ret"
   ]
  },
  {
   "cell_type": "code",
   "execution_count": null,
   "metadata": {},
   "outputs": [],
   "source": [
    "def icp(a, b,\n",
    "        max_time = 1\n",
    "    ):\n",
    "    import cv2\n",
    "    import numpy\n",
    "    import copy\n",
    "    import pylab\n",
    "    import time\n",
    "    import sys\n",
    "    import sklearn.neighbors\n",
    "    import scipy.optimize\n",
    "\n",
    "\n",
    "\n",
    "    def res(p,src,dst):\n",
    "        T = numpy.matrix([[numpy.cos(p[2]),-numpy.sin(p[2]),p[0]],\n",
    "        [numpy.sin(p[2]), numpy.cos(p[2]),p[1]],\n",
    "        [0 ,0 ,1 ]])\n",
    "        n = numpy.size(src,0)\n",
    "        xt = numpy.ones([n,3])\n",
    "        xt[:,:-1] = src\n",
    "        xt = (xt*T.T).A\n",
    "        d = numpy.zeros(numpy.shape(src))\n",
    "        d[:,0] = xt[:,0]-dst[:,0]\n",
    "        d[:,1] = xt[:,1]-dst[:,1]\n",
    "        r = numpy.sum(numpy.square(d[:,0])+numpy.square(d[:,1]))\n",
    "        return r\n",
    "\n",
    "    def jac(p,src,dst):\n",
    "        T = numpy.matrix([[numpy.cos(p[2]),-numpy.sin(p[2]),p[0]],\n",
    "        [numpy.sin(p[2]), numpy.cos(p[2]),p[1]],\n",
    "        [0 ,0 ,1 ]])\n",
    "        n = numpy.size(src,0)\n",
    "        xt = numpy.ones([n,3])\n",
    "        xt[:,:-1] = src\n",
    "        xt = (xt*T.T).A\n",
    "        d = numpy.zeros(numpy.shape(src))\n",
    "        d[:,0] = xt[:,0]-dst[:,0]\n",
    "        d[:,1] = xt[:,1]-dst[:,1]\n",
    "        dUdth_R = numpy.matrix([[-numpy.sin(p[2]),-numpy.cos(p[2])],\n",
    "                            [ numpy.cos(p[2]),-numpy.sin(p[2])]])\n",
    "        dUdth = (src*dUdth_R.T).A\n",
    "        g = numpy.array([  numpy.sum(2*d[:,0]),\n",
    "                        numpy.sum(2*d[:,1]),\n",
    "                        numpy.sum(2*(d[:,0]*dUdth[:,0]+d[:,1]*dUdth[:,1])) ])\n",
    "        return g\n",
    "    \n",
    "    def hess(p,src,dst):\n",
    "        n = numpy.size(src,0)\n",
    "        T = numpy.matrix([[numpy.cos(p[2]),-numpy.sin(p[2]),p[0]],\n",
    "        [numpy.sin(p[2]), numpy.cos(p[2]),p[1]],\n",
    "        [0 ,0 ,1 ]])\n",
    "        n = numpy.size(src,0)\n",
    "        xt = numpy.ones([n,3])\n",
    "        xt[:,:-1] = src\n",
    "        xt = (xt*T.T).A\n",
    "        d = numpy.zeros(numpy.shape(src))\n",
    "        d[:,0] = xt[:,0]-dst[:,0]\n",
    "        d[:,1] = xt[:,1]-dst[:,1]\n",
    "        dUdth_R = numpy.matrix([[-numpy.sin(p[2]),-numpy.cos(p[2])],[numpy.cos(p[2]),-numpy.sin(p[2])]])\n",
    "        dUdth = (src*dUdth_R.T).A\n",
    "        H = numpy.zeros([3,3])\n",
    "        H[0,0] = n*2\n",
    "        H[0,2] = numpy.sum(2*dUdth[:,0])\n",
    "        H[1,1] = n*2\n",
    "        H[1,2] = numpy.sum(2*dUdth[:,1])\n",
    "        H[2,0] = H[0,2]\n",
    "        H[2,1] = H[1,2]\n",
    "        d2Ud2th_R = numpy.matrix([[-numpy.cos(p[2]), numpy.sin(p[2])],[-numpy.sin(p[2]),-numpy.cos(p[2])]])\n",
    "        d2Ud2th = (src*d2Ud2th_R.T).A\n",
    "        H[2,2] = numpy.sum(2*(numpy.square(dUdth[:,0])+numpy.square(dUdth[:,1]) + d[:,0]*d2Ud2th[:,0]+d[:,0]*d2Ud2th[:,0]))\n",
    "        return H\n",
    "    \n",
    "    \n",
    "    t0 = time.time()\n",
    "    init_pose = (0,0,0)\n",
    "    src = numpy.array([a.T], copy=True).astype(numpy.float32)\n",
    "    dst = numpy.array([b.T], copy=True).astype(numpy.float32)\n",
    "    Tr = numpy.array([[numpy.cos(init_pose[2]),-numpy.sin(init_pose[2]),init_pose[0]],\n",
    "                   [numpy.sin(init_pose[2]), numpy.cos(init_pose[2]),init_pose[1]],\n",
    "                   [0,                    0,                   1          ]])\n",
    "    print(\"src\",numpy.shape(src))\n",
    "    print(\"Tr[0:2]\",numpy.shape(Tr[0:2]))\n",
    "    src = cv2.transform(src, Tr[0:2])\n",
    "    p_opt = numpy.array(init_pose)\n",
    "    T_opt = numpy.array([])\n",
    "    error_max = sys.maxsize\n",
    "    first = False\n",
    "    while not(first and time.time() - t0 > max_time):\n",
    "        distances, indices = sklearn.neighbors.NearestNeighbors(n_neighbors=1, algorithm='auto',p = 3).fit(dst[0]).kneighbors(src[0])\n",
    "        p = scipy.optimize.minimize(res,[0,0,0],args=(src[0],dst[0, indices.T][0]),method='Newton-CG',jac=jac,hess=hess).x\n",
    "        T  = numpy.array([[numpy.cos(p[2]),-numpy.sin(p[2]),p[0]],[numpy.sin(p[2]), numpy.cos(p[2]),p[1]]])\n",
    "        p_opt[:2]  = (p_opt[:2]*numpy.matrix(T[:2,:2]).T).A       \n",
    "        p_opt[0] += p[0]\n",
    "        p_opt[1] += p[1]\n",
    "        p_opt[2] += p[2]\n",
    "        src = cv2.transform(src, T)\n",
    "        Tr = (numpy.matrix(numpy.vstack((T,[0,0,1])))*numpy.matrix(Tr)).A\n",
    "        error = res([0,0,0],src[0],dst[0, indices.T][0])\n",
    "\n",
    "        if error < error_max:\n",
    "            error_max = error\n",
    "            first = True\n",
    "            T_opt = Tr\n",
    "\n",
    "    p_opt[2] = p_opt[2] % (2*numpy.pi)\n",
    "    return T_opt, error_max\n",
    "\n",
    "\n",
    "def main():\n",
    "    import cv2\n",
    "    import numpy\n",
    "    import random\n",
    "    import matplotlib.pyplot\n",
    "    n1 = 100\n",
    "    n2 = 75\n",
    "    bruit = 1/10\n",
    "    center = [random.random()*(2-1)*3,random.random()*(2-1)*3]\n",
    "    radius = random.random()\n",
    "    deformation = 2\n",
    "\n",
    "    template = numpy.array([\n",
    "        [numpy.cos(i*2*numpy.pi/n1)*radius*deformation for i in range(n1)], \n",
    "        [numpy.sin(i*2*numpy.pi/n1)*radius for i in range(n1)]\n",
    "    ])\n",
    "\n",
    "    data = numpy.array([\n",
    "        [numpy.cos(i*2*numpy.pi/n2)*radius*(1+random.random()*bruit)+center[0] for i in range(n2)], \n",
    "        [numpy.sin(i*2*numpy.pi/n2)*radius*deformation*(1+random.random()*bruit)+center[1] for i in range(n2)]\n",
    "    ])\n",
    "\n",
    "    T,error = icp(data,template)\n",
    "    dx = T[0,2]\n",
    "    dy = T[1,2]\n",
    "    rotation = numpy.arcsin(T[0,1]) * 360 / 2 / numpy.pi\n",
    "\n",
    "    print(\"T\",T)\n",
    "    print(\"error\",error)\n",
    "    print(\"rotation°\",rotation)\n",
    "    print(\"dx\",dx)\n",
    "    print(\"dy\",dy)\n",
    "\n",
    "    result = cv2.transform(numpy.array([data.T], copy=True).astype(numpy.float32), T).T\n",
    "    matplotlib.pyplot.plot(template[0], template[1], label=\"template\")\n",
    "    matplotlib.pyplot.plot(data[0], data[1], label=\"data\")\n",
    "    matplotlib.pyplot.plot(result[0], result[1], label=\"result: \"+str(rotation)+\"° - \"+str([dx,dy]))\n",
    "    matplotlib.pyplot.legend(loc=\"upper left\")\n",
    "    matplotlib.pyplot.axis('square')\n",
    "    matplotlib.pyplot.show()\n",
    "\n",
    "if __name__ == \"__main__\":\n",
    "    main()"
   ]
  }
 ],
 "metadata": {
  "kernelspec": {
   "display_name": "clipdraw",
   "language": "python",
   "name": "clipdraw"
  },
  "language_info": {
   "codemirror_mode": {
    "name": "ipython",
    "version": 3
   },
   "file_extension": ".py",
   "mimetype": "text/x-python",
   "name": "python",
   "nbconvert_exporter": "python",
   "pygments_lexer": "ipython3",
   "version": "3.8.12"
  }
 },
 "nbformat": 4,
 "nbformat_minor": 1
}
