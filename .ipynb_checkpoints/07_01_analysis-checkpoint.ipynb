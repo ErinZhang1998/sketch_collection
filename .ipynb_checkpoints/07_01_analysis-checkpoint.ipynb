{
 "cells": [
  {
   "cell_type": "code",
   "execution_count": 1,
   "metadata": {},
   "outputs": [],
   "source": [
    "import seaborn as sns\n",
    "import numpy as np\n",
    "import pandas as pd\n",
    "import os\n",
    "import json\n",
    "import matplotlib.pyplot as plt\n",
    "import PIL\n",
    "import read_datasets as rd\n",
    "\n",
    "from importlib import reload\n",
    "import torchvision.transforms as transforms\n",
    "\n",
    "\n",
    "import base64\n",
    "import pickle\n",
    "import collections\n",
    "import itertools, collections\n",
    "from sklearn.metrics import mean_squared_error\n",
    "import cv2 \n",
    "import math"
   ]
  },
  {
   "cell_type": "code",
   "execution_count": 2,
   "metadata": {},
   "outputs": [
    {
     "data": {
      "text/plain": [
       "<module 'primitive_selector' from '/home/xiaoyuz1/amazon_turk/primitive_selector.py'>"
      ]
     },
     "execution_count": 2,
     "metadata": {},
     "output_type": "execute_result"
    }
   ],
   "source": [
    "import primitive_selector as ps\n",
    "reload(ps)"
   ]
  },
  {
   "cell_type": "code",
   "execution_count": 3,
   "metadata": {},
   "outputs": [],
   "source": [
    "import torch.nn.utils.rnn as rnn\n",
    "import torch"
   ]
  },
  {
   "cell_type": "code",
   "execution_count": 4,
   "metadata": {},
   "outputs": [],
   "source": [
    "np.set_printoptions(precision=4, suppress=True)"
   ]
  },
  {
   "cell_type": "code",
   "execution_count": 5,
   "metadata": {},
   "outputs": [],
   "source": [
    "dfo = pd.read_csv('/raid/xiaoyuz1/amazon_turk/df_all.csv')\n",
    "dfo['no_punc_1'] = dfo.no_punc_1.apply(lambda x: [str(y).strip()[1:-1] for y in x[1:-1].split(',')])\n",
    "\n",
    "dfp = pd.read_csv('/raid/xiaoyuz1/amazon_turk/df_all_pair.csv')\n",
    "dfp['no_punc_1'] = dfp.no_punc_1.apply(lambda x: [str(y).strip()[1:-1] for y in x[1:-1].split(',')])\n",
    "dfp['no_punc_2'] = dfp.no_punc_2.apply(lambda x: [str(y).strip()[1:-1] for y in x[1:-1].split(',')])"
   ]
  },
  {
   "cell_type": "markdown",
   "metadata": {},
   "source": [
    "## CNN"
   ]
  },
  {
   "cell_type": "code",
   "execution_count": null,
   "metadata": {},
   "outputs": [],
   "source": [
    "import sys    \n",
    "path_to_module = '/home/xiaoyuz1/DoodlerGAN'\n",
    "sys.path.append(path_to_module)\n"
   ]
  },
  {
   "cell_type": "code",
   "execution_count": null,
   "metadata": {},
   "outputs": [],
   "source": [
    "2 ** 5"
   ]
  },
  {
   "cell_type": "code",
   "execution_count": null,
   "metadata": {},
   "outputs": [],
   "source": [
    "import part_selector as part_s"
   ]
  },
  {
   "cell_type": "code",
   "execution_count": null,
   "metadata": {},
   "outputs": [],
   "source": [
    "pClfs = part_s.Classifier(64, 16, n_part=10)"
   ]
  },
  {
   "cell_type": "code",
   "execution_count": null,
   "metadata": {
    "scrolled": true
   },
   "outputs": [],
   "source": [
    "pClfs"
   ]
  },
  {
   "cell_type": "code",
   "execution_count": null,
   "metadata": {},
   "outputs": [],
   "source": [
    "from torchvision import models\n",
    "\n",
    "res18 = models.resnet18(pretrained=True)"
   ]
  },
  {
   "cell_type": "code",
   "execution_count": null,
   "metadata": {},
   "outputs": [],
   "source": [
    "res18"
   ]
  },
  {
   "cell_type": "markdown",
   "metadata": {
    "heading_collapsed": true
   },
   "source": [
    "## use pretrained word features"
   ]
  },
  {
   "cell_type": "code",
   "execution_count": null,
   "metadata": {
    "hidden": true
   },
   "outputs": [],
   "source": [
    "import clip\n",
    "device = \"cuda:3\"\n",
    "model, preprocess = clip.load(\"ViT-B/32\", device=device, jit=False) #Must set jit=False for training"
   ]
  },
  {
   "cell_type": "code",
   "execution_count": null,
   "metadata": {
    "hidden": true,
    "scrolled": true
   },
   "outputs": [],
   "source": [
    "root_folder = '/raid/xiaoyuz1/clip_model_checkpoint'\n",
    "torch_path_name = os.path.join(root_folder, \"pleasant-tree-10.pt\")\n",
    "checkpoint = torch.load(torch_path_name)\n",
    "print(checkpoint.keys())\n",
    "args = checkpoint['args']\n",
    "\n",
    "model.load_state_dict(checkpoint['model_state_dict'])"
   ]
  },
  {
   "cell_type": "markdown",
   "metadata": {},
   "source": [
    "## test out primitive selector"
   ]
  },
  {
   "cell_type": "code",
   "execution_count": null,
   "metadata": {},
   "outputs": [],
   "source": []
  },
  {
   "cell_type": "code",
   "execution_count": 6,
   "metadata": {},
   "outputs": [],
   "source": [
    "import sys\n",
    "sys.argv = ['']\n",
    "args = ps.get_args()"
   ]
  },
  {
   "cell_type": "code",
   "execution_count": 7,
   "metadata": {},
   "outputs": [],
   "source": [
    "hp = ps.HParams()\n",
    "args_dict = vars(args)\n",
    "for k,v in args_dict.items():\n",
    "    if k == \"parameter_names\":\n",
    "        for j,name in enumerate(v):\n",
    "            hp.parameter_names[j] = name\n",
    "        continue\n",
    "    if hasattr(hp, k):\n",
    "        setattr(hp, k,v)\n",
    "vocab = ps.preprocess_dataset_language(\n",
    "    \"/raid/xiaoyuz1/primitive_selector_training_data/july_15_train.pkl\", old = True,\n",
    ")\n",
    "hp.vocab_size = len(vocab)"
   ]
  },
  {
   "cell_type": "code",
   "execution_count": 8,
   "metadata": {},
   "outputs": [],
   "source": [
    "TEMPLATE_DICT = {\n",
    "    'arc' : lambda n : rd.generate_arc(n1=n, radius=1, x0=0, y0=0, template_size=1),\n",
    "    'circle' : lambda n : rd.generate_circle(n1=n, radius=1, x0=0, y0=0, template_size=1),\n",
    "    'square' : lambda n : rd.generate_square(n1=n, template_size=2),\n",
    "    'semicircle' : lambda n : rd.generate_semicircle(n1=n, radius=1, x0=0, y0=0, template_size=1),\n",
    "    'zigzag1' : lambda n : rd.generate_zigzag(n1=n, num_fold=1, side_length=1,template_size=1),\n",
    "}\n",
    "templates = {}\n",
    "for i,(k,v) in enumerate(TEMPLATE_DICT.items()):\n",
    "    arr = v(args.num_sampled_points)\n",
    "    templates[i] = (k,arr)"
   ]
  },
  {
   "cell_type": "code",
   "execution_count": 9,
   "metadata": {},
   "outputs": [],
   "source": [
    "img_root_path = \"/raid/xiaoyuz1/doodler_primitive_data/\""
   ]
  },
  {
   "cell_type": "code",
   "execution_count": 10,
   "metadata": {},
   "outputs": [
    {
     "data": {
      "text/plain": [
       "<module 'primitive_selector' from '/home/xiaoyuz1/amazon_turk/primitive_selector.py'>"
      ]
     },
     "execution_count": 10,
     "metadata": {},
     "output_type": "execute_result"
    }
   ],
   "source": [
    "reload(rd)\n",
    "reload(ps)"
   ]
  },
  {
   "cell_type": "code",
   "execution_count": 11,
   "metadata": {
    "scrolled": true
   },
   "outputs": [
    {
     "name": "stderr",
     "output_type": "stream",
     "text": [
      "100%|██████████| 11150/11150 [00:40<00:00, 278.75it/s]\n"
     ]
    }
   ],
   "source": [
    "# .iloc[list(dfo[dfo[\"image_1\"] == 0].index)]\n",
    "all_data_path = \"/raid/xiaoyuz1/primitive_selector_training_data/jul_20\"\n",
    "data = ps.prepare_data(dfo, \\\n",
    "                       templates, img_root_path, \\\n",
    "                       save_path_prefix = all_data_path, \\\n",
    "                       line_diameter=3, \\\n",
    "                       canvas_size = 64, num_sampled_points = 200, use_projective = False)"
   ]
  },
  {
   "cell_type": "code",
   "execution_count": 21,
   "metadata": {},
   "outputs": [
    {
     "data": {
      "text/plain": [
       "[[160.42660188294383, 119.79219005317171, 0, 6],\n",
       " [4.1673478253867415, 8.33469565077337, 0, 6],\n",
       " [0.0, 7.295579156818576, 0, 6],\n",
       " [0.0, 6.245580813296385, 0, 6],\n",
       " [-1.0391164939549071, 9.373778764821623, 0, 6],\n",
       " [-1.0500651033353279, 7.29561253672523, 0, 6],\n",
       " [-5.206397559528341, 14.580243084163158, 0, 6],\n",
       " [-1.0391164939547934, 5.206464319341535, 0, 6],\n",
       " [-2.0891815972903487, 7.29561253672523, 0, 6],\n",
       " [-3.1172827220513, 5.206430939434881, 0, 6],\n",
       " [-2.0891148374769273, 5.206464319341592, 0, 6],\n",
       " [-5.206464319341535, 3.1282647113384883, 0, 6],\n",
       " [-8.334695650773483, 1.0390831140481964, 0, 6],\n",
       " [-7.2846973072512355, -2.0781996080030467, 0, 6],\n",
       " [-7.295579156818576, -1.0391164939548503, 0, 6],\n",
       " [-7.295579156818576, -3.1282313314318344, 0, 6],\n",
       " [-10.41292863868307, -5.206464319341592, 0, 6],\n",
       " [-11.462926982205317, -5.206430939434881, 0, 6],\n",
       " [-9.373812144728163, -3.128264711338545, 0, 6],\n",
       " [-8.334695650773483, -4.167347825386685, 0, 6],\n",
       " [-7.29564591663177, -3.1282647113384883, 0, 6],\n",
       " [-5.206397559528341, -3.1282313314318344, 0, 6],\n",
       " [-9.373812144728277, -4.1673478253867415, 0, 6],\n",
       " [-7.29564591663177, -4.156399216006093, 0, 6],\n",
       " [-6.245514053483134, -5.217412928722126, 0, 6],\n",
       " [-6.245580813296442, -6.245547433389788, 0, 6],\n",
       " [-7.295579156818576, -7.295612536725173, 0, 6],\n",
       " [-13.541159970114904, -14.580243084163214, 0, 6],\n",
       " [-4.1673478253867415, -5.206464319341535, 0, 6],\n",
       " [-2.089148217383695, -7.295579156818576, 0, 6],\n",
       " [-1.0391164939547934, -6.245580813296385, 0, 6],\n",
       " [-3.1282313314318344, -7.295579156818576, 0, 6],\n",
       " [-1.0391164939549071, -5.206464319341535, 0, 6],\n",
       " [0.0, -6.2564960427703795, 0, 6],\n",
       " [0.0, -7.2846639273446385, 0, 6],\n",
       " [0.0, -5.217379548815472, 0, 6],\n",
       " [1.0391164939549071, -5.206464319341535, 0, 6],\n",
       " [7.295579156818576, -9.373778764821623, 0, 6],\n",
       " [2.089148217383581, -5.206464319341563, 0, 6],\n",
       " [6.245580813296442, -8.334695650773426, 0, 6],\n",
       " [7.295579156818576, -9.373812144728248, 0, 6],\n",
       " [6.245580813296328, -7.295612536725201, 0, 6],\n",
       " [6.2564626628637825, -7.284647237391312, 0, 6],\n",
       " [10.41292863868307, -11.46294367215856, 0, 6],\n",
       " [6.245514053483134, -6.245564123343115, 0, 6],\n",
       " [8.334762410586677, -5.217379548815472, 0, 6],\n",
       " [5.206397559528341, -2.078216297956402, 0, 6],\n",
       " [7.29564591663177, -1.0390998040015234, 0, 6],\n",
       " [8.334695650773483, 0.0, 0, 6],\n",
       " [10.412861878869762, 0.0, 0, 6],\n",
       " [5.217412928722183, 0.0, 0, 6],\n",
       " [7.2846973072512355, 0.0, 0, 6],\n",
       " [5.206397559528227, 0.0, 0, 6],\n",
       " [5.217412928722183, 3.1173161019579254, 0, 6],\n",
       " [5.206464319341535, 1.0500317234287877, 0, 6],\n",
       " [6.245580813296442, 3.1173161019579254, 0, 6],\n",
       " [6.256462662863669, 3.1282480213851613, 0, 6],\n",
       " [4.1673478253867415, 5.2064476293882365, 0, 6],\n",
       " [5.206464319341535, 5.2064476293882365, 0, 6],\n",
       " [4.1673478253867415, 5.217396238768799, 0, 6],\n",
       " [4.167347825386628, 6.245564123343115, 0, 6],\n",
       " [2.0782329879098143, 7.2955791568185475, 0, 6],\n",
       " [1.0390497341414857, 5.206464319341563, 0, 6],\n",
       " [0.0, 6.24554743338976, 0, 6],\n",
       " [1.0500651033354416, 5.206464319341563, 0, 6],\n",
       " [0.0, 7.295612536725201, 0, 6],\n",
       " [0.0, 6.256496042770323, 0, 6],\n",
       " [0.0, 6.245547433389788, 0, 6],\n",
       " [0.0, 5.206430939434881, 0, 6],\n",
       " [0.0, 6.2564960427703795, 0, 6],\n",
       " [0.0, 5.206464319341535, 0, 6],\n",
       " [0.0, 6.245547433389788, 0, 6],\n",
       " [0.0, 5.206464319341535, 0, 6],\n",
       " [0.0, 5.217379548815529, 0, 6],\n",
       " [0.0, 6.245580813296385, 0, 6],\n",
       " [0.0, 5.206430939434938, 0, 6],\n",
       " [0.0, 5.206464319341535, 0, 6],\n",
       " [1.0391164939549071, 5.217379548815472, 0, 6],\n",
       " [2.078166228096393, 5.206464319341592, 0, 6],\n",
       " [1.0500651033354416, 2.0781996080030467, 1, 6],\n",
       " [-129.17690073742062, -78.12961033882522, 0, 0],\n",
       " [0.0, 5.217379548815472, 0, 0],\n",
       " [5.206464319341649, 5.206464319341563, 0, 0],\n",
       " [5.217346168908762, 3.1282647113384883, 0, 0],\n",
       " [5.206464319341649, 1.0390831140482248, 0, 0],\n",
       " [5.206464319341535, 0.0, 0, 0],\n",
       " [4.167347825386628, -5.206430939434938, 0, 0],\n",
       " [-1.0391164939547934, -6.256496042770323, 0, 0],\n",
       " [-7.295579156818576, -1.0391164939548503, 0, 0],\n",
       " [-4.1673478253867415, -3.1282647113385167, 1, 0],\n",
       " [89.58158871164994, -12.502043476160111, 0, 0],\n",
       " [-9.373812144728277, 0.0, 0, 0],\n",
       " [-7.284630547437928, 0.0, 0, 0],\n",
       " [-5.217412928722183, 0.0, 0, 0],\n",
       " [-5.206397559528227, 5.217412928722126, 0, 0],\n",
       " [-1.0391164939549071, 5.206430939434938, 0, 0],\n",
       " [0.0, 5.206464319341563, 0, 0],\n",
       " [5.206464319341649, 2.0781996080030467, 0, 0],\n",
       " [5.206397559528227, 0.0, 0, 0],\n",
       " [5.217412928722183, 0.0, 0, 0],\n",
       " [6.245580813296328, -4.167347825386685, 0, 0],\n",
       " [2.089114837477041, -5.206464319341563, 0, 0],\n",
       " [4.156399216006093, -6.245547433389788, 0, 0],\n",
       " [5.217412928722183, -2.089148217383638, 0, 0],\n",
       " [1.0391164939547934, -1.0390831140481964, 1, 0],\n",
       " [-55.21463822398198, 35.416982211096666, 0, 1],\n",
       " [-1.0391164939547934, 6.2564960427703795, 0, 1],\n",
       " [0.0, 8.334729030680023, 0, 1],\n",
       " [0.0, 7.284630547437985, 0, 1],\n",
       " [0.0, 5.206464319341592, 0, 1],\n",
       " [0.0, 10.423843868157007, 0, 1],\n",
       " [0.0, 5.206464319341592, 0, 1],\n",
       " [0.0, 3.1282313314318344, 1, 1],\n",
       " [-19.78674078341146, 7.2846639273446385, 0, 2],\n",
       " [6.245580813296442, 4.167347825386685, 0, 2],\n",
       " [5.206464319341535, 2.089148217383638, 0, 2],\n",
       " [6.256462662863669, 3.117316101957954, 0, 2],\n",
       " [6.245580813296442, 3.1282313314318344, 0, 2],\n",
       " [5.206464319341535, 1.0391164939548503, 0, 2],\n",
       " [8.334695650773483, 1.0500317234287877, 0, 2],\n",
       " [6.256462662863669, 0.0, 0, 2],\n",
       " [5.206464319341535, 0.0, 0, 2],\n",
       " [11.45197837282467, -7.295579156818576, 0, 2],\n",
       " [4.167414585200049, -5.206464319341535, 0, 2],\n",
       " [8.33469565077337, -3.1282313314318344, 0, 2],\n",
       " [2.089114837477041, 0.0, 1, 2]]"
      ]
     },
     "execution_count": 21,
     "metadata": {},
     "output_type": "execute_result"
    }
   ],
   "source": [
    "ps.CONST.face_json[\"train_data\"][767]"
   ]
  },
  {
   "cell_type": "code",
   "execution_count": 18,
   "metadata": {
    "scrolled": true
   },
   "outputs": [
    {
     "name": "stdout",
     "output_type": "stream",
     "text": [
      "L-shaped, long 1 258\n"
     ]
    },
    {
     "data": {
      "image/png": "[encoded data removed]",
      "text/plain": [
       "<Figure size 432x288 with 1 Axes>"
      ]
     },
     "metadata": {
      "needs_background": "light"
     },
     "output_type": "display_data"
    },
    {
     "name": "stdout",
     "output_type": "stream",
     "text": [
      "tiny, dotted 1 23\n"
     ]
    },
    {
     "data": {
      "image/png": "[encoded data removed]",
      "text/plain": [
       "<Figure size 432x288 with 1 Axes>"
      ]
     },
     "metadata": {
      "needs_background": "light"
     },
     "output_type": "display_data"
    },
    {
     "name": "stdout",
     "output_type": "stream",
     "text": [
      "cheerful, happy 2 413\n"
     ]
    },
    {
     "data": {
      "image/png": "[encoded data removed]",
      "text/plain": [
       "<Figure size 432x288 with 1 Axes>"
      ]
     },
     "metadata": {
      "needs_background": "light"
     },
     "output_type": "display_data"
    },
    {
     "name": "stdout",
     "output_type": "stream",
     "text": [
      "stick 5 155\n"
     ]
    },
    {
     "data": {
      "image/png": "[encoded data removed]",
      "text/plain": [
       "<Figure size 432x288 with 1 Axes>"
      ]
     },
     "metadata": {
      "needs_background": "light"
     },
     "output_type": "display_data"
    },
    {
     "name": "stdout",
     "output_type": "stream",
     "text": [
      "short linear 5 452\n"
     ]
    },
    {
     "data": {
      "image/png": "[encoded data removed]",
      "text/plain": [
       "<Figure size 432x288 with 1 Axes>"
      ]
     },
     "metadata": {
      "needs_background": "light"
     },
     "output_type": "display_data"
    },
    {
     "name": "stdout",
     "output_type": "stream",
     "text": [
      "linear 0 611\n"
     ]
    },
    {
     "data": {
      "image/png": "[encoded data removed]",
      "text/plain": [
       "<Figure size 432x288 with 1 Axes>"
      ]
     },
     "metadata": {
      "needs_background": "light"
     },
     "output_type": "display_data"
    },
    {
     "name": "stdout",
     "output_type": "stream",
     "text": [
      "rounded 6 639\n"
     ]
    },
    {
     "data": {
      "image/png": "[encoded data removed]",
      "text/plain": [
       "<Figure size 432x288 with 1 Axes>"
      ]
     },
     "metadata": {
      "needs_background": "light"
     },
     "output_type": "display_data"
    },
    {
     "name": "stdout",
     "output_type": "stream",
     "text": [
      "horizontal incomplete oval 0 399\n"
     ]
    },
    {
     "data": {
      "image/png": "[encoded data removed]",
      "text/plain": [
       "<Figure size 432x288 with 1 Axes>"
      ]
     },
     "metadata": {
      "needs_background": "light"
     },
     "output_type": "display_data"
    },
    {
     "name": "stdout",
     "output_type": "stream",
     "text": [
      "lopsided blocky 6 767\n"
     ]
    },
    {
     "data": {
      "image/png": "[encoded data removed]",
      "text/plain": [
       "<Figure size 432x288 with 1 Axes>"
      ]
     },
     "metadata": {
      "needs_background": "light"
     },
     "output_type": "display_data"
    },
    {
     "name": "stdout",
     "output_type": "stream",
     "text": [
      "wide flat 7 209\n"
     ]
    },
    {
     "data": {
      "image/png": "[encoded data removed]",
      "text/plain": [
       "<Figure size 432x288 with 1 Axes>"
      ]
     },
     "metadata": {
      "needs_background": "light"
     },
     "output_type": "display_data"
    }
   ],
   "source": [
    "for info in [data[i] for i in list(np.random.choice(11150, 10))]:\n",
    "    print(info[\"raw\"], info[\"part\"], info[\"image_idx\"])\n",
    "    _ = rd.render_img(\n",
    "        info[\"previous_strokes\"] + [info[\"result\"]], \n",
    "        img_path=None, \n",
    "        show=True,\n",
    "        side=64,\n",
    "        line_diameter=3,\n",
    "        padding=0,\n",
    "        bg_color=(0,0,0),\n",
    "        fg_color=(1,1,1),\n",
    "        original_side = 64.,\n",
    "        invert = False,\n",
    "    )"
   ]
  },
  {
   "cell_type": "code",
   "execution_count": null,
   "metadata": {},
   "outputs": [],
   "source": [
    "info = data[13]\n",
    "_ = rd.render_img(\n",
    "    info[\"previous_strokes\"] + [info[\"result\"]], \n",
    "    img_path=None, \n",
    "    show=True,\n",
    "    side=64,\n",
    "    line_diameter=3,\n",
    "    padding=0,\n",
    "    bg_color=(0,0,0),\n",
    "    fg_color=(1,1,1),\n",
    "    original_side = 64.,\n",
    "    invert = False,\n",
    ")"
   ]
  },
  {
   "cell_type": "code",
   "execution_count": null,
   "metadata": {},
   "outputs": [],
   "source": [
    "info[\"processed\"]"
   ]
  },
  {
   "cell_type": "code",
   "execution_count": null,
   "metadata": {},
   "outputs": [],
   "source": [
    "def plot_prepared_data(info, num_sampled_points = 200, use_projective=False):\n",
    "    w = h = 64\n",
    "    fig, axs = plt.subplots(2, 1, figsize=(12,24)) \n",
    "    \n",
    "    template = templates[info['primitive_type']][1]\n",
    "    transform_mat = ps.get_affine_transformation(info)\n",
    "    \n",
    "    if use_projective:\n",
    "        result = cv2.perspectiveTransform(template, transform_mat).reshape(-1,2)\n",
    "    else:\n",
    "        result = cv2.transform(np.array([template]).astype(np.float32), transform_mat)[0][:,:-1]\n",
    "    axs[0].scatter(result[:,0], result[:,1], s=1, c='r')\n",
    "    \n",
    "#     theta, scale_mat, shear_mat = rd.decompose_affine(transform_mat)\n",
    "#     T_rotate = rd.get_rotation_matrix(theta)\n",
    "#     T_scale = rd.get_scale_matrix(scale_mat[0][0], scale_mat[1][1])\n",
    "#     T_shear = rd.get_shear_matrix(shear_mat[0][1], shear_mat[1][0])\n",
    "#     tx,ty = transform_mat[0][2],transform_mat[1][2]\n",
    "#     T_translate = rd.get_translation_matrix(tx,ty)\n",
    "    \n",
    "#     result1 = cv2.transform(np.array([template]).astype(\n",
    "#             np.float32), T_rotate)[0][:,:-1]\n",
    "#     axs[0].scatter(result1[:,0], result1[:,1], s=1, c='m')\n",
    "    \n",
    "#     result2 = cv2.transform(np.array([template]).astype(\n",
    "#             np.float32), T_rotate @ T_scale @ T_shear)[0][:,:-1]\n",
    "#     axs[0].scatter(result2[:,0], result2[:,1], s=1, alpha=0.5, c='pink')\n",
    "\n",
    "#     result3 = cv2.transform(np.array([template]).astype(\n",
    "#             np.float32), T_translate @ T_rotate @ T_scale @ T_shear)[0][:,:-1]\n",
    "#     axs[0].scatter(result3[:,0], result3[:,1], s=1, c='lime', alpha=0.5)\n",
    "    \n",
    "    axs[0].scatter(info[\"data\"][:,0], info[\"data\"][:,1], s=1, c='lime')\n",
    "\n",
    "    axs[0].axis(xmin=-w,xmax=w)\n",
    "    axs[0].axis(ymin=h,ymax=-h)\n",
    "    axs[1].axis(xmin=-w,xmax=w)\n",
    "    axs[1].axis(ymin=h,ymax=-h)\n",
    "\n",
    "    \n",
    "    \n",
    "    plt.show()"
   ]
  },
  {
   "cell_type": "code",
   "execution_count": null,
   "metadata": {},
   "outputs": [],
   "source": [
    "plot_prepared_data(info)"
   ]
  },
  {
   "cell_type": "markdown",
   "metadata": {},
   "source": [
    "---"
   ]
  },
  {
   "cell_type": "code",
   "execution_count": null,
   "metadata": {
    "scrolled": true
   },
   "outputs": [],
   "source": [
    "checkpoint = torch.load('/raid/xiaoyuz1/doodler_model_checkpoint/legendary-sun-11/55001.pt')"
   ]
  },
  {
   "cell_type": "code",
   "execution_count": null,
   "metadata": {},
   "outputs": [],
   "source": [
    "len(vocab)"
   ]
  },
  {
   "cell_type": "code",
   "execution_count": null,
   "metadata": {},
   "outputs": [],
   "source": [
    "hp.M = 10\n",
    "\n",
    "trainer = ps.Trainer(hp, args, vocab, templates)\n",
    "trainer.model.load_state_dict(checkpoint['model_state_dict'])"
   ]
  },
  {
   "cell_type": "code",
   "execution_count": null,
   "metadata": {},
   "outputs": [],
   "source": [
    "checkpoint['iteration']"
   ]
  },
  {
   "cell_type": "code",
   "execution_count": null,
   "metadata": {},
   "outputs": [],
   "source": [
    "trainer.model.eval()\n",
    "torch.no_grad()"
   ]
  },
  {
   "cell_type": "code",
   "execution_count": null,
   "metadata": {},
   "outputs": [],
   "source": [
    "for batch_idx, (description_ts, primitive_types, affine_paramss, dataset_indices) in \\\n",
    "    enumerate(trainer.test_dataset_loader):\n",
    "    if batch_idx == 4:\n",
    "        break"
   ]
  },
  {
   "cell_type": "code",
   "execution_count": null,
   "metadata": {
    "scrolled": true
   },
   "outputs": [],
   "source": [
    "for ii, descr in enumerate(description_ts):\n",
    "    desc_str = \" \".join([trainer.train_dataset.vocab_reverse[j.item()] for j in descr])\n",
    "    print(batch_idx, ii, dataset_indices[ii].item(), desc_str)"
   ]
  },
  {
   "cell_type": "code",
   "execution_count": null,
   "metadata": {},
   "outputs": [],
   "source": [
    "description_ts_packed = rnn.pack_sequence(description_ts)                     \n",
    "description_ts_packed, primitive_types, affine_paramss = \\\n",
    "    description_ts_packed.to(trainer.device), primitive_types.to(trainer.device), affine_paramss.to(trainer.device)\n",
    "\n",
    "prim_pred, normal_dists, pi_dists = trainer.model(description_ts_packed)\n",
    "prim_types = torch.argmax(prim_pred, dim=1)"
   ]
  },
  {
   "cell_type": "code",
   "execution_count": null,
   "metadata": {},
   "outputs": [],
   "source": [
    "param_samples = trainer.sample_parameters(normal_dists, pi_dists)"
   ]
  },
  {
   "cell_type": "code",
   "execution_count": null,
   "metadata": {},
   "outputs": [],
   "source": []
  },
  {
   "cell_type": "code",
   "execution_count": null,
   "metadata": {
    "scrolled": true
   },
   "outputs": [],
   "source": [
    "fig, _ = trainer.calculate_metric(description_ts, dataset_indices, prim_types, param_samples, \\\n",
    "                                  plot_indices=None, train=False, plot=True)"
   ]
  },
  {
   "cell_type": "code",
   "execution_count": null,
   "metadata": {},
   "outputs": [],
   "source": [
    "idx = 29\n",
    "train = False"
   ]
  },
  {
   "cell_type": "code",
   "execution_count": null,
   "metadata": {},
   "outputs": [],
   "source": [
    "description_tensor = description_ts[idx]\n",
    "data_idx = dataset_indices[idx].item()\n",
    "prim_type = prim_types[idx].item()\n",
    "pred_params = [sample[idx].item() for sample in param_samples]\n",
    "if train:\n",
    "    info = trainer.train_dataset.data_raw[data_idx]\n",
    "else:\n",
    "    info = trainer.test_dataset.data_raw[data_idx]\n",
    "\n",
    "pred_template_name, pred_template = trainer.templates[int(prim_type)]\n",
    "gt_template_name,_ = trainer.templates[int(info[\"primitive_type\"])]\n",
    "if train:\n",
    "    data, gt_template, gt_fitted_template, gt_img = trainer.train_sequences[data_idx]\n",
    "else:\n",
    "    data, gt_template, gt_fitted_template, gt_img = trainer.test_sequences[data_idx]\n",
    "gt_params = [info[trainer.hp.parameter_names[pi]] for pi in range(len(trainer.hp.parameter_names))]\n",
    "\n",
    "pred_info = {}\n",
    "for pi in range(len(trainer.hp.parameter_names)):\n",
    "    pred_info[trainer.hp.parameter_names[pi]] = pred_params[pi]\n",
    "pred_M = ps.GET_AFFINE_FUNCS[\"get_affine_transformation\"](pred_info)\n",
    "\n",
    "if trainer.args.use_projective:\n",
    "    pred_template_pred_param = cv2.perspectiveTransform(pred_template, pred_M).reshape(-1,2)\n",
    "else:\n",
    "    pred_template_pred_param = cv2.transform(np.array([pred_template]).astype(np.float32), pred_M)[0][:,:-1]\n",
    "\n",
    "# gt_img = np.asarray(rd.render_img([gt_fitted_template], line_diameter=3))\n",
    "pred_img = np.asarray(rd.render_img([pred_template_pred_param], line_diameter=3))\n"
   ]
  },
  {
   "cell_type": "code",
   "execution_count": null,
   "metadata": {},
   "outputs": [],
   "source": [
    "from sklearn.neighbors import NearestNeighbors\n",
    "\n",
    "x,y = data, gt_fitted_template\n",
    "x_nn = NearestNeighbors(n_neighbors=1, leaf_size=1, algorithm='kd_tree', metric='l2').fit(x)\n",
    "min_y_to_x = x_nn.kneighbors(y)[0]\n",
    "y_nn = NearestNeighbors(n_neighbors=1, leaf_size=1, algorithm='kd_tree', metric='l2').fit(y)\n",
    "min_x_to_y = y_nn.kneighbors(x)[0]\n",
    "dist_y_to_x = np.mean(min_y_to_x)\n",
    "dist_x_to_y = np.mean(min_x_to_y)"
   ]
  },
  {
   "cell_type": "code",
   "execution_count": null,
   "metadata": {
    "scrolled": true
   },
   "outputs": [],
   "source": [
    "torch.set_printoptions(edgeitems=3)\n",
    "for param_idx,(normal_dist, pi_dist) in enumerate(zip(normal_dists, pi_dists)):\n",
    "    mu = normal_dist.loc[idx].reshape(-1,).detach().cpu().numpy()\n",
    "    sigma = normal_dist.scale[idx].reshape(-1,).detach().cpu().numpy()\n",
    "    pi = pi_dist.probs[idx].reshape(-1,).detach().cpu().numpy()\n",
    "    print(\"\\n\\t\", trainer.hp.parameter_names[param_idx], \"\\n\\t\", mu, \"\\n\\t\",sigma,\"\\n\\t\", pi)"
   ]
  },
  {
   "cell_type": "code",
   "execution_count": null,
   "metadata": {},
   "outputs": [],
   "source": [
    "def mod(a, n):\n",
    "    return (a % n + n) % n\n",
    "\n",
    "def diff_angle(targetA, sourceA):\n",
    "    a = targetA - sourceA\n",
    "    a = mod(a+np.pi, 2 * np.pi) - np.pi\n",
    "    return a\n",
    "\n",
    "np.degrees(diff_angle(pred_info[\"theta\"], info[\"theta\"]))"
   ]
  },
  {
   "cell_type": "markdown",
   "metadata": {},
   "source": [
    "## fitting primitives"
   ]
  },
  {
   "cell_type": "code",
   "execution_count": null,
   "metadata": {},
   "outputs": [],
   "source": [
    "reload(rd)"
   ]
  },
  {
   "cell_type": "code",
   "execution_count": null,
   "metadata": {},
   "outputs": [],
   "source": [
    "w = h = 256\n"
   ]
  },
  {
   "cell_type": "code",
   "execution_count": null,
   "metadata": {},
   "outputs": [],
   "source": [
    "b_spline_num_sampled_points = num_sampled_points = n = 200\n",
    "use_projective = False"
   ]
  },
  {
   "cell_type": "code",
   "execution_count": null,
   "metadata": {
    "scrolled": false
   },
   "outputs": [],
   "source": [
    "templates = {}\n",
    "template_dict_processed = {}\n",
    "for i,(k,v) in enumerate(TEMPLATE_DICT.items()):\n",
    "    arr = v(b_spline_num_sampled_points)\n",
    "    template_dict_processed[k] = arr\n",
    "    templates[i] = (k,arr)"
   ]
  },
  {
   "cell_type": "code",
   "execution_count": null,
   "metadata": {},
   "outputs": [],
   "source": []
  },
  {
   "cell_type": "code",
   "execution_count": null,
   "metadata": {},
   "outputs": [],
   "source": [
    "rd.plot_primitives(template_dict_processed,w=2, h=2,num_pngs_per_row = 1, row_figsize = 10, column_figsize = 10)"
   ]
  },
  {
   "cell_type": "code",
   "execution_count": null,
   "metadata": {},
   "outputs": [],
   "source": [
    "with open(\"/raid/xiaoyuz1/primitive_selector_training_data/july_15_all.pkl\", \"wb+\") as f:\n",
    "    pickle.dump(all_data, f)"
   ]
  },
  {
   "cell_type": "code",
   "execution_count": null,
   "metadata": {},
   "outputs": [],
   "source": [
    "for t in [\"train\", \"dev\", \"test\"]:\n",
    "    data_split = [x for x in all_data if x[\"split\"] == t]\n",
    "    data_split_dict = dict(zip(range(len(data_split)), data_split))\n",
    "    with open(f\"/raid/xiaoyuz1/primitive_selector_training_data/july_15_{t}.pkl\", \"wb+\") as f:\n",
    "        pickle.dump(data_split, f)"
   ]
  },
  {
   "cell_type": "code",
   "execution_count": null,
   "metadata": {},
   "outputs": [],
   "source": [
    "all_data = pickle.load(open(\"/raid/xiaoyuz1/primitive_selector_training_data/jul_20.pkl\", \"rb\"))\n",
    "df = pd.DataFrame(all_data)"
   ]
  },
  {
   "cell_type": "code",
   "execution_count": null,
   "metadata": {},
   "outputs": [],
   "source": [
    "print(all_data.keys())"
   ]
  },
  {
   "cell_type": "code",
   "execution_count": null,
   "metadata": {
    "code_folding": []
   },
   "outputs": [],
   "source": [
    "all_data[\"all\"][0].keys()"
   ]
  },
  {
   "cell_type": "code",
   "execution_count": null,
   "metadata": {},
   "outputs": [],
   "source": [
    "data_raw = all_data[\"all\"]"
   ]
  },
  {
   "cell_type": "code",
   "execution_count": null,
   "metadata": {},
   "outputs": [],
   "source": [
    "info = data_raw[0]"
   ]
  },
  {
   "cell_type": "code",
   "execution_count": null,
   "metadata": {},
   "outputs": [],
   "source": [
    "gt_fitted_img = rd.render_img([data_raw[5][\"result\"]], side=64, line_diameter=3, original_side = 64, convert=False)\n",
    "img1 = transforms.ToTensor()(gt_fitted_img).squeeze(0).numpy()\n",
    "\n",
    "gt_fitted_img2 = rd.render_img([data_raw[2][\"result\"]], side=64, line_diameter=3, original_side = 64, convert=False)\n",
    "img2 = transforms.ToTensor()(gt_fitted_img2).squeeze(0).numpy()"
   ]
  },
  {
   "cell_type": "code",
   "execution_count": null,
   "metadata": {},
   "outputs": [],
   "source": [
    "gt_fitted_img"
   ]
  },
  {
   "cell_type": "code",
   "execution_count": null,
   "metadata": {},
   "outputs": [],
   "source": [
    "gt_fitted_img2"
   ]
  },
  {
   "cell_type": "code",
   "execution_count": null,
   "metadata": {},
   "outputs": [],
   "source": [
    "img1.shape"
   ]
  },
  {
   "cell_type": "code",
   "execution_count": null,
   "metadata": {},
   "outputs": [],
   "source": [
    "from skimage.metrics import structural_similarity \n",
    "\n",
    "ssim = structural_similarity(img1, img2, multichannel=False, data_range=1)"
   ]
  },
  {
   "cell_type": "code",
   "execution_count": null,
   "metadata": {},
   "outputs": [],
   "source": [
    "ssim"
   ]
  },
  {
   "cell_type": "code",
   "execution_count": null,
   "metadata": {},
   "outputs": [],
   "source": [
    "img = transforms.Compose([transforms.ToTensor()])(PIL.Image.open(info[\"image_path\"]))"
   ]
  },
  {
   "cell_type": "code",
   "execution_count": null,
   "metadata": {},
   "outputs": [],
   "source": [
    "torch.stack([img,img]).shape"
   ]
  },
  {
   "cell_type": "code",
   "execution_count": null,
   "metadata": {},
   "outputs": [],
   "source": []
  },
  {
   "cell_type": "markdown",
   "metadata": {
    "heading_collapsed": true
   },
   "source": [
    "### plot GMM"
   ]
  },
  {
   "cell_type": "code",
   "execution_count": null,
   "metadata": {
    "hidden": true
   },
   "outputs": [],
   "source": [
    "M_all = np.asarray(df.M.to_list())"
   ]
  },
  {
   "cell_type": "code",
   "execution_count": null,
   "metadata": {
    "hidden": true,
    "scrolled": true
   },
   "outputs": [],
   "source": [
    "from sklearn.mixture import GaussianMixture\n",
    "\n",
    "X = np.asarray(df.sx.to_list()).reshape(-1, 1)\n",
    "# M_all[:,0].reshape(-1, 1)\n",
    "print(X.min(), X.max())\n",
    "\n",
    "N = np.arange(1, 11)\n",
    "models = [None for i in range(len(N))]\n",
    "\n",
    "for i in range(len(N)):\n",
    "    models[i] = GaussianMixture(N[i]).fit(X)\n",
    "\n",
    "# compute the AIC and the BIC\n",
    "AIC = [m.aic(X) for m in models]\n",
    "BIC = [m.bic(X) for m in models]\n",
    "\n",
    "\n",
    "#------------------------------------------------------------\n",
    "# Plot the results\n",
    "#  We'll use three panels:\n",
    "#   1) data + best-fit mixture\n",
    "#   2) AIC and BIC vs number of components\n",
    "#   3) probability that a point came from each component\n",
    "\n",
    "fig = plt.figure(figsize=(15, 20))\n",
    "fig.subplots_adjust(left=0.12, right=0.97,\n",
    "                    bottom=0.21, top=0.9, wspace=0.5)\n",
    "\n",
    "\n",
    "# plot 1: data + best-fit mixture\n",
    "ax = fig.add_subplot(311)\n",
    "M_best = models[np.argmin(AIC)]\n",
    "\n",
    "x = np.linspace(X.min(), X.max(), 1000)\n",
    "logprob = M_best.score_samples(x.reshape(-1, 1))\n",
    "responsibilities = M_best.predict_proba(x.reshape(-1, 1))\n",
    "pdf = np.exp(logprob)\n",
    "pdf_individual = responsibilities * pdf[:, np.newaxis]\n",
    "\n",
    "ax.hist(X, 30, density=True, histtype='stepfilled', alpha=0.4)\n",
    "ax.plot(x, pdf, '-k')\n",
    "ax.plot(x, pdf_individual, '--k')\n",
    "ax.text(0.04, 0.96, \"Best-fit Mixture\",\n",
    "        ha='left', va='top', transform=ax.transAxes)\n",
    "ax.set_xlabel('$x$')\n",
    "ax.set_ylabel('$p(x)$')\n",
    "\n",
    "\n",
    "# plot 2: AIC and BIC\n",
    "ax = fig.add_subplot(312)\n",
    "ax.plot(N, AIC, '-k', label='AIC')\n",
    "ax.plot(N, BIC, '--k', label='BIC')\n",
    "ax.set_xlabel('n. components')\n",
    "ax.set_ylabel('information criterion')\n",
    "ax.legend(loc=2)\n",
    "\n",
    "\n",
    "# plot 3: posterior probabilities for each component\n",
    "ax = fig.add_subplot(313)\n",
    "\n",
    "p = responsibilities\n",
    "p = p[:, (1, 0, 2)]  # rearrange order so the plot looks better\n",
    "p = p.cumsum(1).T\n",
    "\n",
    "ax.fill_between(x, 0, p[0], color='gray', alpha=0.3)\n",
    "ax.fill_between(x, p[0], p[1], color='gray', alpha=0.5)\n",
    "ax.fill_between(x, p[1], 1, color='gray', alpha=0.7)\n",
    "ax.set_xlim(-6, 6)\n",
    "ax.set_ylim(0, 1)\n",
    "ax.set_xlabel('$x$')\n",
    "ax.set_ylabel(r'$p({\\rm class}|x)$')\n",
    "\n",
    "ax.text(-5, 0.3, 'class 1', rotation='vertical')\n",
    "ax.text(0, 0.5, 'class 2', rotation='vertical')\n",
    "ax.text(3, 0.3, 'class 3', rotation='vertical')\n",
    "\n",
    "plt.show()\n"
   ]
  },
  {
   "cell_type": "code",
   "execution_count": null,
   "metadata": {
    "hidden": true
   },
   "outputs": [],
   "source": [
    "print(M_best.weights_)\n",
    "print(M_best.means_)\n",
    "print(M_best.covariances_)"
   ]
  },
  {
   "cell_type": "markdown",
   "metadata": {},
   "source": [
    "### code"
   ]
  },
  {
   "cell_type": "code",
   "execution_count": null,
   "metadata": {},
   "outputs": [],
   "source": [
    "df.iloc[110]"
   ]
  },
  {
   "cell_type": "code",
   "execution_count": null,
   "metadata": {},
   "outputs": [],
   "source": [
    "plot_prepared_data(df.iloc[110])"
   ]
  },
  {
   "cell_type": "code",
   "execution_count": null,
   "metadata": {},
   "outputs": [],
   "source": [
    "drawing_arr = ps.CONST.face_json['train_data']"
   ]
  },
  {
   "cell_type": "code",
   "execution_count": null,
   "metadata": {},
   "outputs": [],
   "source": [
    "reload(rd)\n"
   ]
  },
  {
   "cell_type": "code",
   "execution_count": null,
   "metadata": {},
   "outputs": [],
   "source": []
  },
  {
   "cell_type": "code",
   "execution_count": null,
   "metadata": {},
   "outputs": [],
   "source": []
  },
  {
   "cell_type": "code",
   "execution_count": null,
   "metadata": {
    "scrolled": true
   },
   "outputs": [],
   "source": [
    "reload(rd)\n",
    "from tqdm import tqdm\n",
    "\n",
    "M_arr = collections.defaultdict(lambda : np.zeros(9))\n",
    "M_name = collections.defaultdict(lambda : \" \")\n",
    "M_mse = collections.defaultdict(float)\n",
    "\n",
    "\n",
    "for idx in tqdm(range(len(drawing_arr))):\n",
    "# for idx in range(len(drawing_arr)):\n",
    "#     print(idx)\n",
    "    \n",
    "    strokes_spline_fitted = rd.process_quickdraw_to_part_convex_hull(\n",
    "        drawing_arr[idx],\n",
    "        list(CONST.face_parts_idx_dict.keys()),\n",
    "        b_spline_num_sampled_points=n,\n",
    "    )\n",
    "\n",
    "    for _, (part_type, sketch_data) in enumerate(strokes_spline_fitted.items()):\n",
    "        \n",
    "        mat, prim_name, prim_mse = rd.get_transform_smallest_mse(\n",
    "            sketch_data, template_dict_processed, use_projective=use_projective,\n",
    "        )\n",
    "        M_arr[(idx, part_type)] = mat\n",
    "        M_name[(idx, part_type)] = prim_name\n",
    "        M_mse[(idx, part_type)] = prim_mse\n",
    "        \n"
   ]
  },
  {
   "cell_type": "code",
   "execution_count": null,
   "metadata": {},
   "outputs": [],
   "source": [
    "with open('/raid/xiaoyuz1/SPG_Face_Part_256_projective_{}_mse.pkl'.format(use_projective), \"wb+\") as f:\n",
    "    pickle.dump((dict(M_arr), dict(M_name), dict(M_mse)), f)"
   ]
  },
  {
   "cell_type": "code",
   "execution_count": null,
   "metadata": {},
   "outputs": [],
   "source": [
    "'/raid/xiaoyuz1/SPG_Face_Part_256_projective_{}_mse.pkl'.format(use_projective)"
   ]
  },
  {
   "cell_type": "code",
   "execution_count": null,
   "metadata": {},
   "outputs": [],
   "source": [
    "line_dict = dict(filter(lambda x: x[1] == 'line', M_name.items()))\n",
    "print(len(line_dict), line_dict)"
   ]
  },
  {
   "cell_type": "code",
   "execution_count": null,
   "metadata": {},
   "outputs": [],
   "source": []
  },
  {
   "cell_type": "code",
   "execution_count": null,
   "metadata": {},
   "outputs": [],
   "source": [
    "M_arr, M_name = None,None\n",
    "M_mse = None\n",
    "fname = '/raid/xiaoyuz1/SPG_Face_Part_256_projective_False_mse.pkl'\n",
    "with open(fname, \"rb\") as f:\n",
    "    M_arr, M_name, M_mse = pickle.load(f)"
   ]
  },
  {
   "cell_type": "code",
   "execution_count": null,
   "metadata": {},
   "outputs": [],
   "source": [
    "mse_l = list(filter(lambda x: not math.isinf(x), list(M_mse.values())))\n",
    "np.mean(mse_l)"
   ]
  },
  {
   "cell_type": "code",
   "execution_count": null,
   "metadata": {
    "scrolled": true
   },
   "outputs": [],
   "source": [
    "image_list = list(map(lambda x: int(x[0]), M_name.keys()))\n",
    "stroke_list = list(map(lambda x: int(x[1]), M_name.keys()))\n",
    "arr_list = list(M_arr.values())\n",
    "name_list = list(M_name.values())\n",
    "mse_list = list(M_mse.values())\n",
    "\n",
    "data = {'image': image_list, 'stroke' : stroke_list, 'M' : arr_list, 'primitive' : name_list, 'mse' : mse_list}\n",
    "\n",
    "for c_idx,c in enumerate(np.asarray(arr_list).T):\n",
    "    if c_idx > 5:\n",
    "        continue\n",
    "    data['M{}'.format(str(c_idx))] = c\n",
    "\n",
    "df = pd.DataFrame.from_dict(data)"
   ]
  },
  {
   "cell_type": "code",
   "execution_count": null,
   "metadata": {},
   "outputs": [],
   "source": [
    "dfa = df[df.mse.apply(lambda x: not math.isinf(x))]"
   ]
  },
  {
   "cell_type": "code",
   "execution_count": null,
   "metadata": {},
   "outputs": [],
   "source": [
    "dfa"
   ]
  },
  {
   "cell_type": "code",
   "execution_count": null,
   "metadata": {},
   "outputs": [],
   "source": [
    "M_all = np.asarray(dfa.M.to_list())"
   ]
  },
  {
   "cell_type": "code",
   "execution_count": null,
   "metadata": {},
   "outputs": [],
   "source": []
  },
  {
   "cell_type": "markdown",
   "metadata": {},
   "source": [
    "---------------------------------------"
   ]
  },
  {
   "cell_type": "code",
   "execution_count": null,
   "metadata": {},
   "outputs": [],
   "source": [
    "idx = 0\n",
    "stroke_idx = 1"
   ]
  },
  {
   "cell_type": "code",
   "execution_count": null,
   "metadata": {},
   "outputs": [],
   "source": [
    " pen_lift_indices = np.where(drawing_raw[:,2] == 1)[0]+1\n",
    "        pen_and_part = np.vsplit(drawing_raw[:,2:].astype(float), pen_lift_indices)"
   ]
  },
  {
   "cell_type": "code",
   "execution_count": null,
   "metadata": {},
   "outputs": [],
   "source": [
    "\n",
    "rd.show_these_sketches(\n",
    "    CONST.face_json,\n",
    "    [idx], \n",
    "    [str(idx)], \n",
    "    [[]], \n",
    "    num_pngs_per_row = 6,\n",
    "    row_figsize = 4,\n",
    "    column_figsize = 4,\n",
    ")\n",
    "\n"
   ]
  },
  {
   "cell_type": "code",
   "execution_count": null,
   "metadata": {},
   "outputs": [],
   "source": [
    "strokes_spline_fitted = rd.process_quickdraw_to_part_convex_hull(\n",
    "    drawing_arr[idx],\n",
    "    list(CONST.face_parts_idx_dict.keys()),\n",
    "    b_spline_num_sampled_points=n,\n",
    ")\n",
    "\n",
    "# strokes_spline_fitted = rd.process_quickdraw_to_stroke_no_normalize(\n",
    "#     drawing_arr[idx], \n",
    "#     b_spline_num_sampled_points=200,\n",
    "# )\n",
    "# print(len(strokes_spline_fitted))"
   ]
  },
  {
   "cell_type": "code",
   "execution_count": null,
   "metadata": {},
   "outputs": [],
   "source": []
  },
  {
   "cell_type": "code",
   "execution_count": null,
   "metadata": {},
   "outputs": [],
   "source": [
    "from scipy.spatial import ConvexHull, convex_hull_plot_2d\n",
    "\n",
    "parts_indices = list(CONST.face_parts_idx_dict.keys())\n",
    "\n",
    "drawing_raw = np.asarray(drawing_arr[idx])\n",
    "drawing_raw[:,0] = np.cumsum(drawing_raw[:,0], 0) + 25\n",
    "drawing_raw[:,1] = np.cumsum(drawing_raw[:,1], 0) + 25\n",
    "\n",
    "parts = []\n",
    "part_idx_part = {}\n",
    "\n",
    "for k in parts_indices:\n",
    "    strokes = drawing_raw[drawing_raw[:,-1] == k]\n",
    "    if len(strokes) < 1:\n",
    "        continue\n",
    "    parts.append(strokes)\n",
    "    part_idx_part[k] = strokes[:,:2]"
   ]
  },
  {
   "cell_type": "code",
   "execution_count": null,
   "metadata": {},
   "outputs": [],
   "source": [
    "M_arr_idx, M_name_idx, M_mse_idx = {},{},{}\n",
    "for stroke_index, (part_type, data) in enumerate(strokes_spline_fitted.items()):\n",
    "        \n",
    "    mat, prim_name, prim_mse = rd.get_transform_smallest_mse(\n",
    "        data, template_dict_processed, use_projective=use_projective,\n",
    "    )\n",
    "    M_arr_idx[(idx, part_type)] = mat\n",
    "    M_name_idx[(idx, part_type)] = prim_name\n",
    "    M_mse_idx[(idx, part_type)] = prim_mse"
   ]
  },
  {
   "cell_type": "code",
   "execution_count": null,
   "metadata": {
    "scrolled": false
   },
   "outputs": [],
   "source": [
    "f, (ax1, ax2) = plt.subplots(1, 2, figsize=(12, 6))\n",
    "\n",
    "for k, M in M_arr_idx.items():\n",
    "#     if k[1] != 3:\n",
    "#         continue\n",
    "    data = strokes_spline_fitted[k[1]]\n",
    "    \n",
    "    template = template_dict_processed[M_name_idx[(idx, k[1])]]\n",
    "    Mm = M.reshape(3,3)\n",
    "    \n",
    "    result, mse = rd.get_transformed_template(template, data, Mm,projective=use_projective)\n",
    "    ax1.scatter(result[:,0], result[:,1], label=\"transformed template\", s=1, c='r')\n",
    "    ax2.scatter(data[:,0], data[:,1], label=\"data\", alpha=0.5, s=1, c='g')\n",
    "\n",
    "# plt.legend()\n",
    "# plt.xlim(0,w)\n",
    "# plt.ylim(h,0)\n",
    "\n",
    "\n",
    "ax1.axis(xmin=0,xmax=w)\n",
    "ax1.axis(ymin=h,ymax=0)\n",
    "\n",
    "ax2.axis(xmin=0,xmax=w)\n",
    "ax2.axis(ymin=h,ymax=0)\n",
    "\n",
    "plt.show()"
   ]
  },
  {
   "cell_type": "code",
   "execution_count": null,
   "metadata": {},
   "outputs": [],
   "source": [
    "M_arr_idx, M_name_idx, M_mse_idx"
   ]
  },
  {
   "cell_type": "code",
   "execution_count": null,
   "metadata": {
    "scrolled": false
   },
   "outputs": [],
   "source": [
    "f, (ax1, ax2) = plt.subplots(1, 2, figsize=(12, 6))\n",
    "\n",
    "for index, entry in dfa[dfa.image == idx].iterrows():\n",
    "    data = strokes_spline_fitted[entry.stroke]\n",
    "    \n",
    "    template_func = TEMPLATE_DICT[entry.primitive]\n",
    "    template = template_func(n)\n",
    "    \n",
    "    print(entry.M.reshape(3,3))\n",
    "    \n",
    "    result, mse = rd.get_transformed_template(template, data, entry.M.reshape(3,3),projective=use_projective)\n",
    "    ax1.scatter(result[:,0], result[:,1], label=\"transformed template\", s=1, c='r')\n",
    "    ax2.scatter(data[:,0], data[:,1], label=\"data\", alpha=0.5, s=1, c='g')\n",
    "    orig_data = part_idx_part[int(entry.stroke)]\n",
    "    ax2.plot(orig_data[:,0], orig_data[:,1], alpha=0.5, c='b')\n",
    "    \n",
    "#     ax1.plot(result[:,0], result[:,1], label=\"transformed template\", c='r')\n",
    "#     ax2.plot(data[:,0], data[:,1], label=\"data\", alpha=0.5,c='g')\n",
    "\n",
    "# plt.legend()\n",
    "# plt.xlim(0,w)\n",
    "# plt.ylim(h,0)\n",
    "\n",
    "ax1.axis(xmin=0,xmax=w)\n",
    "ax1.axis(ymin=h,ymax=0)\n",
    "\n",
    "ax2.axis(xmin=0,xmax=w)\n",
    "ax2.axis(ymin=h,ymax=0)\n",
    "\n",
    "plt.show()"
   ]
  },
  {
   "cell_type": "markdown",
   "metadata": {
    "scrolled": true
   },
   "source": [
    "## old icp code"
   ]
  },
  {
   "cell_type": "code",
   "execution_count": null,
   "metadata": {},
   "outputs": [],
   "source": [
    "import cv2\n",
    "import numpy as np\n",
    "import sys\n",
    "from numpy.random import *"
   ]
  },
  {
   "cell_type": "code",
   "execution_count": null,
   "metadata": {},
   "outputs": [],
   "source": [
    "def del_miss(indeces, dist, max_dist, th_rate = 0.8):\n",
    "    th_dist = max_dist * th_rate\n",
    "    return np.array([indeces[0][np.where(dist.T[0] < th_dist)]])\n"
   ]
  },
  {
   "cell_type": "code",
   "execution_count": null,
   "metadata": {},
   "outputs": [],
   "source": [
    "def is_converge(Tr, scale):\n",
    "    delta_angle = 0.0001\n",
    "    delta_scale = scale * 0.0001\n",
    "    \n",
    "    min_cos = 1 - delta_angle\n",
    "    max_cos = 1 + delta_angle\n",
    "    min_sin = -delta_angle\n",
    "    max_sin = delta_angle\n",
    "    min_move = -delta_scale\n",
    "    max_move = delta_scale\n",
    "    \n",
    "    return min_cos < Tr[0, 0] and Tr[0, 0] < max_cos and \\\n",
    "           min_cos < Tr[1, 1] and Tr[1, 1] < max_cos and \\\n",
    "           min_sin < -Tr[1, 0] and -Tr[1, 0] < max_sin and \\\n",
    "           min_sin < Tr[0, 1] and Tr[0, 1] < max_sin and \\\n",
    "           min_move < Tr[0, 2] and Tr[0, 2] < max_move and \\\n",
    "           min_move < Tr[1, 2] and Tr[1, 2] < max_move"
   ]
  },
  {
   "cell_type": "code",
   "execution_count": null,
   "metadata": {},
   "outputs": [],
   "source": [
    "def icp(d1, d2, max_iterate = 100):\n",
    "    src = np.array([d1.T], copy=True).astype(np.float32)\n",
    "    dst = np.array([d2.T], copy=True).astype(np.float32)\n",
    "    \n",
    "    knn = cv2.KNearest()\n",
    "    responses = np.array(range(len(d2[0]))).astype(np.float32)\n",
    "    knn.train(src[0], responses)\n",
    "        \n",
    "    Tr = np.array([[np.cos(0), -np.sin(0), 0],\n",
    "                   [np.sin(0), np.cos(0),  0],\n",
    "                   [0,         0,          1]])\n",
    "\n",
    "    dst = cv2.transform(dst, Tr[0:2])\n",
    "    max_dist = sys.maxint\n",
    "    \n",
    "    scale_x = np.max(d1[0]) - np.min(d1[0])\n",
    "    scale_y = np.max(d1[1]) - np.min(d1[1])\n",
    "    scale = max(scale_x, scale_y)\n",
    "       \n",
    "    for i in range(max_iterate):\n",
    "        ret, results, neighbours, dist = knn.find_nearest(dst[0], 1)\n",
    "        \n",
    "        indeces = results.astype(np.int32).T     \n",
    "        indeces = del_miss(indeces, dist, max_dist)  \n",
    "        \n",
    "        T = cv2.estimateRigidTransform(dst[0, indeces], src[0, indeces], True)\n",
    "\n",
    "        max_dist = np.max(dist)\n",
    "        dst = cv2.transform(dst, T)\n",
    "        Tr = np.dot(np.vstack((T,[0,0,1])), Tr)\n",
    "        \n",
    "        if (is_converge(T, scale)):\n",
    "            break\n",
    "        \n",
    "    return Tr[0:2]"
   ]
  },
  {
   "cell_type": "code",
   "execution_count": null,
   "metadata": {},
   "outputs": [],
   "source": [
    "if __name__ == \"__main__\":\n",
    "    import matplotlib.pyplot as plt\n",
    "    \n",
    "    point_count = 100\n",
    "    th = np.pi / 8\n",
    "    move = np.array([[0.30], [0.5]])\n",
    "    rnd_scale = 0.03\n",
    "    x1 = np.linspace(0, 1.1, point_count)\n",
    "    y1 = np.sin(x1 * np.pi)\n",
    "    d1 = np.array([x1, y1])\n",
    "\n",
    "    rot = np.array([[np.cos(th), -np.sin(th)], [np.sin(th), np.cos(th)]])\n",
    "    rand = np.random.rand(2, point_count)*rnd_scale\n",
    "    d2 = np.dot(rot, d1) + move\n",
    "    d2 = np.add(d2, rand)\n",
    "\n",
    "    plt.plot(d1[0], d1[1])\n",
    "    plt.plot(d2[0], d2[1])\n",
    "    plt.show()"
   ]
  },
  {
   "cell_type": "code",
   "execution_count": null,
   "metadata": {},
   "outputs": [],
   "source": [
    "    ret = icp(d1, d2)\n",
    "    \n",
    "    plt.plot(d1[0], d1[1])\n",
    "    dst = np.array([d2.T], copy=True).astype(np.float32)\n",
    "    dst = cv2.transform(dst, ret)\n",
    "    plt.plot(dst[0].T[0], dst[0].T[1])\n",
    "    plt.show()\n",
    "    \n",
    "    print ret[0][0] * ret[0][0] + ret[0][1] * ret[0][1]\n",
    "    print np.arccos(ret[0][0]) / 2 / np.pi * 360\n",
    "    print np.arcsin(ret[0][1]) / 2 / np.pi * 360\n",
    "\n",
    "    print ret"
   ]
  },
  {
   "cell_type": "code",
   "execution_count": null,
   "metadata": {},
   "outputs": [],
   "source": [
    "def icp(a, b,\n",
    "        max_time = 1\n",
    "    ):\n",
    "    import cv2\n",
    "    import numpy\n",
    "    import copy\n",
    "    import pylab\n",
    "    import time\n",
    "    import sys\n",
    "    import sklearn.neighbors\n",
    "    import scipy.optimize\n",
    "\n",
    "\n",
    "\n",
    "    def res(p,src,dst):\n",
    "        T = numpy.matrix([[numpy.cos(p[2]),-numpy.sin(p[2]),p[0]],\n",
    "        [numpy.sin(p[2]), numpy.cos(p[2]),p[1]],\n",
    "        [0 ,0 ,1 ]])\n",
    "        n = numpy.size(src,0)\n",
    "        xt = numpy.ones([n,3])\n",
    "        xt[:,:-1] = src\n",
    "        xt = (xt*T.T).A\n",
    "        d = numpy.zeros(numpy.shape(src))\n",
    "        d[:,0] = xt[:,0]-dst[:,0]\n",
    "        d[:,1] = xt[:,1]-dst[:,1]\n",
    "        r = numpy.sum(numpy.square(d[:,0])+numpy.square(d[:,1]))\n",
    "        return r\n",
    "\n",
    "    def jac(p,src,dst):\n",
    "        T = numpy.matrix([[numpy.cos(p[2]),-numpy.sin(p[2]),p[0]],\n",
    "        [numpy.sin(p[2]), numpy.cos(p[2]),p[1]],\n",
    "        [0 ,0 ,1 ]])\n",
    "        n = numpy.size(src,0)\n",
    "        xt = numpy.ones([n,3])\n",
    "        xt[:,:-1] = src\n",
    "        xt = (xt*T.T).A\n",
    "        d = numpy.zeros(numpy.shape(src))\n",
    "        d[:,0] = xt[:,0]-dst[:,0]\n",
    "        d[:,1] = xt[:,1]-dst[:,1]\n",
    "        dUdth_R = numpy.matrix([[-numpy.sin(p[2]),-numpy.cos(p[2])],\n",
    "                            [ numpy.cos(p[2]),-numpy.sin(p[2])]])\n",
    "        dUdth = (src*dUdth_R.T).A\n",
    "        g = numpy.array([  numpy.sum(2*d[:,0]),\n",
    "                        numpy.sum(2*d[:,1]),\n",
    "                        numpy.sum(2*(d[:,0]*dUdth[:,0]+d[:,1]*dUdth[:,1])) ])\n",
    "        return g\n",
    "    \n",
    "    def hess(p,src,dst):\n",
    "        n = numpy.size(src,0)\n",
    "        T = numpy.matrix([[numpy.cos(p[2]),-numpy.sin(p[2]),p[0]],\n",
    "        [numpy.sin(p[2]), numpy.cos(p[2]),p[1]],\n",
    "        [0 ,0 ,1 ]])\n",
    "        n = numpy.size(src,0)\n",
    "        xt = numpy.ones([n,3])\n",
    "        xt[:,:-1] = src\n",
    "        xt = (xt*T.T).A\n",
    "        d = numpy.zeros(numpy.shape(src))\n",
    "        d[:,0] = xt[:,0]-dst[:,0]\n",
    "        d[:,1] = xt[:,1]-dst[:,1]\n",
    "        dUdth_R = numpy.matrix([[-numpy.sin(p[2]),-numpy.cos(p[2])],[numpy.cos(p[2]),-numpy.sin(p[2])]])\n",
    "        dUdth = (src*dUdth_R.T).A\n",
    "        H = numpy.zeros([3,3])\n",
    "        H[0,0] = n*2\n",
    "        H[0,2] = numpy.sum(2*dUdth[:,0])\n",
    "        H[1,1] = n*2\n",
    "        H[1,2] = numpy.sum(2*dUdth[:,1])\n",
    "        H[2,0] = H[0,2]\n",
    "        H[2,1] = H[1,2]\n",
    "        d2Ud2th_R = numpy.matrix([[-numpy.cos(p[2]), numpy.sin(p[2])],[-numpy.sin(p[2]),-numpy.cos(p[2])]])\n",
    "        d2Ud2th = (src*d2Ud2th_R.T).A\n",
    "        H[2,2] = numpy.sum(2*(numpy.square(dUdth[:,0])+numpy.square(dUdth[:,1]) + d[:,0]*d2Ud2th[:,0]+d[:,0]*d2Ud2th[:,0]))\n",
    "        return H\n",
    "    \n",
    "    \n",
    "    t0 = time.time()\n",
    "    init_pose = (0,0,0)\n",
    "    src = numpy.array([a.T], copy=True).astype(numpy.float32)\n",
    "    dst = numpy.array([b.T], copy=True).astype(numpy.float32)\n",
    "    Tr = numpy.array([[numpy.cos(init_pose[2]),-numpy.sin(init_pose[2]),init_pose[0]],\n",
    "                   [numpy.sin(init_pose[2]), numpy.cos(init_pose[2]),init_pose[1]],\n",
    "                   [0,                    0,                   1          ]])\n",
    "    print(\"src\",numpy.shape(src))\n",
    "    print(\"Tr[0:2]\",numpy.shape(Tr[0:2]))\n",
    "    src = cv2.transform(src, Tr[0:2])\n",
    "    p_opt = numpy.array(init_pose)\n",
    "    T_opt = numpy.array([])\n",
    "    error_max = sys.maxsize\n",
    "    first = False\n",
    "    while not(first and time.time() - t0 > max_time):\n",
    "        distances, indices = sklearn.neighbors.NearestNeighbors(n_neighbors=1, algorithm='auto',p = 3).fit(dst[0]).kneighbors(src[0])\n",
    "        p = scipy.optimize.minimize(res,[0,0,0],args=(src[0],dst[0, indices.T][0]),method='Newton-CG',jac=jac,hess=hess).x\n",
    "        T  = numpy.array([[numpy.cos(p[2]),-numpy.sin(p[2]),p[0]],[numpy.sin(p[2]), numpy.cos(p[2]),p[1]]])\n",
    "        p_opt[:2]  = (p_opt[:2]*numpy.matrix(T[:2,:2]).T).A       \n",
    "        p_opt[0] += p[0]\n",
    "        p_opt[1] += p[1]\n",
    "        p_opt[2] += p[2]\n",
    "        src = cv2.transform(src, T)\n",
    "        Tr = (numpy.matrix(numpy.vstack((T,[0,0,1])))*numpy.matrix(Tr)).A\n",
    "        error = res([0,0,0],src[0],dst[0, indices.T][0])\n",
    "\n",
    "        if error < error_max:\n",
    "            error_max = error\n",
    "            first = True\n",
    "            T_opt = Tr\n",
    "\n",
    "    p_opt[2] = p_opt[2] % (2*numpy.pi)\n",
    "    return T_opt, error_max\n",
    "\n",
    "\n",
    "def main():\n",
    "    import cv2\n",
    "    import numpy\n",
    "    import random\n",
    "    import matplotlib.pyplot\n",
    "    n1 = 100\n",
    "    n2 = 75\n",
    "    bruit = 1/10\n",
    "    center = [random.random()*(2-1)*3,random.random()*(2-1)*3]\n",
    "    radius = random.random()\n",
    "    deformation = 2\n",
    "\n",
    "    template = numpy.array([\n",
    "        [numpy.cos(i*2*numpy.pi/n1)*radius*deformation for i in range(n1)], \n",
    "        [numpy.sin(i*2*numpy.pi/n1)*radius for i in range(n1)]\n",
    "    ])\n",
    "\n",
    "    data = numpy.array([\n",
    "        [numpy.cos(i*2*numpy.pi/n2)*radius*(1+random.random()*bruit)+center[0] for i in range(n2)], \n",
    "        [numpy.sin(i*2*numpy.pi/n2)*radius*deformation*(1+random.random()*bruit)+center[1] for i in range(n2)]\n",
    "    ])\n",
    "\n",
    "    T,error = icp(data,template)\n",
    "    dx = T[0,2]\n",
    "    dy = T[1,2]\n",
    "    rotation = numpy.arcsin(T[0,1]) * 360 / 2 / numpy.pi\n",
    "\n",
    "    print(\"T\",T)\n",
    "    print(\"error\",error)\n",
    "    print(\"rotation°\",rotation)\n",
    "    print(\"dx\",dx)\n",
    "    print(\"dy\",dy)\n",
    "\n",
    "    result = cv2.transform(numpy.array([data.T], copy=True).astype(numpy.float32), T).T\n",
    "    matplotlib.pyplot.plot(template[0], template[1], label=\"template\")\n",
    "    matplotlib.pyplot.plot(data[0], data[1], label=\"data\")\n",
    "    matplotlib.pyplot.plot(result[0], result[1], label=\"result: \"+str(rotation)+\"° - \"+str([dx,dy]))\n",
    "    matplotlib.pyplot.legend(loc=\"upper left\")\n",
    "    matplotlib.pyplot.axis('square')\n",
    "    matplotlib.pyplot.show()\n",
    "\n",
    "if __name__ == \"__main__\":\n",
    "    main()"
   ]
  }
 ],
 "metadata": {
  "kernelspec": {
   "display_name": "clipdraw",
   "language": "python",
   "name": "clipdraw"
  },
  "language_info": {
   "codemirror_mode": {
    "name": "ipython",
    "version": 3
   },
   "file_extension": ".py",
   "mimetype": "text/x-python",
   "name": "python",
   "nbconvert_exporter": "python",
   "pygments_lexer": "ipython3",
   "version": "3.8.12"
  }
 },
 "nbformat": 4,
 "nbformat_minor": 1
}
