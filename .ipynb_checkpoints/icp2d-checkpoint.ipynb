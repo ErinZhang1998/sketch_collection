{
 "cells": [
  {
   "cell_type": "code",
   "execution_count": 1,
   "metadata": {},
   "outputs": [],
   "source": [
    "import seaborn as sns\n",
    "import numpy as np\n",
    "import pandas as pd\n",
    "import os\n",
    "import json\n",
    "import matplotlib.pyplot as plt\n",
    "import PIL\n",
    "import read_datasets as rd\n",
    "import constants as CONST\n",
    "from importlib import reload\n",
    "reload(rd)\n",
    "reload(CONST)\n",
    "import base64\n",
    "import pickle\n",
    "import collections\n",
    "import itertools, collections\n",
    "from sklearn.metrics import mean_squared_error\n",
    "import cv2 "
   ]
  },
  {
   "cell_type": "code",
   "execution_count": 2,
   "metadata": {},
   "outputs": [],
   "source": [
    "np.set_printoptions(precision=4, suppress=True)"
   ]
  },
  {
   "cell_type": "code",
   "execution_count": null,
   "metadata": {},
   "outputs": [],
   "source": [
    "from tqdm import tqdm\n",
    "drawing_arr = CONST.face_json['train_data']\n",
    "n = 200\n",
    "M_arr = collections.defaultdict(lambda : np.zeros(9))\n",
    "M_name = collections.defaultdict(lambda : \" \")\n",
    "\n",
    "for idx in tqdm(range(len(drawing_arr))):\n",
    "    strokes_spline_fitted = rd.process_quickdraw_to_stroke_no_normalize(\n",
    "        drawing_arr[idx], \n",
    "        b_spline_num_sampled_points=200,\n",
    "    )\n",
    "    \n",
    "    for stroke_index, data in enumerate(strokes_spline_fitted):\n",
    "    \n",
    "        min_template_name, min_template_mse = None, np.inf\n",
    "        min_M = None\n",
    "        for template_name, template_func in rd.TEMPLATE_DICT.items():\n",
    "            template = template_func(n)\n",
    "            try:\n",
    "                M, result = rd.get_transform(template, data, projective=True)\n",
    "                mse = rd.mean_squared_error(result, data)\n",
    "                if mse < min_template_mse:\n",
    "                    min_template_name = template_name\n",
    "                    min_template_mse = mse\n",
    "                    min_M = M\n",
    "            except:\n",
    "                continue\n",
    "                print(\"Fail: \", template_name, \" at: \", idx, stroke_index)\n",
    "        \n",
    "        if min_M is None:\n",
    "            M_arr[(idx, stroke_index)] = np.zeros(9)\n",
    "            M_name[(idx, stroke_index)] = 'line'\n",
    "        else:\n",
    "            M_arr[(idx, stroke_index)] = min_M.reshape(-1,)\n",
    "            M_name[(idx, stroke_index)] = min_template_name\n",
    "\n",
    "        \n",
    "with open('/raid/xiaoyuz1/SPG_Face_256_projective_mse.pkl', \"wb+\") as f:\n",
    "    pickle.dump((dict(M_arr), dict(M_name)), f)"
   ]
  },
  {
   "cell_type": "code",
   "execution_count": 5,
   "metadata": {},
   "outputs": [],
   "source": [
    "with open('/raid/xiaoyuz1/SPG_Face_256_projective_mse.pkl', \"wb+\") as f:\n",
    "    pickle.dump((dict(M_arr), dict(M_name)), f)"
   ]
  },
  {
   "cell_type": "code",
   "execution_count": 3,
   "metadata": {},
   "outputs": [],
   "source": [
    "M_arr, M_name = None,None\n",
    "with open('/raid/xiaoyuz1/SPG_Face_256_projective_mse.pkl', \"rb\") as f:\n",
    "    M_arr, M_name = pickle.load(f)"
   ]
  },
  {
   "cell_type": "code",
   "execution_count": 4,
   "metadata": {},
   "outputs": [],
   "source": [
    "drawing_arr = CONST.face_json['train_data']\n",
    "n = 200\n",
    "h,w = 256,256"
   ]
  },
  {
   "cell_type": "code",
   "execution_count": 7,
   "metadata": {
    "scrolled": true
   },
   "outputs": [
    {
     "name": "stdout",
     "output_type": "stream",
     "text": [
      "115\n"
     ]
    }
   ],
   "source": [
    "line_dict = dict(filter(lambda x: x[1] == 'line', M_name.items()))\n",
    "print(len(line_dict))\n",
    "\n",
    "# whether the width and height of these lines are all 0's. \n",
    "hw_list = []\n",
    "for (idx, stroke_idx), _ in line_dict.items():\n",
    "    strokes_spline_fitted = rd.process_quickdraw_to_stroke_no_normalize(\n",
    "        drawing_arr[idx], \n",
    "        b_spline_num_sampled_points=200,\n",
    "    )\n",
    "    maxs = np.max(strokes_spline_fitted[stroke_idx], axis=0)\n",
    "    mins = np.min(strokes_spline_fitted[stroke_idx],  axis=0)\n",
    "    hw_list.append(maxs - mins)\n",
    "hw_listb = np.asarray(hw_list)"
   ]
  },
  {
   "cell_type": "code",
   "execution_count": 8,
   "metadata": {},
   "outputs": [
    {
     "data": {
      "text/plain": [
       "{(3, 2): 'line',\n",
       " (34, 2): 'line',\n",
       " (50, 2): 'line',\n",
       " (70, 4): 'line',\n",
       " (88, 4): 'line',\n",
       " (107, 2): 'line',\n",
       " (107, 4): 'line',\n",
       " (108, 1): 'line',\n",
       " (112, 4): 'line',\n",
       " (117, 1): 'line',\n",
       " (117, 4): 'line',\n",
       " (124, 1): 'line',\n",
       " (127, 9): 'line',\n",
       " (151, 1): 'line',\n",
       " (164, 1): 'line',\n",
       " (164, 4): 'line',\n",
       " (165, 1): 'line',\n",
       " (167, 1): 'line',\n",
       " (167, 3): 'line',\n",
       " (188, 4): 'line',\n",
       " (196, 3): 'line',\n",
       " (198, 6): 'line',\n",
       " (198, 7): 'line',\n",
       " (213, 6): 'line',\n",
       " (231, 3): 'line',\n",
       " (234, 2): 'line',\n",
       " (242, 6): 'line',\n",
       " (243, 2): 'line',\n",
       " (243, 7): 'line',\n",
       " (244, 2): 'line',\n",
       " (253, 10): 'line',\n",
       " (266, 2): 'line',\n",
       " (266, 4): 'line',\n",
       " (280, 3): 'line',\n",
       " (282, 2): 'line',\n",
       " (282, 3): 'line',\n",
       " (285, 3): 'line',\n",
       " (285, 5): 'line',\n",
       " (290, 1): 'line',\n",
       " (295, 1): 'line',\n",
       " (295, 2): 'line',\n",
       " (295, 4): 'line',\n",
       " (300, 6): 'line',\n",
       " (306, 2): 'line',\n",
       " (307, 1): 'line',\n",
       " (308, 1): 'line',\n",
       " (308, 2): 'line',\n",
       " (314, 3): 'line',\n",
       " (314, 4): 'line',\n",
       " (325, 1): 'line',\n",
       " (340, 3): 'line',\n",
       " (342, 2): 'line',\n",
       " (348, 1): 'line',\n",
       " (361, 2): 'line',\n",
       " (361, 3): 'line',\n",
       " (363, 1): 'line',\n",
       " (370, 3): 'line',\n",
       " (375, 2): 'line',\n",
       " (390, 5): 'line',\n",
       " (394, 7): 'line',\n",
       " (395, 2): 'line',\n",
       " (412, 1): 'line',\n",
       " (412, 2): 'line',\n",
       " (414, 5): 'line',\n",
       " (418, 1): 'line',\n",
       " (418, 3): 'line',\n",
       " (434, 1): 'line',\n",
       " (445, 1): 'line',\n",
       " (449, 2): 'line',\n",
       " (465, 17): 'line',\n",
       " (478, 4): 'line',\n",
       " (485, 8): 'line',\n",
       " (486, 3): 'line',\n",
       " (498, 2): 'line',\n",
       " (498, 3): 'line',\n",
       " (509, 2): 'line',\n",
       " (509, 3): 'line',\n",
       " (512, 4): 'line',\n",
       " (525, 1): 'line',\n",
       " (537, 1): 'line',\n",
       " (542, 1): 'line',\n",
       " (542, 3): 'line',\n",
       " (543, 3): 'line',\n",
       " (563, 1): 'line',\n",
       " (563, 2): 'line',\n",
       " (564, 4): 'line',\n",
       " (566, 9): 'line',\n",
       " (569, 1): 'line',\n",
       " (569, 2): 'line',\n",
       " (570, 3): 'line',\n",
       " (594, 1): 'line',\n",
       " (594, 2): 'line',\n",
       " (616, 0): 'line',\n",
       " (616, 1): 'line',\n",
       " (624, 4): 'line',\n",
       " (643, 1): 'line',\n",
       " (656, 1): 'line',\n",
       " (667, 2): 'line',\n",
       " (670, 2): 'line',\n",
       " (673, 4): 'line',\n",
       " (702, 4): 'line',\n",
       " (721, 1): 'line',\n",
       " (738, 1): 'line',\n",
       " (740, 3): 'line',\n",
       " (740, 5): 'line',\n",
       " (747, 4): 'line',\n",
       " (753, 13): 'line',\n",
       " (753, 16): 'line',\n",
       " (753, 18): 'line',\n",
       " (756, 1): 'line',\n",
       " (756, 2): 'line',\n",
       " (768, 5): 'line',\n",
       " (783, 2): 'line',\n",
       " (784, 3): 'line',\n",
       " (788, 3): 'line'}"
      ]
     },
     "execution_count": 8,
     "metadata": {},
     "output_type": "execute_result"
    }
   ],
   "source": [
    "line_dict"
   ]
  },
  {
   "cell_type": "code",
   "execution_count": 29,
   "metadata": {},
   "outputs": [],
   "source": [
    "n1 = 200\n",
    "strokes_spline_fitted = rd.process_quickdraw_to_stroke_no_normalize(\n",
    "    drawing_arr[13], \n",
    "    b_spline_num_sampled_points=200,\n",
    ")\n",
    "data = strokes_spline_fitted[0]\n",
    "maxs = np.max(data, axis=0)\n",
    "mins = np.min(data, axis=0)\n",
    "ll = maxs - mins\n",
    "l = ll[~np.isclose(ll, 1e-8, rtol=1, atol=1e-07)][0]"
   ]
  },
  {
   "cell_type": "code",
   "execution_count": 30,
   "metadata": {},
   "outputs": [
    {
     "data": {
      "image/png": "[encoded data removed]",
      "text/plain": [
       "<Figure size 432x288 with 1 Axes>"
      ]
     },
     "metadata": {
      "needs_background": "light"
     },
     "output_type": "display_data"
    }
   ],
   "source": [
    "plt.scatter(data[:,0], data[:,1], label=\"template\", s=1, c='g')\n",
    "plt.show()"
   ]
  },
  {
   "cell_type": "code",
   "execution_count": 26,
   "metadata": {},
   "outputs": [
    {
     "data": {
      "image/png": "[encoded data removed]",
      "text/plain": [
       "<Figure size 432x288 with 1 Axes>"
      ]
     },
     "metadata": {
      "needs_background": "light"
     },
     "output_type": "display_data"
    }
   ],
   "source": [
    "reload(rd)\n",
    "# test_rect = rd.generate_rectangles(x1=50,y1=50,x2=107,y2=115)\n",
    "test_rect = rd.square_from_line(data)\n",
    "# test_rect = rd.bspline(test_rect, n=200, degree=3)\n",
    "plt.scatter(test_rect[:,0], test_rect[:,1], label=\"template\", s=1, c='g')\n",
    "plt.show()"
   ]
  },
  {
   "cell_type": "code",
   "execution_count": 20,
   "metadata": {},
   "outputs": [],
   "source": [
    "min_template_name, min_template_mse = None, np.inf\n",
    "min_M = None\n",
    "for template_name, template_func in rd.TEMPLATE_DICT.items():\n",
    "    template = template_func(n)\n",
    "    try:\n",
    "        M, result = rd.get_transform(template, test_rect, projective=False)\n",
    "        mse = rd.mean_squared_error(result, test_rect)\n",
    "        if mse < min_template_mse:\n",
    "            min_template_name = template_name\n",
    "            min_template_mse = mse\n",
    "            min_M = M\n",
    "    except:\n",
    "        continue\n",
    "        print(\"Fail: \", template_name, \" at: \", idx, stroke_index)"
   ]
  },
  {
   "cell_type": "code",
   "execution_count": 21,
   "metadata": {
    "scrolled": true
   },
   "outputs": [
    {
     "data": {
      "text/plain": [
       "'square'"
      ]
     },
     "execution_count": 21,
     "metadata": {},
     "output_type": "execute_result"
    }
   ],
   "source": [
    "min_template_name"
   ]
  },
  {
   "cell_type": "code",
   "execution_count": 22,
   "metadata": {},
   "outputs": [
    {
     "data": {
      "text/plain": [
       "array([[  0.0069,   0.0008, 154.6051],\n",
       "       [  0.0078,  -0.1382, 114.6933],\n",
       "       [  0.    ,   0.    ,   1.    ]])"
      ]
     },
     "execution_count": 22,
     "metadata": {},
     "output_type": "execute_result"
    }
   ],
   "source": [
    "min_M"
   ]
  },
  {
   "cell_type": "code",
   "execution_count": 24,
   "metadata": {},
   "outputs": [
    {
     "name": "stdout",
     "output_type": "stream",
     "text": [
      "12.321117637265152\n"
     ]
    },
    {
     "data": {
      "image/png": "[encoded data removed]",
      "text/plain": [
       "<Figure size 432x432 with 1 Axes>"
      ]
     },
     "metadata": {
      "needs_background": "light"
     },
     "output_type": "display_data"
    }
   ],
   "source": [
    "template_func = rd.TEMPLATE_DICT[min_template_name]\n",
    "projectiveM = min_M\n",
    "template = template_func(n)\n",
    "\n",
    "# src_pts = template.astype(np.float32).reshape(-1,1,2)\n",
    "# result = cv2.perspectiveTransform(src_pts, projectiveM.reshape(3,3)).reshape(-1,2)\n",
    "\n",
    "result = cv2.transform(np.array([template], copy=True).astype(np.float32), projectiveM)[0][:,:-1]\n",
    "\n",
    "mse = mean_squared_error(result, test_rect)\n",
    "print(mse)\n",
    "\n",
    "datacolors = rd.get_sequence_colors(n, plt.cm.Greens)\n",
    "templatecolors = rd.get_sequence_colors(n, plt.cm.Reds)\n",
    "\n",
    "plt.figure(figsize=(6, 6))\n",
    "plt.scatter(result[:,0], result[:,1], label=\"transformed template\", s=1, c='r')\n",
    "plt.scatter(test_rect[:,0], test_rect[:,1], label=\"data\", alpha=0.5, s=1, c='g')\n",
    "plt.legend()\n",
    "# plt.xlim(0,w)\n",
    "# plt.ylim(h,0)\n",
    "\n",
    "plt.show()"
   ]
  },
  {
   "cell_type": "code",
   "execution_count": 50,
   "metadata": {},
   "outputs": [
    {
     "name": "stdout",
     "output_type": "stream",
     "text": [
      "(200, 2)\n"
     ]
    }
   ],
   "source": [
    "xs = np.linspace(0, l, n1)\n",
    "ys = np.ones(n1) * 1\n",
    "\n",
    "ys = np.linspace(0, l, n1)\n",
    "xs = np.ones(n1) * 1\n",
    "\n",
    "a = np.hstack([xs.reshape(-1,1), ys.reshape(-1,1)])\n",
    "print(a.shape)"
   ]
  },
  {
   "cell_type": "code",
   "execution_count": 51,
   "metadata": {},
   "outputs": [
    {
     "data": {
      "image/png": "[encoded data removed]",
      "text/plain": [
       "<Figure size 432x432 with 1 Axes>"
      ]
     },
     "metadata": {
      "needs_background": "light"
     },
     "output_type": "display_data"
    }
   ],
   "source": [
    "plt.figure(figsize=(6, 6))\n",
    "plt.scatter(a[:,0], a[:,1], label=\"template\", s=1, c='r')\n",
    "plt.scatter(b[:,0], b[:,1], label=\"data\", alpha=0.5, s=1, c='g')\n",
    "plt.legend()\n",
    "plt.xlim(0,w)\n",
    "plt.ylim(h,0)\n",
    "\n",
    "plt.show()"
   ]
  },
  {
   "cell_type": "code",
   "execution_count": 52,
   "metadata": {},
   "outputs": [
    {
     "data": {
      "image/png": "[encoded data removed]",
      "text/plain": [
       "<Figure size 432x288 with 1 Axes>"
      ]
     },
     "metadata": {
      "needs_background": "light"
     },
     "output_type": "display_data"
    }
   ],
   "source": [
    "data = strokes_spline_fitted[1]\n",
    "_ = rd.render_img(\n",
    "    [data], \n",
    "    show=True,\n",
    "    side=256,\n",
    "    line_diameter=1,\n",
    "    original_side = 256.,\n",
    ")"
   ]
  },
  {
   "cell_type": "code",
   "execution_count": 59,
   "metadata": {},
   "outputs": [
    {
     "name": "stdout",
     "output_type": "stream",
     "text": [
      "[[ 0.9988 -0.05    0.    ]\n",
      " [ 0.05    0.9988  0.    ]\n",
      " [ 0.      0.      1.    ]]\n"
     ]
    }
   ],
   "source": [
    "p = [0,0,0.05]\n",
    "T  = np.array([[np.cos(p[2]),-np.sin(p[2]),p[0]],[np.sin(p[2]), np.cos(p[2]),p[1]]])\n",
    "Tr = np.matrix(np.vstack((T,[0,0,1]))).A\n",
    "print(Tr)"
   ]
  },
  {
   "cell_type": "code",
   "execution_count": 60,
   "metadata": {},
   "outputs": [],
   "source": [
    "result = cv2.transform(np.array([data], copy=True).astype(np.float32), Tr)[0][:,:-1]"
   ]
  },
  {
   "cell_type": "code",
   "execution_count": 62,
   "metadata": {},
   "outputs": [
    {
     "name": "stdout",
     "output_type": "stream",
     "text": [
      "42.83999406936995\n"
     ]
    }
   ],
   "source": [
    "mse = mean_squared_error(result, b)\n",
    "print(mse)"
   ]
  },
  {
   "cell_type": "code",
   "execution_count": 63,
   "metadata": {
    "scrolled": false
   },
   "outputs": [
    {
     "data": {
      "image/png": "[encoded data removed]",
      "text/plain": [
       "<Figure size 432x432 with 1 Axes>"
      ]
     },
     "metadata": {
      "needs_background": "light"
     },
     "output_type": "display_data"
    }
   ],
   "source": [
    "plt.figure(figsize=(6, 6))\n",
    "plt.scatter(result[:,0], result[:,1], label=\"transformed template\", s=1, c='r')\n",
    "plt.scatter(b[:,0], b[:,1], label=\"data\", alpha=0.5, s=1, c='g')\n",
    "plt.legend()\n",
    "plt.xlim(0,w)\n",
    "plt.ylim(h,0)\n",
    "\n",
    "plt.show()"
   ]
  },
  {
   "cell_type": "code",
   "execution_count": 31,
   "metadata": {
    "scrolled": true
   },
   "outputs": [
    {
     "name": "stdout",
     "output_type": "stream",
     "text": [
      "{(13, 0): 'circle', (13, 1): 'arc', (13, 2): 'arc', (13, 3): 'arc'}\n"
     ]
    },
    {
     "data": {
      "image/png": "[encoded data removed]",
      "text/plain": [
       "<Figure size 1728x288 with 1 Axes>"
      ]
     },
     "metadata": {},
     "output_type": "display_data"
    }
   ],
   "source": [
    "idx = 13\n",
    "print(dict(filter(lambda x: x[0][0] == idx, M_name.items())))\n",
    "\n",
    "rd.show_these_sketches(\n",
    "    CONST.face_json,\n",
    "    [idx], \n",
    "    [str(idx)], \n",
    "    [[]], \n",
    "    num_pngs_per_row = 6,\n",
    "    row_figsize = 4,\n",
    "    column_figsize = 4,\n",
    ")\n",
    "\n",
    "strokes_spline_fitted = rd.process_quickdraw_to_stroke_no_normalize(\n",
    "    drawing_arr[idx], \n",
    "    b_spline_num_sampled_points=200,\n",
    ")"
   ]
  },
  {
   "cell_type": "code",
   "execution_count": 42,
   "metadata": {},
   "outputs": [
    {
     "data": {
      "text/plain": [
       "array([0., 0.])"
      ]
     },
     "execution_count": 42,
     "metadata": {},
     "output_type": "execute_result"
    }
   ],
   "source": []
  },
  {
   "cell_type": "code",
   "execution_count": 15,
   "metadata": {},
   "outputs": [
    {
     "data": {
      "text/plain": [
       "<module 'read_datasets' from '/home/xiaoyuz1/amazon_turk/read_datasets.py'>"
      ]
     },
     "execution_count": 15,
     "metadata": {},
     "output_type": "execute_result"
    }
   ],
   "source": [
    "reload(rd)\n",
    "#rd.get_transform_smallest_mse(strokes_spline_fitted[3])"
   ]
  },
  {
   "cell_type": "code",
   "execution_count": 26,
   "metadata": {},
   "outputs": [
    {
     "name": "stdout",
     "output_type": "stream",
     "text": [
      "circle\n"
     ]
    }
   ],
   "source": [
    "stroke_idx = 3\n",
    "data = strokes_spline_fitted[stroke_idx]\n",
    "print(M_name[(idx, stroke_idx)])\n",
    "\n",
    "template_func = rd.TEMPLATE_DICT[M_name[(idx, stroke_idx)]]"
   ]
  },
  {
   "cell_type": "code",
   "execution_count": 27,
   "metadata": {},
   "outputs": [],
   "source": [
    "projectiveM = M_arr[(idx, stroke_idx)]\n",
    "template = template_func(n)"
   ]
  },
  {
   "cell_type": "code",
   "execution_count": null,
   "metadata": {},
   "outputs": [],
   "source": [
    "template_func = rd.TEMPLATE_DICT['circle']\n",
    "template = template_func(n)\n",
    "M, result = rd.get_transform(template, data, projective=False)"
   ]
  },
  {
   "cell_type": "code",
   "execution_count": 28,
   "metadata": {},
   "outputs": [
    {
     "name": "stdout",
     "output_type": "stream",
     "text": [
      "49.424936881037745\n"
     ]
    },
    {
     "data": {
      "image/png": "[encoded data removed]",
      "text/plain": [
       "<Figure size 432x432 with 1 Axes>"
      ]
     },
     "metadata": {
      "needs_background": "light"
     },
     "output_type": "display_data"
    }
   ],
   "source": [
    "src_pts = template.astype(np.float32).reshape(-1,1,2)\n",
    "result = cv.perspectiveTransform(src_pts, projectiveM.reshape(3,3)).reshape(-1,2)\n",
    "\n",
    "mse = mean_squared_error(result, data)\n",
    "print(mse)\n",
    "\n",
    "datacolors = rd.get_sequence_colors(n, plt.cm.Greens)\n",
    "templatecolors = rd.get_sequence_colors(n, plt.cm.Reds)\n",
    "\n",
    "plt.figure(figsize=(6, 6))\n",
    "plt.scatter(result[:,0], result[:,1], label=\"transformed template\", s=1, c='r')\n",
    "plt.scatter(data[:,0], data[:,1], label=\"data\", alpha=0.5, s=1, c='g')\n",
    "plt.legend()\n",
    "plt.xlim(0,w)\n",
    "plt.ylim(h,0)\n",
    "\n",
    "plt.show()"
   ]
  },
  {
   "cell_type": "code",
   "execution_count": 26,
   "metadata": {},
   "outputs": [
    {
     "data": {
      "text/plain": [
       "array([[ -0.2935,  -0.2548, 118.2643],\n",
       "       [ -0.2234,  -0.8156, 195.5184],\n",
       "       [  0.0003,  -0.0043,   1.    ]])"
      ]
     },
     "execution_count": 26,
     "metadata": {},
     "output_type": "execute_result"
    }
   ],
   "source": [
    "M"
   ]
  },
  {
   "cell_type": "code",
   "execution_count": 26,
   "metadata": {},
   "outputs": [
    {
     "data": {
      "image/png": "[encoded data removed]",
      "text/plain": [
       "<Figure size 432x288 with 1 Axes>"
      ]
     },
     "metadata": {
      "needs_background": "light"
     },
     "output_type": "display_data"
    },
    {
     "data": {
      "image/png": "[encoded data removed]",
      "text/plain": [
       "<Figure size 432x432 with 1 Axes>"
      ]
     },
     "metadata": {
      "needs_background": "light"
     },
     "output_type": "display_data"
    }
   ],
   "source": [
    "\n",
    "# template = rd.generate_arc(n1=200)\n",
    "template = rd.generate_circle(n1=200, radius=100, x0=100, y0=100, template_size=256)\n",
    "# template = rd.generate_square(n1 = 200, template_size=256)\n",
    "# plt.scatter(template[:,0], template[:,1])\n",
    "# plt.show()\n",
    "\n",
    "_ = rd.render_img(\n",
    "    [template], \n",
    "    show=True,\n",
    "    side=256,\n",
    "    line_diameter=1,\n",
    "    original_side = 256.,\n",
    ")\n",
    "\n",
    "# template[:,0] = template[:,0][::-1]\n",
    "# template[:,1] = template[:,1][::-1]\n",
    "\n",
    "\n",
    "plt.figure(figsize=(6,6))\n",
    "colors = rd.get_sequence_colors(len(template))\n",
    "plt.scatter(template[:,0], template[:,1], c = colors)\n",
    " \n",
    "plt.xlim(0,256)\n",
    "plt.ylim(256,0)\n",
    "plt.show()"
   ]
  },
  {
   "cell_type": "code",
   "execution_count": 23,
   "metadata": {},
   "outputs": [
    {
     "data": {
      "image/png": "[encoded data removed]",
      "text/plain": [
       "<Figure size 432x288 with 1 Axes>"
      ]
     },
     "metadata": {
      "needs_background": "light"
     },
     "output_type": "display_data"
    }
   ],
   "source": [
    "data = strokes_spline_fitted[6]\n",
    "_ = rd.render_img(\n",
    "    [data], \n",
    "    show=True,\n",
    "    side=256,\n",
    "    line_diameter=1,\n",
    "    original_side = 256.,\n",
    ")"
   ]
  },
  {
   "cell_type": "code",
   "execution_count": null,
   "metadata": {},
   "outputs": [],
   "source": []
  },
  {
   "cell_type": "code",
   "execution_count": 41,
   "metadata": {},
   "outputs": [
    {
     "data": {
      "image/png": "[encoded data removed]",
      "text/plain": [
       "<Figure size 432x432 with 1 Axes>"
      ]
     },
     "metadata": {
      "needs_background": "light"
     },
     "output_type": "display_data"
    }
   ],
   "source": [
    "plt.figure(figsize=(6,6))\n",
    "n = len(data)\n",
    "px = np.linspace(0,10,n)\n",
    "py = np.random.randn(n)\n",
    "pz = np.linspace(0,1,n) \n",
    "colors = plt.cm.Reds(np.linspace(0,1,n))\n",
    "colors[:,-1] = pz \n",
    "plt.scatter(data[:,0], data[:,1], c = colors)\n",
    " \n",
    "plt.xlim(0,256)\n",
    "plt.ylim(256,0)\n",
    "plt.show()"
   ]
  },
  {
   "cell_type": "code",
   "execution_count": null,
   "metadata": {
    "scrolled": true
   },
   "outputs": [],
   "source": []
  },
  {
   "cell_type": "code",
   "execution_count": 3,
   "metadata": {},
   "outputs": [],
   "source": [
    "import cv2\n",
    "import numpy as np\n",
    "import sys\n",
    "from numpy.random import *"
   ]
  },
  {
   "cell_type": "code",
   "execution_count": 4,
   "metadata": {},
   "outputs": [],
   "source": [
    "def del_miss(indeces, dist, max_dist, th_rate = 0.8):\n",
    "    th_dist = max_dist * th_rate\n",
    "    return np.array([indeces[0][np.where(dist.T[0] < th_dist)]])\n"
   ]
  },
  {
   "cell_type": "code",
   "execution_count": 5,
   "metadata": {},
   "outputs": [],
   "source": [
    "def is_converge(Tr, scale):\n",
    "    delta_angle = 0.0001\n",
    "    delta_scale = scale * 0.0001\n",
    "    \n",
    "    min_cos = 1 - delta_angle\n",
    "    max_cos = 1 + delta_angle\n",
    "    min_sin = -delta_angle\n",
    "    max_sin = delta_angle\n",
    "    min_move = -delta_scale\n",
    "    max_move = delta_scale\n",
    "    \n",
    "    return min_cos < Tr[0, 0] and Tr[0, 0] < max_cos and \\\n",
    "           min_cos < Tr[1, 1] and Tr[1, 1] < max_cos and \\\n",
    "           min_sin < -Tr[1, 0] and -Tr[1, 0] < max_sin and \\\n",
    "           min_sin < Tr[0, 1] and Tr[0, 1] < max_sin and \\\n",
    "           min_move < Tr[0, 2] and Tr[0, 2] < max_move and \\\n",
    "           min_move < Tr[1, 2] and Tr[1, 2] < max_move"
   ]
  },
  {
   "cell_type": "code",
   "execution_count": 6,
   "metadata": {},
   "outputs": [],
   "source": [
    "def icp(d1, d2, max_iterate = 100):\n",
    "    src = np.array([d1.T], copy=True).astype(np.float32)\n",
    "    dst = np.array([d2.T], copy=True).astype(np.float32)\n",
    "    \n",
    "    knn = cv2.KNearest()\n",
    "    responses = np.array(range(len(d2[0]))).astype(np.float32)\n",
    "    knn.train(src[0], responses)\n",
    "        \n",
    "    Tr = np.array([[np.cos(0), -np.sin(0), 0],\n",
    "                   [np.sin(0), np.cos(0),  0],\n",
    "                   [0,         0,          1]])\n",
    "\n",
    "    dst = cv2.transform(dst, Tr[0:2])\n",
    "    max_dist = sys.maxint\n",
    "    \n",
    "    scale_x = np.max(d1[0]) - np.min(d1[0])\n",
    "    scale_y = np.max(d1[1]) - np.min(d1[1])\n",
    "    scale = max(scale_x, scale_y)\n",
    "       \n",
    "    for i in range(max_iterate):\n",
    "        ret, results, neighbours, dist = knn.find_nearest(dst[0], 1)\n",
    "        \n",
    "        indeces = results.astype(np.int32).T     \n",
    "        indeces = del_miss(indeces, dist, max_dist)  \n",
    "        \n",
    "        T = cv2.estimateRigidTransform(dst[0, indeces], src[0, indeces], True)\n",
    "\n",
    "        max_dist = np.max(dist)\n",
    "        dst = cv2.transform(dst, T)\n",
    "        Tr = np.dot(np.vstack((T,[0,0,1])), Tr)\n",
    "        \n",
    "        if (is_converge(T, scale)):\n",
    "            break\n",
    "        \n",
    "    return Tr[0:2]"
   ]
  },
  {
   "cell_type": "code",
   "execution_count": 15,
   "metadata": {},
   "outputs": [
    {
     "data": {
      "image/png": "[encoded data removed]",
      "text/plain": [
       "<matplotlib.figure.Figure at 0xb9d6bd0>"
      ]
     },
     "metadata": {},
     "output_type": "display_data"
    }
   ],
   "source": [
    "if __name__ == \"__main__\":\n",
    "    import matplotlib.pyplot as plt\n",
    "    \n",
    "    point_count = 100\n",
    "    th = np.pi / 8\n",
    "    move = np.array([[0.30], [0.5]])\n",
    "    rnd_scale = 0.03\n",
    "    x1 = np.linspace(0, 1.1, point_count)\n",
    "    y1 = np.sin(x1 * np.pi)\n",
    "    d1 = np.array([x1, y1])\n",
    "\n",
    "    rot = np.array([[np.cos(th), -np.sin(th)], [np.sin(th), np.cos(th)]])\n",
    "    rand = np.random.rand(2, point_count)*rnd_scale\n",
    "    d2 = np.dot(rot, d1) + move\n",
    "    d2 = np.add(d2, rand)\n",
    "\n",
    "    plt.plot(d1[0], d1[1])\n",
    "    plt.plot(d2[0], d2[1])\n",
    "    plt.show()"
   ]
  },
  {
   "cell_type": "code",
   "execution_count": 16,
   "metadata": {},
   "outputs": [
    {
     "data": {
      "image/png": "[encoded data removed]",
      "text/plain": [
       "<matplotlib.figure.Figure at 0xb6fda90>"
      ]
     },
     "metadata": {},
     "output_type": "display_data"
    },
    {
     "name": "stdout",
     "output_type": "stream",
     "text": [
      "1.00166826979\n",
      "22.6572180189\n",
      "22.7913494968\n",
      "[[ 0.92282598  0.3873764  -0.49228818]\n",
      " [-0.38870246  0.92493277 -0.35375819]]\n"
     ]
    }
   ],
   "source": [
    "    ret = icp(d1, d2)\n",
    "    \n",
    "    plt.plot(d1[0], d1[1])\n",
    "    dst = np.array([d2.T], copy=True).astype(np.float32)\n",
    "    dst = cv2.transform(dst, ret)\n",
    "    plt.plot(dst[0].T[0], dst[0].T[1])\n",
    "    plt.show()\n",
    "    \n",
    "    print ret[0][0] * ret[0][0] + ret[0][1] * ret[0][1]\n",
    "    print np.arccos(ret[0][0]) / 2 / np.pi * 360\n",
    "    print np.arcsin(ret[0][1]) / 2 / np.pi * 360\n",
    "\n",
    "    print ret"
   ]
  },
  {
   "cell_type": "code",
   "execution_count": null,
   "metadata": {},
   "outputs": [],
   "source": [
    "def icp(a, b,\n",
    "        max_time = 1\n",
    "    ):\n",
    "    import cv2\n",
    "    import numpy\n",
    "    import copy\n",
    "    import pylab\n",
    "    import time\n",
    "    import sys\n",
    "    import sklearn.neighbors\n",
    "    import scipy.optimize\n",
    "\n",
    "\n",
    "\n",
    "    def res(p,src,dst):\n",
    "        T = numpy.matrix([[numpy.cos(p[2]),-numpy.sin(p[2]),p[0]],\n",
    "        [numpy.sin(p[2]), numpy.cos(p[2]),p[1]],\n",
    "        [0 ,0 ,1 ]])\n",
    "        n = numpy.size(src,0)\n",
    "        xt = numpy.ones([n,3])\n",
    "        xt[:,:-1] = src\n",
    "        xt = (xt*T.T).A\n",
    "        d = numpy.zeros(numpy.shape(src))\n",
    "        d[:,0] = xt[:,0]-dst[:,0]\n",
    "        d[:,1] = xt[:,1]-dst[:,1]\n",
    "        r = numpy.sum(numpy.square(d[:,0])+numpy.square(d[:,1]))\n",
    "        return r\n",
    "\n",
    "    def jac(p,src,dst):\n",
    "        T = numpy.matrix([[numpy.cos(p[2]),-numpy.sin(p[2]),p[0]],\n",
    "        [numpy.sin(p[2]), numpy.cos(p[2]),p[1]],\n",
    "        [0 ,0 ,1 ]])\n",
    "        n = numpy.size(src,0)\n",
    "        xt = numpy.ones([n,3])\n",
    "        xt[:,:-1] = src\n",
    "        xt = (xt*T.T).A\n",
    "        d = numpy.zeros(numpy.shape(src))\n",
    "        d[:,0] = xt[:,0]-dst[:,0]\n",
    "        d[:,1] = xt[:,1]-dst[:,1]\n",
    "        dUdth_R = numpy.matrix([[-numpy.sin(p[2]),-numpy.cos(p[2])],\n",
    "                            [ numpy.cos(p[2]),-numpy.sin(p[2])]])\n",
    "        dUdth = (src*dUdth_R.T).A\n",
    "        g = numpy.array([  numpy.sum(2*d[:,0]),\n",
    "                        numpy.sum(2*d[:,1]),\n",
    "                        numpy.sum(2*(d[:,0]*dUdth[:,0]+d[:,1]*dUdth[:,1])) ])\n",
    "        return g\n",
    "    \n",
    "    def hess(p,src,dst):\n",
    "        n = numpy.size(src,0)\n",
    "        T = numpy.matrix([[numpy.cos(p[2]),-numpy.sin(p[2]),p[0]],\n",
    "        [numpy.sin(p[2]), numpy.cos(p[2]),p[1]],\n",
    "        [0 ,0 ,1 ]])\n",
    "        n = numpy.size(src,0)\n",
    "        xt = numpy.ones([n,3])\n",
    "        xt[:,:-1] = src\n",
    "        xt = (xt*T.T).A\n",
    "        d = numpy.zeros(numpy.shape(src))\n",
    "        d[:,0] = xt[:,0]-dst[:,0]\n",
    "        d[:,1] = xt[:,1]-dst[:,1]\n",
    "        dUdth_R = numpy.matrix([[-numpy.sin(p[2]),-numpy.cos(p[2])],[numpy.cos(p[2]),-numpy.sin(p[2])]])\n",
    "        dUdth = (src*dUdth_R.T).A\n",
    "        H = numpy.zeros([3,3])\n",
    "        H[0,0] = n*2\n",
    "        H[0,2] = numpy.sum(2*dUdth[:,0])\n",
    "        H[1,1] = n*2\n",
    "        H[1,2] = numpy.sum(2*dUdth[:,1])\n",
    "        H[2,0] = H[0,2]\n",
    "        H[2,1] = H[1,2]\n",
    "        d2Ud2th_R = numpy.matrix([[-numpy.cos(p[2]), numpy.sin(p[2])],[-numpy.sin(p[2]),-numpy.cos(p[2])]])\n",
    "        d2Ud2th = (src*d2Ud2th_R.T).A\n",
    "        H[2,2] = numpy.sum(2*(numpy.square(dUdth[:,0])+numpy.square(dUdth[:,1]) + d[:,0]*d2Ud2th[:,0]+d[:,0]*d2Ud2th[:,0]))\n",
    "        return H\n",
    "    \n",
    "    \n",
    "    t0 = time.time()\n",
    "    init_pose = (0,0,0)\n",
    "    src = numpy.array([a.T], copy=True).astype(numpy.float32)\n",
    "    dst = numpy.array([b.T], copy=True).astype(numpy.float32)\n",
    "    Tr = numpy.array([[numpy.cos(init_pose[2]),-numpy.sin(init_pose[2]),init_pose[0]],\n",
    "                   [numpy.sin(init_pose[2]), numpy.cos(init_pose[2]),init_pose[1]],\n",
    "                   [0,                    0,                   1          ]])\n",
    "    print(\"src\",numpy.shape(src))\n",
    "    print(\"Tr[0:2]\",numpy.shape(Tr[0:2]))\n",
    "    src = cv2.transform(src, Tr[0:2])\n",
    "    p_opt = numpy.array(init_pose)\n",
    "    T_opt = numpy.array([])\n",
    "    error_max = sys.maxsize\n",
    "    first = False\n",
    "    while not(first and time.time() - t0 > max_time):\n",
    "        distances, indices = sklearn.neighbors.NearestNeighbors(n_neighbors=1, algorithm='auto',p = 3).fit(dst[0]).kneighbors(src[0])\n",
    "        p = scipy.optimize.minimize(res,[0,0,0],args=(src[0],dst[0, indices.T][0]),method='Newton-CG',jac=jac,hess=hess).x\n",
    "        T  = numpy.array([[numpy.cos(p[2]),-numpy.sin(p[2]),p[0]],[numpy.sin(p[2]), numpy.cos(p[2]),p[1]]])\n",
    "        p_opt[:2]  = (p_opt[:2]*numpy.matrix(T[:2,:2]).T).A       \n",
    "        p_opt[0] += p[0]\n",
    "        p_opt[1] += p[1]\n",
    "        p_opt[2] += p[2]\n",
    "        src = cv2.transform(src, T)\n",
    "        Tr = (numpy.matrix(numpy.vstack((T,[0,0,1])))*numpy.matrix(Tr)).A\n",
    "        error = res([0,0,0],src[0],dst[0, indices.T][0])\n",
    "\n",
    "        if error < error_max:\n",
    "            error_max = error\n",
    "            first = True\n",
    "            T_opt = Tr\n",
    "\n",
    "    p_opt[2] = p_opt[2] % (2*numpy.pi)\n",
    "    return T_opt, error_max\n",
    "\n",
    "\n",
    "def main():\n",
    "    import cv2\n",
    "    import numpy\n",
    "    import random\n",
    "    import matplotlib.pyplot\n",
    "    n1 = 100\n",
    "    n2 = 75\n",
    "    bruit = 1/10\n",
    "    center = [random.random()*(2-1)*3,random.random()*(2-1)*3]\n",
    "    radius = random.random()\n",
    "    deformation = 2\n",
    "\n",
    "    template = numpy.array([\n",
    "        [numpy.cos(i*2*numpy.pi/n1)*radius*deformation for i in range(n1)], \n",
    "        [numpy.sin(i*2*numpy.pi/n1)*radius for i in range(n1)]\n",
    "    ])\n",
    "\n",
    "    data = numpy.array([\n",
    "        [numpy.cos(i*2*numpy.pi/n2)*radius*(1+random.random()*bruit)+center[0] for i in range(n2)], \n",
    "        [numpy.sin(i*2*numpy.pi/n2)*radius*deformation*(1+random.random()*bruit)+center[1] for i in range(n2)]\n",
    "    ])\n",
    "\n",
    "    T,error = icp(data,template)\n",
    "    dx = T[0,2]\n",
    "    dy = T[1,2]\n",
    "    rotation = numpy.arcsin(T[0,1]) * 360 / 2 / numpy.pi\n",
    "\n",
    "    print(\"T\",T)\n",
    "    print(\"error\",error)\n",
    "    print(\"rotation°\",rotation)\n",
    "    print(\"dx\",dx)\n",
    "    print(\"dy\",dy)\n",
    "\n",
    "    result = cv2.transform(numpy.array([data.T], copy=True).astype(numpy.float32), T).T\n",
    "    matplotlib.pyplot.plot(template[0], template[1], label=\"template\")\n",
    "    matplotlib.pyplot.plot(data[0], data[1], label=\"data\")\n",
    "    matplotlib.pyplot.plot(result[0], result[1], label=\"result: \"+str(rotation)+\"° - \"+str([dx,dy]))\n",
    "    matplotlib.pyplot.legend(loc=\"upper left\")\n",
    "    matplotlib.pyplot.axis('square')\n",
    "    matplotlib.pyplot.show()\n",
    "\n",
    "if __name__ == \"__main__\":\n",
    "    main()"
   ]
  }
 ],
 "metadata": {
  "kernelspec": {
   "display_name": "clipdraw",
   "language": "python",
   "name": "clipdraw"
  },
  "language_info": {
   "codemirror_mode": {
    "name": "ipython",
    "version": 3
   },
   "file_extension": ".py",
   "mimetype": "text/x-python",
   "name": "python",
   "nbconvert_exporter": "python",
   "pygments_lexer": "ipython3",
   "version": "3.8.12"
  }
 },
 "nbformat": 4,
 "nbformat_minor": 1
}
