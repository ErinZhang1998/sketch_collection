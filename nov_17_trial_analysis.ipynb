{
 "cells": [
  {
   "cell_type": "code",
   "execution_count": 2,
   "metadata": {},
   "outputs": [],
   "source": [
    "# import csv\n",
    "import seaborn as sns\n",
    "import numpy as np\n",
    "import pandas as pd\n",
    "\n",
    "import json\n",
    "import matplotlib.pyplot as plt"
   ]
  },
  {
   "cell_type": "code",
   "execution_count": null,
   "metadata": {},
   "outputs": [],
   "source": []
  },
  {
   "cell_type": "code",
   "execution_count": 3,
   "metadata": {},
   "outputs": [],
   "source": [
    "fname = '/raid/xiaoyuz1/amazon_turk/Batch_340602_batch_results.csv'\n",
    "df = pd.read_csv(fname)"
   ]
  },
  {
   "cell_type": "code",
   "execution_count": 4,
   "metadata": {},
   "outputs": [
    {
     "data": {
      "text/plain": [
       "<seaborn.axisgrid.FacetGrid at 0x7fb5d4dfda60>"
      ]
     },
     "execution_count": 4,
     "metadata": {},
     "output_type": "execute_result"
    },
    {
     "data": {
      "image/png": "[encoded data removed]",
      "text/plain": [
       "<Figure size 360x360 with 1 Axes>"
      ]
     },
     "metadata": {
      "needs_background": "light"
     },
     "output_type": "display_data"
    }
   ],
   "source": [
    "sns.displot(df, x=\"WorkTimeInSeconds\", bins=20)"
   ]
  },
  {
   "cell_type": "code",
   "execution_count": 5,
   "metadata": {
    "scrolled": true
   },
   "outputs": [
    {
     "data": {
      "text/plain": [
       "Index(['HITId', 'HITTypeId', 'Title', 'Description', 'Keywords', 'Reward',\n",
       "       'CreationTime', 'MaxAssignments', 'RequesterAnnotation',\n",
       "       'AssignmentDurationInSeconds',\n",
       "       ...\n",
       "       'Answer.question_8_step_1_yes.on', 'Answer.question_8_step_2_no.on',\n",
       "       'Answer.question_8_step_2_yes.on', 'Answer.question_9_step_1_no.on',\n",
       "       'Answer.question_9_step_1_yes.on', 'Answer.question_9_step_2_no.on',\n",
       "       'Answer.question_9_step_2_yes.on', 'Answer.stepAnnotationInput_0',\n",
       "       'Approve', 'Reject'],\n",
       "      dtype='object', length=109)"
      ]
     },
     "execution_count": 5,
     "metadata": {},
     "output_type": "execute_result"
    }
   ],
   "source": [
    "df.columns"
   ]
  },
  {
   "cell_type": "code",
   "execution_count": 10,
   "metadata": {
    "scrolled": false
   },
   "outputs": [
    {
     "name": "stdout",
     "output_type": "stream",
     "text": [
      "[Wrong] Question No. 1  at Step No. 1\n",
      "[Wrong] Question No. 1  at Step No. 2\n",
      "[Wrong] Question No. 2  at Step No. 1\n",
      "[Wrong] Question No. 3  at Step No. 1\n",
      "[Wrong] Question No. 5  at Step No. 3\n",
      "[Duplicate] Question No. 5  at Step No. 3\n",
      "[Wrong] Question No. 5  at Step No. 4\n",
      "[Duplicate] Question No. 5  at Step No. 4\n",
      "0.8378378378378378\n",
      "\n",
      "\n",
      "[Wrong] Question No. 3  at Step No. 3\n",
      "[Wrong] Question No. 3  at Step No. 4\n",
      "0.9459459459459459\n",
      "\n",
      "\n",
      "[Wrong] Question No. 9  at Step No. 1\n",
      "0.972972972972973\n",
      "\n",
      "\n",
      "[Wrong] Question No. 3  at Step No. 5\n",
      "0.972972972972973\n",
      "\n",
      "\n",
      "[Wrong] Question No. 10  at Step No. 1\n",
      "[Wrong] Question No. 10  at Step No. 2\n",
      "[Wrong] Question No. 3  at Step No. 3\n",
      "[Wrong] Question No. 3  at Step No. 4\n",
      "[Wrong] Question No. 4  at Step No. 2\n",
      "[Wrong] Question No. 5  at Step No. 1\n",
      "[Wrong] Question No. 6  at Step No. 2\n",
      "[Wrong] Question No. 6  at Step No. 3\n",
      "0.7837837837837838\n",
      "\n",
      "\n",
      "1.0\n",
      "\n",
      "\n"
     ]
    }
   ],
   "source": [
    "ANS = {}\n",
    "ANS[1] = [True,True,True]\n",
    "ANS[2] = [True,True,True,True,True]\n",
    "ANS[3] = [True,True,False,False,True,True]\n",
    "ANS[4] = [False,True]\n",
    "ANS[5] = [True,True,True,True,True]\n",
    "ANS[6] = [False,True,True]\n",
    "ANS[7] = [True,True,True,True,True,True,True]\n",
    "ANS[8] = [True,True]\n",
    "ANS[9] = [False,True]\n",
    "ANS[10] = [True,True]\n",
    "\n",
    "\n",
    "for i in range(len(df)):\n",
    "    row = df.iloc[i]\n",
    "    \n",
    "    total_question = {}\n",
    "    for j in range(10):\n",
    "        total_question[j+1] = {}\n",
    "    \n",
    "    correct_answers = 0\n",
    "    for k,v in row.items():\n",
    "        if(k.startswith(\"Answer.question_\")):\n",
    "            question_idx = int(k.split(\"_\")[1]) # Q 1\n",
    "            step_idx = int(k.split(\"_\")[3]) # Step 1\n",
    "            yes_or_no = k.split(\"_\")[4] # YES\n",
    "            \n",
    "            actual_answer = ANS[question_idx][step_idx-1]\n",
    "            \n",
    "            \n",
    "            if(yes_or_no == \"yes.on\" and v):\n",
    "                \n",
    "                if(step_idx in total_question[question_idx]):\n",
    "                    print(\"[Duplicate] Question No.\", question_idx, \" at Step No.\", step_idx)\n",
    "                    continue\n",
    "                else:\n",
    "                    total_question[question_idx][step_idx] = 1\n",
    "                \n",
    "                \n",
    "                if(not actual_answer):\n",
    "                    print(\"[Wrong] Question No.\", question_idx, \" at Step No.\", step_idx)\n",
    "                else:\n",
    "                    correct_answers += 1\n",
    "                    \n",
    "            if(yes_or_no == \"no.on\" and v):\n",
    "                \n",
    "                if(step_idx in total_question[question_idx]):\n",
    "                    print(\"[Duplicate] Question No.\", question_idx, \" at Step No.\", step_idx)\n",
    "                    continue\n",
    "                else:\n",
    "                    total_question[question_idx][step_idx] = 1\n",
    "                \n",
    "                if(actual_answer):\n",
    "                    print(\"[Wrong] Question No.\", question_idx, \" at Step No.\", step_idx)\n",
    "                else:\n",
    "                    correct_answers += 1\n",
    "                    \n",
    "    print(correct_answers/37)\n",
    "    print(\"\\n\")"
   ]
  },
  {
   "cell_type": "code",
   "execution_count": null,
   "metadata": {},
   "outputs": [],
   "source": []
  },
  {
   "cell_type": "code",
   "execution_count": null,
   "metadata": {},
   "outputs": [],
   "source": []
  },
  {
   "cell_type": "code",
   "execution_count": 7,
   "metadata": {},
   "outputs": [],
   "source": [
    "answer = {}\n",
    "answer['Answer.question_1_step_1.1'] = False\n",
    "answer['Answer.question_1_step_2.2'] = False\n",
    "answer['Answer.question_1_step_3.3'] = False\n",
    "\n",
    "answer['Answer.question_2_step_1.1'] = False\n",
    "answer['Answer.question_2_step_2.2'] = True\n",
    "answer['Answer.question_2_step_3.3'] = False\n",
    "answer['Answer.question_2_step_4.4'] = False\n",
    "answer['Answer.question_2_step_5.5'] = False\n",
    "\n",
    "answer['Answer.question_3_step_1.1'] = False\n",
    "answer['Answer.question_3_step_2.2'] = False\n",
    "answer['Answer.question_3_step_3.3'] = True\n",
    "answer['Answer.question_3_step_4.4'] = True\n",
    "answer['Answer.question_3_step_5.5'] = True\n",
    "answer['Answer.question_3_step_6.6'] = False\n",
    "\n",
    "answer['Answer.question_4_step_1.1'] = True\n",
    "answer['Answer.question_4_step_2.2'] = True\n",
    "\n",
    "answer['Answer.question_5_step_1.1'] = False\n",
    "answer['Answer.question_5_step_2.2'] = False\n",
    "answer['Answer.question_5_step_3.3'] = False\n",
    "answer['Answer.question_5_step_4.4'] = False\n",
    "answer['Answer.question_5_step_5.5'] = False\n",
    "\n",
    "answer['Answer.question_6_step_1.1'] = True\n",
    "answer['Answer.question_6_step_2.2'] = True\n",
    "answer['Answer.question_6_step_3.3'] = False\n",
    "\n",
    "answer['Answer.question_7_step_1.1'] = False\n",
    "answer['Answer.question_7_step_2.2'] = False\n",
    "answer['Answer.question_7_step_3.3'] = True\n",
    "answer['Answer.question_7_step_4.4'] = True\n",
    "answer['Answer.question_7_step_5.5'] = True\n",
    "answer['Answer.question_7_step_6.6'] = False\n",
    "\n",
    "answer['Answer.question_8_step_1.1'] = True\n",
    "answer['Answer.question_8_step_2.2'] = False\n",
    "\n",
    "answer['Answer.question_9_step_1.1'] = True\n",
    "answer['Answer.question_9_step_2.2'] = False\n",
    "\n",
    "answer['Answer.question_10_step_1.1'] = True\n",
    "answer['Answer.question_10_step_2.2'] = False\n",
    "answer['Answer.question_10_step_3.3'] = True\n",
    "answer['Answer.question_10_step_4.4'] = True"
   ]
  },
  {
   "cell_type": "code",
   "execution_count": 32,
   "metadata": {
    "scrolled": true
   },
   "outputs": [
    {
     "name": "stdout",
     "output_type": "stream",
     "text": [
      "Answer.question_1_step_1.1 1.0\n",
      "Answer.question_1_step_2.2 1.0\n",
      "Answer.question_1_step_3.3 0.875\n",
      "Answer.question_2_step_1.1 0.75\n",
      "Answer.question_2_step_2.2 0.75\n",
      "Answer.question_2_step_3.3 0.875\n",
      "Answer.question_2_step_4.4 0.875\n",
      "Answer.question_2_step_5.5 0.875\n",
      "Answer.question_3_step_1.1 1.0\n",
      "Answer.question_3_step_2.2 1.0\n",
      "Answer.question_3_step_3.3 0.25\n",
      "Answer.question_3_step_4.4 0.25\n",
      "Answer.question_3_step_5.5 0.625\n",
      "Answer.question_3_step_6.6 0.625\n",
      "Answer.question_4_step_1.1 0.875\n",
      "Answer.question_4_step_2.2 0.5\n",
      "Answer.question_5_step_1.1 0.75\n",
      "Answer.question_5_step_2.2 1.0\n",
      "Answer.question_5_step_3.3 0.75\n",
      "Answer.question_5_step_4.4 0.75\n",
      "Answer.question_5_step_5.5 0.75\n",
      "Answer.question_6_step_1.1 0.625\n",
      "Answer.question_6_step_2.2 0.375\n",
      "Answer.question_6_step_3.3 0.75\n",
      "Answer.question_7_step_1.1 1.0\n",
      "Answer.question_7_step_2.2 1.0\n",
      "Answer.question_7_step_3.3 0.625\n",
      "Answer.question_7_step_4.4 0.5\n",
      "Answer.question_7_step_5.5 0.375\n",
      "Answer.question_7_step_6.6 0.75\n",
      "Answer.question_8_step_1.1 0.125\n",
      "Answer.question_8_step_2.2 1.0\n",
      "Answer.question_9_step_1.1 0.625\n",
      "Answer.question_9_step_2.2 0.75\n",
      "Answer.question_10_step_1.1 0.5\n",
      "Answer.question_10_step_2.2 0.625\n",
      "Answer.question_10_step_3.3 0.5\n",
      "Answer.question_10_step_4.4 0.375\n"
     ]
    }
   ],
   "source": [
    "\n",
    "for k,v in answer.items():\n",
    "    print(k, (df[k] == v).sum() / len(df[k]))"
   ]
  },
  {
   "cell_type": "code",
   "execution_count": 37,
   "metadata": {},
   "outputs": [
    {
     "name": "stdout",
     "output_type": "stream",
     "text": [
      "Answer.question_3_step_3.3 , user answer:  False , true answer: True\n",
      "Answer.question_3_step_4.4 , user answer:  False , true answer: True\n",
      "Answer.question_6_step_3.3 , user answer:  True , true answer: False\n",
      "Answer.question_7_step_4.4 , user answer:  False , true answer: True\n",
      "Answer.question_7_step_5.5 , user answer:  False , true answer: True\n",
      "Answer.question_8_step_1.1 , user answer:  False , true answer: True\n",
      "Answer.question_10_step_3.3 , user answer:  False , true answer: True\n",
      "Answer.question_10_step_4.4 , user answer:  False , true answer: True\n",
      "5 0.7894736842105263\n",
      "Answer.question_3_step_3.3 , user answer:  False , true answer: True\n",
      "Answer.question_3_step_4.4 , user answer:  False , true answer: True\n",
      "Answer.question_5_step_1.1 , user answer:  True , true answer: False\n",
      "Answer.question_8_step_1.1 , user answer:  False , true answer: True\n",
      "Answer.question_10_step_1.1 , user answer:  False , true answer: True\n",
      "Answer.question_10_step_3.3 , user answer:  False , true answer: True\n",
      "Answer.question_10_step_4.4 , user answer:  False , true answer: True\n",
      "7 0.8157894736842105\n"
     ]
    }
   ],
   "source": [
    "for i in [5,7]:\n",
    "    row = df.iloc[i]\n",
    "    correct = 0\n",
    "    for k,v in answer.items():\n",
    "        \n",
    "        if(row[k] == v):\n",
    "            correct += 1\n",
    "        else:\n",
    "            print(k, \", user answer: \", row[k], \", true answer:\", v)\n",
    "    print(i, correct / len(answer))"
   ]
  },
  {
   "cell_type": "code",
   "execution_count": null,
   "metadata": {},
   "outputs": [],
   "source": []
  },
  {
   "cell_type": "code",
   "execution_count": null,
   "metadata": {},
   "outputs": [],
   "source": []
  },
  {
   "cell_type": "code",
   "execution_count": null,
   "metadata": {},
   "outputs": [],
   "source": []
  },
  {
   "cell_type": "code",
   "execution_count": null,
   "metadata": {},
   "outputs": [],
   "source": []
  }
 ],
 "metadata": {
  "kernelspec": {
   "display_name": "myenv",
   "language": "python",
   "name": "myenv"
  },
  "language_info": {
   "codemirror_mode": {
    "name": "ipython",
    "version": 3
   },
   "file_extension": ".py",
   "mimetype": "text/x-python",
   "name": "python",
   "nbconvert_exporter": "python",
   "pygments_lexer": "ipython3",
   "version": "3.8.12"
  }
 },
 "nbformat": 4,
 "nbformat_minor": 4
}
