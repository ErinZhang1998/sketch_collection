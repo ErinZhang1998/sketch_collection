{
 "cells": [
  {
   "cell_type": "code",
   "execution_count": 1,
   "metadata": {},
   "outputs": [],
   "source": [
    "import seaborn as sns\n",
    "import numpy as np\n",
    "import pandas as pd\n",
    "import os\n",
    "import json\n",
    "import matplotlib.pyplot as plt\n",
    "import PIL\n",
    "import read_datasets as rd\n",
    "import constants as CONST\n",
    "from importlib import reload\n",
    "reload(rd)\n",
    "reload(CONST)\n",
    "import base64\n",
    "import pickle\n",
    "import collections\n",
    "import itertools, collections\n",
    "from sklearn.metrics import mean_squared_error\n",
    "import cv2 "
   ]
  },
  {
   "cell_type": "code",
   "execution_count": 2,
   "metadata": {},
   "outputs": [],
   "source": [
    "import torch"
   ]
  },
  {
   "cell_type": "code",
   "execution_count": 3,
   "metadata": {},
   "outputs": [],
   "source": [
    "np.set_printoptions(precision=4, suppress=True)"
   ]
  },
  {
   "cell_type": "code",
   "execution_count": 17,
   "metadata": {},
   "outputs": [
    {
     "name": "stderr",
     "output_type": "stream",
     "text": [
      " 52%|█████▏    | 418/800 [00:28<00:17, 22.47it/s]/home/xiaoyuz1/amazon_turk/read_datasets.py:277: RuntimeWarning: invalid value encountered in true_divide\n",
      "  s = np.divide((N - cumarc[tbins-1]),chordlen[tbins-1])\n",
      "100%|██████████| 800/800 [00:50<00:00, 15.90it/s]\n"
     ]
    }
   ],
   "source": [
    "from tqdm import tqdm\n",
    "drawing_arr = CONST.face_json['train_data']\n",
    "n = 200\n",
    "M_arr = collections.defaultdict(lambda : np.zeros(9))\n",
    "M_name = collections.defaultdict(lambda : \" \")\n",
    "M_mse = collections.defaultdict(float)\n",
    "\n",
    "b_spline_num_sampled_points = n\n",
    "\n",
    "for idx in tqdm(range(len(drawing_arr))):\n",
    "    strokes_spline_fitted = rd.process_quickdraw_to_stroke_no_normalize(\n",
    "        drawing_arr[idx], \n",
    "        b_spline_num_sampled_points=200,\n",
    "    )\n",
    "    \n",
    "    for stroke_index, data in enumerate(strokes_spline_fitted):\n",
    "        min_template_name, min_template_mse = None, np.inf\n",
    "        min_M = None\n",
    "        for template_name, template_func in rd.TEMPLATE_DICT.items():\n",
    "            template = template_func(n)\n",
    "            try:\n",
    "                M, result = rd.get_transform(template, data, projective=False)\n",
    "                mse = rd.mean_squared_error(result, data)\n",
    "                if mse < min_template_mse:\n",
    "                    min_template_name = template_name\n",
    "                    min_template_mse = mse\n",
    "                    min_M = M\n",
    "            except:\n",
    "                continue\n",
    "                print(\"Fail: \", template_name, \" at: \", idx, stroke_index)\n",
    "        \n",
    "        if min_M is None:\n",
    "            M_arr[(idx, stroke_index)] = np.zeros(9)\n",
    "            M_name[(idx, stroke_index)] = 'line'\n",
    "            M_mse[(idx, stroke_index)] = min_template_mse\n",
    "        else:\n",
    "            M_arr[(idx, stroke_index)] = min_M.reshape(-1,)\n",
    "            M_name[(idx, stroke_index)] = min_template_name\n",
    "            M_mse[(idx, stroke_index)] = min_template_mse\n",
    "\n",
    "        \n",
    "with open('/raid/xiaoyuz1/SPG_Face_256_affine_mse.pkl', \"wb+\") as f:\n",
    "    pickle.dump((dict(M_arr), dict(M_name), dict(M_mse)), f)"
   ]
  },
  {
   "cell_type": "code",
   "execution_count": 47,
   "metadata": {},
   "outputs": [],
   "source": [
    "M_arr, M_name = None,None\n",
    "M_mse = None\n",
    "with open('/raid/xiaoyuz1/SPG_Face_256_projective_mse.pkl', \"rb\") as f:\n",
    "    M_arr, M_name, M_mse = pickle.load(f)"
   ]
  },
  {
   "cell_type": "code",
   "execution_count": 48,
   "metadata": {},
   "outputs": [],
   "source": [
    "import math"
   ]
  },
  {
   "cell_type": "code",
   "execution_count": 49,
   "metadata": {},
   "outputs": [
    {
     "data": {
      "text/plain": [
       "39.35526852900361"
      ]
     },
     "execution_count": 49,
     "metadata": {},
     "output_type": "execute_result"
    }
   ],
   "source": [
    "mse_l = list(filter(lambda x: not math.isinf(x), list(M_mse.values())))\n",
    "np.mean(mse_l)"
   ]
  },
  {
   "cell_type": "code",
   "execution_count": null,
   "metadata": {},
   "outputs": [],
   "source": []
  },
  {
   "cell_type": "code",
   "execution_count": 50,
   "metadata": {
    "scrolled": true
   },
   "outputs": [],
   "source": [
    "image_list = list(map(lambda x: x[0], M_name.keys()))\n",
    "stroke_list = list(map(lambda x: x[1], M_name.keys()))\n",
    "arr_list = list(M_arr.values())\n",
    "name_list = list(M_name.values())\n",
    "mse_list = list(M_mse.values())\n",
    "\n",
    "data = {'image': image_list, 'stroke' : stroke_list, 'M' : arr_list, 'primitive' : name_list, 'mse' : mse_list}\n",
    "df = pd.DataFrame.from_dict(data)"
   ]
  },
  {
   "cell_type": "code",
   "execution_count": 51,
   "metadata": {},
   "outputs": [],
   "source": [
    "dfa = df[df.mse.apply(lambda x: not math.isinf(x))]"
   ]
  },
  {
   "cell_type": "code",
   "execution_count": 52,
   "metadata": {},
   "outputs": [
    {
     "name": "stdout",
     "output_type": "stream",
     "text": [
      "4796\n"
     ]
    }
   ],
   "source": [
    "print(len(dfa))"
   ]
  },
  {
   "cell_type": "code",
   "execution_count": 53,
   "metadata": {},
   "outputs": [
    {
     "data": {
      "text/plain": [
       "array(['circle', 'arc', 'square', 'semicircle'], dtype=object)"
      ]
     },
     "execution_count": 53,
     "metadata": {},
     "output_type": "execute_result"
    }
   ],
   "source": [
    "dfa.primitive.unique()"
   ]
  },
  {
   "cell_type": "code",
   "execution_count": 54,
   "metadata": {},
   "outputs": [
    {
     "data": {
      "text/html": [
       "<div>\n",
       "<style scoped>\n",
       "    .dataframe tbody tr th:only-of-type {\n",
       "        vertical-align: middle;\n",
       "    }\n",
       "\n",
       "    .dataframe tbody tr th {\n",
       "        vertical-align: top;\n",
       "    }\n",
       "\n",
       "    .dataframe thead th {\n",
       "        text-align: right;\n",
       "    }\n",
       "</style>\n",
       "<table border=\"1\" class=\"dataframe\">\n",
       "  <thead>\n",
       "    <tr style=\"text-align: right;\">\n",
       "      <th></th>\n",
       "      <th>image</th>\n",
       "      <th>stroke</th>\n",
       "      <th>M</th>\n",
       "      <th>primitive</th>\n",
       "      <th>mse</th>\n",
       "    </tr>\n",
       "  </thead>\n",
       "  <tbody>\n",
       "    <tr>\n",
       "      <th>35</th>\n",
       "      <td>7</td>\n",
       "      <td>2</td>\n",
       "      <td>[-407.54476376318166, -336.6646257421924, -980...</td>\n",
       "      <td>semicircle</td>\n",
       "      <td>1.661697</td>\n",
       "    </tr>\n",
       "    <tr>\n",
       "      <th>41</th>\n",
       "      <td>8</td>\n",
       "      <td>3</td>\n",
       "      <td>[-0.03796041558470073, -0.361722574529116, 91....</td>\n",
       "      <td>semicircle</td>\n",
       "      <td>24.925450</td>\n",
       "    </tr>\n",
       "    <tr>\n",
       "      <th>50</th>\n",
       "      <td>9</td>\n",
       "      <td>4</td>\n",
       "      <td>[-0.8965431787443843, -0.1476799419363046, 124...</td>\n",
       "      <td>semicircle</td>\n",
       "      <td>5.184967</td>\n",
       "    </tr>\n",
       "    <tr>\n",
       "      <th>166</th>\n",
       "      <td>29</td>\n",
       "      <td>4</td>\n",
       "      <td>[1.5621081648447608, 3.0192921618434463, 102.2...</td>\n",
       "      <td>semicircle</td>\n",
       "      <td>3.538159</td>\n",
       "    </tr>\n",
       "    <tr>\n",
       "      <th>199</th>\n",
       "      <td>35</td>\n",
       "      <td>3</td>\n",
       "      <td>[0.5172027881536382, -2.800323848903154, 50.54...</td>\n",
       "      <td>semicircle</td>\n",
       "      <td>37.238237</td>\n",
       "    </tr>\n",
       "    <tr>\n",
       "      <th>...</th>\n",
       "      <td>...</td>\n",
       "      <td>...</td>\n",
       "      <td>...</td>\n",
       "      <td>...</td>\n",
       "      <td>...</td>\n",
       "    </tr>\n",
       "    <tr>\n",
       "      <th>4609</th>\n",
       "      <td>768</td>\n",
       "      <td>1</td>\n",
       "      <td>[0.789040040490335, 9.670421971213646, 308.438...</td>\n",
       "      <td>semicircle</td>\n",
       "      <td>452.995429</td>\n",
       "    </tr>\n",
       "    <tr>\n",
       "      <th>4647</th>\n",
       "      <td>774</td>\n",
       "      <td>3</td>\n",
       "      <td>[-997.8451969791212, -2708.8884896889704, -764...</td>\n",
       "      <td>semicircle</td>\n",
       "      <td>1.056653</td>\n",
       "    </tr>\n",
       "    <tr>\n",
       "      <th>4710</th>\n",
       "      <td>785</td>\n",
       "      <td>4</td>\n",
       "      <td>[-0.18212866284273385, 0.008527432355826621, 1...</td>\n",
       "      <td>semicircle</td>\n",
       "      <td>4.560159</td>\n",
       "    </tr>\n",
       "    <tr>\n",
       "      <th>4777</th>\n",
       "      <td>797</td>\n",
       "      <td>5</td>\n",
       "      <td>[0.22528400652772984, -0.2096413307813808, -39...</td>\n",
       "      <td>semicircle</td>\n",
       "      <td>108.117233</td>\n",
       "    </tr>\n",
       "    <tr>\n",
       "      <th>4797</th>\n",
       "      <td>799</td>\n",
       "      <td>4</td>\n",
       "      <td>[0.04151110698076181, -0.09573057078742915, 43...</td>\n",
       "      <td>semicircle</td>\n",
       "      <td>1930.042384</td>\n",
       "    </tr>\n",
       "  </tbody>\n",
       "</table>\n",
       "<p>120 rows × 5 columns</p>\n",
       "</div>"
      ],
      "text/plain": [
       "      image  stroke                                                  M  \\\n",
       "35        7       2  [-407.54476376318166, -336.6646257421924, -980...   \n",
       "41        8       3  [-0.03796041558470073, -0.361722574529116, 91....   \n",
       "50        9       4  [-0.8965431787443843, -0.1476799419363046, 124...   \n",
       "166      29       4  [1.5621081648447608, 3.0192921618434463, 102.2...   \n",
       "199      35       3  [0.5172027881536382, -2.800323848903154, 50.54...   \n",
       "...     ...     ...                                                ...   \n",
       "4609    768       1  [0.789040040490335, 9.670421971213646, 308.438...   \n",
       "4647    774       3  [-997.8451969791212, -2708.8884896889704, -764...   \n",
       "4710    785       4  [-0.18212866284273385, 0.008527432355826621, 1...   \n",
       "4777    797       5  [0.22528400652772984, -0.2096413307813808, -39...   \n",
       "4797    799       4  [0.04151110698076181, -0.09573057078742915, 43...   \n",
       "\n",
       "       primitive          mse  \n",
       "35    semicircle     1.661697  \n",
       "41    semicircle    24.925450  \n",
       "50    semicircle     5.184967  \n",
       "166   semicircle     3.538159  \n",
       "199   semicircle    37.238237  \n",
       "...          ...          ...  \n",
       "4609  semicircle   452.995429  \n",
       "4647  semicircle     1.056653  \n",
       "4710  semicircle     4.560159  \n",
       "4777  semicircle   108.117233  \n",
       "4797  semicircle  1930.042384  \n",
       "\n",
       "[120 rows x 5 columns]"
      ]
     },
     "execution_count": 54,
     "metadata": {},
     "output_type": "execute_result"
    }
   ],
   "source": [
    "dfa[dfa['primitive'] == 'semicircle']"
   ]
  },
  {
   "cell_type": "code",
   "execution_count": 55,
   "metadata": {},
   "outputs": [],
   "source": [
    "drawing_arr = CONST.face_json['train_data']\n",
    "n = 200\n",
    "h,w = 256,256"
   ]
  },
  {
   "cell_type": "code",
   "execution_count": 56,
   "metadata": {
    "scrolled": true
   },
   "outputs": [
    {
     "name": "stdout",
     "output_type": "stream",
     "text": [
      "3\n"
     ]
    }
   ],
   "source": [
    "line_dict = dict(filter(lambda x: x[1] == 'line', M_name.items()))\n",
    "print(len(line_dict))"
   ]
  },
  {
   "cell_type": "code",
   "execution_count": 57,
   "metadata": {},
   "outputs": [
    {
     "data": {
      "text/plain": [
       "{(290, 1): 'line', (419, 4): 'line', (563, 2): 'line'}"
      ]
     },
     "execution_count": 57,
     "metadata": {},
     "output_type": "execute_result"
    }
   ],
   "source": [
    "line_dict"
   ]
  },
  {
   "cell_type": "code",
   "execution_count": 88,
   "metadata": {},
   "outputs": [],
   "source": [
    "idx = 757\n",
    "stroke_idx = 4"
   ]
  },
  {
   "cell_type": "code",
   "execution_count": null,
   "metadata": {},
   "outputs": [],
   "source": [
    "drawing_raw = np.asarray(drawing_arr[idx])\n",
    "drawing_raw[:,0] = np.cumsum(drawing_raw[:,0], 0) + 25\n",
    "drawing_raw[:,1] = np.cumsum(drawing_raw[:,1], 0) + 25\n",
    "pen_lift_indices = np.where(drawing_raw[:,2] == 1)[0]+1\n",
    "strokes = np.vsplit(drawing_raw[:,:2].astype(float), pen_lift_indices)[:-1]"
   ]
  },
  {
   "cell_type": "code",
   "execution_count": 59,
   "metadata": {},
   "outputs": [
    {
     "data": {
      "text/plain": [
       "<module 'read_datasets' from '/home/xiaoyuz1/amazon_turk/read_datasets.py'>"
      ]
     },
     "execution_count": 59,
     "metadata": {},
     "output_type": "execute_result"
    }
   ],
   "source": [
    "reload(rd)"
   ]
  },
  {
   "cell_type": "code",
   "execution_count": null,
   "metadata": {},
   "outputs": [],
   "source": []
  },
  {
   "cell_type": "code",
   "execution_count": 85,
   "metadata": {},
   "outputs": [
    {
     "data": {
      "image/png": "[encoded data removed]",
      "text/plain": [
       "<Figure size 1728x288 with 1 Axes>"
      ]
     },
     "metadata": {},
     "output_type": "display_data"
    },
    {
     "name": "stdout",
     "output_type": "stream",
     "text": [
      "10\n"
     ]
    }
   ],
   "source": [
    "# print(dict(filter(lambda x: x[0][0] == idx, M_name.items())))\n",
    "\n",
    "rd.show_these_sketches(\n",
    "    CONST.face_json,\n",
    "    [idx], \n",
    "    [str(idx)], \n",
    "    [[]], \n",
    "    num_pngs_per_row = 6,\n",
    "    row_figsize = 4,\n",
    "    column_figsize = 4,\n",
    ")\n",
    "\n",
    "strokes_spline_fitted = rd.process_quickdraw_to_stroke_no_normalize(\n",
    "    drawing_arr[idx], \n",
    "    b_spline_num_sampled_points=200,\n",
    ")\n",
    "print(len(strokes_spline_fitted))"
   ]
  },
  {
   "cell_type": "code",
   "execution_count": 86,
   "metadata": {},
   "outputs": [
    {
     "data": {
      "text/html": [
       "<div>\n",
       "<style scoped>\n",
       "    .dataframe tbody tr th:only-of-type {\n",
       "        vertical-align: middle;\n",
       "    }\n",
       "\n",
       "    .dataframe tbody tr th {\n",
       "        vertical-align: top;\n",
       "    }\n",
       "\n",
       "    .dataframe thead th {\n",
       "        text-align: right;\n",
       "    }\n",
       "</style>\n",
       "<table border=\"1\" class=\"dataframe\">\n",
       "  <thead>\n",
       "    <tr style=\"text-align: right;\">\n",
       "      <th></th>\n",
       "      <th>image</th>\n",
       "      <th>stroke</th>\n",
       "      <th>M</th>\n",
       "      <th>primitive</th>\n",
       "      <th>mse</th>\n",
       "    </tr>\n",
       "  </thead>\n",
       "  <tbody>\n",
       "    <tr>\n",
       "      <th>4541</th>\n",
       "      <td>757</td>\n",
       "      <td>0</td>\n",
       "      <td>[-0.28057954303112587, -0.2708655623481026, 14...</td>\n",
       "      <td>arc</td>\n",
       "      <td>20.445086</td>\n",
       "    </tr>\n",
       "    <tr>\n",
       "      <th>4542</th>\n",
       "      <td>757</td>\n",
       "      <td>1</td>\n",
       "      <td>[-0.2350667326906853, -0.055926227651030655, 7...</td>\n",
       "      <td>semicircle</td>\n",
       "      <td>27.466890</td>\n",
       "    </tr>\n",
       "    <tr>\n",
       "      <th>4543</th>\n",
       "      <td>757</td>\n",
       "      <td>2</td>\n",
       "      <td>[-0.07909876629770023, -0.02009573841141183, 1...</td>\n",
       "      <td>circle</td>\n",
       "      <td>10.490410</td>\n",
       "    </tr>\n",
       "    <tr>\n",
       "      <th>4544</th>\n",
       "      <td>757</td>\n",
       "      <td>3</td>\n",
       "      <td>[-0.17334509539982595, 0.14410216270399512, 10...</td>\n",
       "      <td>arc</td>\n",
       "      <td>0.348143</td>\n",
       "    </tr>\n",
       "    <tr>\n",
       "      <th>4545</th>\n",
       "      <td>757</td>\n",
       "      <td>4</td>\n",
       "      <td>[-0.09670819750266603, -0.16194023170902072, 5...</td>\n",
       "      <td>arc</td>\n",
       "      <td>391.085121</td>\n",
       "    </tr>\n",
       "    <tr>\n",
       "      <th>4546</th>\n",
       "      <td>757</td>\n",
       "      <td>5</td>\n",
       "      <td>[-0.3184233445523475, -0.06901503593116455, 12...</td>\n",
       "      <td>arc</td>\n",
       "      <td>21.502022</td>\n",
       "    </tr>\n",
       "    <tr>\n",
       "      <th>4547</th>\n",
       "      <td>757</td>\n",
       "      <td>6</td>\n",
       "      <td>[1.088181051454323, 2.1716874040092207, 156.56...</td>\n",
       "      <td>arc</td>\n",
       "      <td>1.183266</td>\n",
       "    </tr>\n",
       "    <tr>\n",
       "      <th>4548</th>\n",
       "      <td>757</td>\n",
       "      <td>7</td>\n",
       "      <td>[-0.09834648419694375, 0.06325694309491349, 16...</td>\n",
       "      <td>square</td>\n",
       "      <td>20.659431</td>\n",
       "    </tr>\n",
       "    <tr>\n",
       "      <th>4549</th>\n",
       "      <td>757</td>\n",
       "      <td>8</td>\n",
       "      <td>[-0.33846554991466005, 0.21942453845009224, 12...</td>\n",
       "      <td>arc</td>\n",
       "      <td>0.097635</td>\n",
       "    </tr>\n",
       "    <tr>\n",
       "      <th>4550</th>\n",
       "      <td>757</td>\n",
       "      <td>9</td>\n",
       "      <td>[0.5389248598100519, 1.4038516472687599, 136.1...</td>\n",
       "      <td>arc</td>\n",
       "      <td>0.278065</td>\n",
       "    </tr>\n",
       "  </tbody>\n",
       "</table>\n",
       "</div>"
      ],
      "text/plain": [
       "      image  stroke                                                  M  \\\n",
       "4541    757       0  [-0.28057954303112587, -0.2708655623481026, 14...   \n",
       "4542    757       1  [-0.2350667326906853, -0.055926227651030655, 7...   \n",
       "4543    757       2  [-0.07909876629770023, -0.02009573841141183, 1...   \n",
       "4544    757       3  [-0.17334509539982595, 0.14410216270399512, 10...   \n",
       "4545    757       4  [-0.09670819750266603, -0.16194023170902072, 5...   \n",
       "4546    757       5  [-0.3184233445523475, -0.06901503593116455, 12...   \n",
       "4547    757       6  [1.088181051454323, 2.1716874040092207, 156.56...   \n",
       "4548    757       7  [-0.09834648419694375, 0.06325694309491349, 16...   \n",
       "4549    757       8  [-0.33846554991466005, 0.21942453845009224, 12...   \n",
       "4550    757       9  [0.5389248598100519, 1.4038516472687599, 136.1...   \n",
       "\n",
       "       primitive         mse  \n",
       "4541         arc   20.445086  \n",
       "4542  semicircle   27.466890  \n",
       "4543      circle   10.490410  \n",
       "4544         arc    0.348143  \n",
       "4545         arc  391.085121  \n",
       "4546         arc   21.502022  \n",
       "4547         arc    1.183266  \n",
       "4548      square   20.659431  \n",
       "4549         arc    0.097635  \n",
       "4550         arc    0.278065  "
      ]
     },
     "execution_count": 86,
     "metadata": {},
     "output_type": "execute_result"
    }
   ],
   "source": [
    "dfa[dfa.image == idx]"
   ]
  },
  {
   "cell_type": "code",
   "execution_count": 87,
   "metadata": {
    "scrolled": false
   },
   "outputs": [
    {
     "data": {
      "image/png": "[encoded data removed]",
      "text/plain": [
       "<Figure size 864x432 with 2 Axes>"
      ]
     },
     "metadata": {
      "needs_background": "light"
     },
     "output_type": "display_data"
    }
   ],
   "source": [
    "f, (ax1, ax2) = plt.subplots(1, 2, figsize=(12, 6))\n",
    "\n",
    "for index, entry in dfa[dfa.image == idx].iterrows():\n",
    "    data = strokes_spline_fitted[entry.stroke]\n",
    "    template_func = rd.TEMPLATE_DICT[entry.primitive]\n",
    "    template = template_func(n)\n",
    "    \n",
    "    result, mse = rd.get_transformed_template(template, data, entry.M.reshape(3,3))\n",
    "    ax1.scatter(result[:,0], result[:,1], label=\"transformed template\", s=1, c='r')\n",
    "    ax2.scatter(data[:,0], data[:,1], label=\"data\", alpha=0.5, s=1, c='g')\n",
    "\n",
    "# plt.legend()\n",
    "# plt.xlim(0,w)\n",
    "# plt.ylim(h,0)\n",
    "\n",
    "ax1.axis(xmin=0,xmax=w)\n",
    "ax1.axis(ymin=h,ymax=0)\n",
    "\n",
    "ax2.axis(xmin=0,xmax=w)\n",
    "ax2.axis(ymin=h,ymax=0)\n",
    "\n",
    "plt.show()"
   ]
  },
  {
   "cell_type": "code",
   "execution_count": 89,
   "metadata": {},
   "outputs": [
    {
     "name": "stdout",
     "output_type": "stream",
     "text": [
      "391.085121291536\n"
     ]
    },
    {
     "data": {
      "image/png": "[encoded data removed]",
      "text/plain": [
       "<Figure size 432x432 with 1 Axes>"
      ]
     },
     "metadata": {
      "needs_background": "light"
     },
     "output_type": "display_data"
    }
   ],
   "source": [
    "data = strokes_spline_fitted[stroke_idx]\n",
    "template_func = rd.TEMPLATE_DICT[M_name[(idx, stroke_idx)]]\n",
    "template = template_func(n)\n",
    "\n",
    "result, mse = rd.get_transformed_template(template, data, M_arr[(idx, stroke_idx)].reshape(3,3))\n",
    "\n",
    "print(mse)\n",
    "\n",
    "datacolors = rd.get_sequence_colors(n, plt.cm.Greens)\n",
    "templatecolors = rd.get_sequence_colors(n, plt.cm.Reds)\n",
    "\n",
    "plt.figure(figsize=(6, 6))\n",
    "# plt.scatter(result[:,0], result[:,1], label=\"transformed template\", s=1, \\\n",
    "#             c=templatecolors)\n",
    "# plt.scatter(data[:,0], data[:,1], label=\"data\", alpha=0.5, s=1, c=datacolors)\n",
    "\n",
    "plt.scatter(result[:,0], result[:,1], label=\"transformed template\", s=1, c='r')\n",
    "plt.scatter(data[:,0], data[:,1], label=\"data\", alpha=0.5, s=1, c='g')\n",
    "\n",
    "plt.legend()\n",
    "# plt.xlim(0,w)\n",
    "# plt.ylim(h,0)\n",
    "\n",
    "plt.show()"
   ]
  },
  {
   "cell_type": "code",
   "execution_count": 27,
   "metadata": {},
   "outputs": [],
   "source": [
    "data = strokes_spline_fitted[stroke_idx]\n",
    "maxs = np.max(data, axis=0)\n",
    "mins = np.min(data, axis=0)\n",
    "ll = maxs - mins\n",
    "l = ll[~np.isclose(ll, 1e-8, rtol=1, atol=1e-07)][0]"
   ]
  },
  {
   "cell_type": "code",
   "execution_count": 66,
   "metadata": {},
   "outputs": [
    {
     "data": {
      "image/png": "[encoded data removed]",
      "text/plain": [
       "<Figure size 432x432 with 1 Axes>"
      ]
     },
     "metadata": {
      "needs_background": "light"
     },
     "output_type": "display_data"
    }
   ],
   "source": [
    "plt.figure(figsize=(6,6))\n",
    "plt.scatter(data[:,0], data[:,1], label=\"template\", s=1, c='g')\n",
    "# plt.scatter(strokes[stroke_idx][:,0], strokes[stroke_idx][:,1], label=\"template\", s=1, c='b')\n",
    "plt.show()"
   ]
  },
  {
   "cell_type": "code",
   "execution_count": 10,
   "metadata": {},
   "outputs": [
    {
     "data": {
      "image/png": "[encoded data removed]",
      "text/plain": [
       "<Figure size 432x288 with 1 Axes>"
      ]
     },
     "metadata": {
      "needs_background": "light"
     },
     "output_type": "display_data"
    }
   ],
   "source": [
    "reload(rd)\n",
    "# test_rect = rd.generate_rectangles(x1=50,y1=50,x2=107,y2=115)\n",
    "test_rect = rd.square_from_line(strokes[stroke_idx])\n",
    "# test_rect = interpcurve(200, test_rect[:,0], test_rect[:,1])\n",
    "\n",
    "# test_rect = rd.bspline(test_rect, n=200, degree=3)\n",
    "plt.scatter(test_rect[:,0], test_rect[:,1], label=\"template\", s=1, c='g')\n",
    "plt.show()"
   ]
  },
  {
   "cell_type": "code",
   "execution_count": 11,
   "metadata": {},
   "outputs": [],
   "source": [
    "min_template_name, min_template_mse = None, np.inf\n",
    "min_M = None\n",
    "for template_name, template_func in rd.TEMPLATE_DICT.items():\n",
    "    template = template_func(n)\n",
    "    try:\n",
    "        M, result = rd.get_transform(template, test_rect, projective=False)\n",
    "        mse = rd.mean_squared_error(result, test_rect)\n",
    "        if mse < min_template_mse:\n",
    "            min_template_name = template_name\n",
    "            min_template_mse = mse\n",
    "            min_M = M\n",
    "    except:\n",
    "        \n",
    "        print(\"Fail: \", template_name, \" at: \", idx, stroke_index)"
   ]
  },
  {
   "cell_type": "code",
   "execution_count": 12,
   "metadata": {
    "scrolled": true
   },
   "outputs": [
    {
     "data": {
      "text/plain": [
       "'square'"
      ]
     },
     "execution_count": 12,
     "metadata": {},
     "output_type": "execute_result"
    }
   ],
   "source": [
    "min_template_name"
   ]
  },
  {
   "cell_type": "code",
   "execution_count": 13,
   "metadata": {},
   "outputs": [
    {
     "data": {
      "text/plain": [
       "array([[ 0.0078,  0.    , 88.2055],\n",
       "       [ 0.    , -0.0013, 63.8443],\n",
       "       [ 0.    ,  0.    ,  1.    ]])"
      ]
     },
     "execution_count": 13,
     "metadata": {},
     "output_type": "execute_result"
    }
   ],
   "source": [
    "min_M"
   ]
  },
  {
   "cell_type": "code",
   "execution_count": 14,
   "metadata": {},
   "outputs": [
    {
     "name": "stdout",
     "output_type": "stream",
     "text": [
      "4.272133887934378e-12\n"
     ]
    },
    {
     "data": {
      "image/png": "[encoded data removed]",
      "text/plain": [
       "<Figure size 432x432 with 1 Axes>"
      ]
     },
     "metadata": {
      "needs_background": "light"
     },
     "output_type": "display_data"
    }
   ],
   "source": [
    "template_func = rd.TEMPLATE_DICT[min_template_name]\n",
    "projectiveM = min_M\n",
    "template = template_func(n)\n",
    "\n",
    "# src_pts = template.astype(np.float32).reshape(-1,1,2)\n",
    "# result = cv2.perspectiveTransform(src_pts, projectiveM.reshape(3,3)).reshape(-1,2)\n",
    "\n",
    "result = cv2.transform(np.array([template], copy=True).astype(np.float32), projectiveM)[0][:,:-1]\n",
    "\n",
    "mse = mean_squared_error(result, test_rect)\n",
    "print(mse)\n",
    "\n",
    "datacolors = rd.get_sequence_colors(n, plt.cm.Greens)\n",
    "templatecolors = rd.get_sequence_colors(n, plt.cm.Reds)\n",
    "\n",
    "plt.figure(figsize=(6, 6))\n",
    "plt.scatter(result[:,0], result[:,1], label=\"transformed template\", s=1, c='r')\n",
    "plt.scatter(test_rect[:,0], test_rect[:,1], label=\"data\", alpha=0.5, s=1, c='g')\n",
    "plt.legend()\n",
    "# plt.xlim(0,w)\n",
    "# plt.ylim(h,0)\n",
    "\n",
    "plt.show()"
   ]
  },
  {
   "cell_type": "code",
   "execution_count": 59,
   "metadata": {},
   "outputs": [
    {
     "name": "stdout",
     "output_type": "stream",
     "text": [
      "[[ 0.9988 -0.05    0.    ]\n",
      " [ 0.05    0.9988  0.    ]\n",
      " [ 0.      0.      1.    ]]\n"
     ]
    }
   ],
   "source": [
    "p = [0,0,0.05]\n",
    "T  = np.array([[np.cos(p[2]),-np.sin(p[2]),p[0]],[np.sin(p[2]), np.cos(p[2]),p[1]]])\n",
    "Tr = np.matrix(np.vstack((T,[0,0,1]))).A\n",
    "print(Tr)"
   ]
  },
  {
   "cell_type": "code",
   "execution_count": 60,
   "metadata": {},
   "outputs": [],
   "source": [
    "result = cv2.transform(np.array([data], copy=True).astype(np.float32), Tr)[0][:,:-1]"
   ]
  },
  {
   "cell_type": "code",
   "execution_count": 62,
   "metadata": {},
   "outputs": [
    {
     "name": "stdout",
     "output_type": "stream",
     "text": [
      "42.83999406936995\n"
     ]
    }
   ],
   "source": [
    "mse = mean_squared_error(result, b)\n",
    "print(mse)"
   ]
  },
  {
   "cell_type": "code",
   "execution_count": null,
   "metadata": {},
   "outputs": [],
   "source": []
  },
  {
   "cell_type": "code",
   "execution_count": 25,
   "metadata": {},
   "outputs": [
    {
     "data": {
      "text/plain": [
       "<module 'read_datasets' from '/home/xiaoyuz1/amazon_turk/read_datasets.py'>"
      ]
     },
     "execution_count": 25,
     "metadata": {},
     "output_type": "execute_result"
    }
   ],
   "source": [
    "reload(rd)"
   ]
  },
  {
   "cell_type": "code",
   "execution_count": 23,
   "metadata": {},
   "outputs": [
    {
     "name": "stdout",
     "output_type": "stream",
     "text": [
      "circle\n"
     ]
    }
   ],
   "source": [
    "data = strokes_spline_fitted[stroke_idx]\n",
    "print(M_name[(idx, stroke_idx)])\n",
    "\n",
    "template_func = rd.TEMPLATE_DICT[M_name[(idx, stroke_idx)]]"
   ]
  },
  {
   "cell_type": "code",
   "execution_count": 24,
   "metadata": {},
   "outputs": [],
   "source": [
    "projectiveM = M_arr[(idx, stroke_idx)]\n",
    "template = template_func(n)\n",
    "src_pts = template.astype(np.float32).reshape(-1,1,2)\n",
    "result = cv2.perspectiveTransform(src_pts, projectiveM.reshape(3,3)).reshape(-1,2)"
   ]
  },
  {
   "cell_type": "code",
   "execution_count": 77,
   "metadata": {},
   "outputs": [],
   "source": [
    "# calculate ourselves\n",
    "template_func = rd.TEMPLATE_DICT['semicircle']\n",
    "template = template_func(n)\n",
    "M, result = rd.get_transform(template, data, projective=True)"
   ]
  },
  {
   "cell_type": "code",
   "execution_count": 78,
   "metadata": {},
   "outputs": [
    {
     "data": {
      "text/plain": [
       "array([[  0.789 ,   9.6704, 308.4387],\n",
       "       [  4.6197,   3.5514, 828.5573],\n",
       "       [  0.0404,   0.0567,   1.    ]])"
      ]
     },
     "execution_count": 78,
     "metadata": {},
     "output_type": "execute_result"
    }
   ],
   "source": [
    "M"
   ]
  },
  {
   "cell_type": "code",
   "execution_count": 79,
   "metadata": {},
   "outputs": [
    {
     "name": "stdout",
     "output_type": "stream",
     "text": [
      "452.99542919978137\n"
     ]
    },
    {
     "data": {
      "image/png": "[encoded data removed]",
      "text/plain": [
       "<Figure size 432x432 with 1 Axes>"
      ]
     },
     "metadata": {
      "needs_background": "light"
     },
     "output_type": "display_data"
    }
   ],
   "source": [
    "mse = mean_squared_error(result, data)\n",
    "print(mse)\n",
    "\n",
    "datacolors = rd.get_sequence_colors(n, plt.cm.Greens)\n",
    "templatecolors = rd.get_sequence_colors(n, plt.cm.Reds)\n",
    "\n",
    "plt.figure(figsize=(6, 6))\n",
    "plt.scatter(result[:,0], result[:,1], label=\"transformed template\", s=1, \\\n",
    "            c=templatecolors)\n",
    "plt.scatter(data[:,0], data[:,1], label=\"data\", alpha=0.5, s=1, c=datacolors)\n",
    "\n",
    "# plt.scatter(result[:,0], result[:,1], label=\"transformed template\", s=1, c='r')\n",
    "# plt.scatter(data[:,0], data[:,1], label=\"data\", alpha=0.5, s=1, c='g')\n",
    "\n",
    "plt.legend()\n",
    "# plt.xlim(0,w)\n",
    "# plt.ylim(h,0)\n",
    "\n",
    "plt.show()"
   ]
  },
  {
   "cell_type": "code",
   "execution_count": 26,
   "metadata": {},
   "outputs": [
    {
     "data": {
      "image/png": "[encoded data removed]",
      "text/plain": [
       "<Figure size 432x288 with 1 Axes>"
      ]
     },
     "metadata": {
      "needs_background": "light"
     },
     "output_type": "display_data"
    },
    {
     "data": {
      "image/png": "[encoded data removed]",
      "text/plain": [
       "<Figure size 432x432 with 1 Axes>"
      ]
     },
     "metadata": {
      "needs_background": "light"
     },
     "output_type": "display_data"
    }
   ],
   "source": [
    "\n",
    "# template = rd.generate_arc(n1=200)\n",
    "template = rd.generate_circle(n1=200, radius=100, x0=100, y0=100, template_size=256)\n",
    "# template = rd.generate_square(n1 = 200, template_size=256)\n",
    "# plt.scatter(template[:,0], template[:,1])\n",
    "# plt.show()\n",
    "\n",
    "_ = rd.render_img(\n",
    "    [template], \n",
    "    show=True,\n",
    "    side=256,\n",
    "    line_diameter=1,\n",
    "    original_side = 256.,\n",
    ")\n",
    "\n",
    "# template[:,0] = template[:,0][::-1]\n",
    "# template[:,1] = template[:,1][::-1]\n",
    "\n",
    "\n",
    "plt.figure(figsize=(6,6))\n",
    "colors = rd.get_sequence_colors(len(template))\n",
    "plt.scatter(template[:,0], template[:,1], c = colors)\n",
    " \n",
    "plt.xlim(0,256)\n",
    "plt.ylim(256,0)\n",
    "plt.show()"
   ]
  },
  {
   "cell_type": "code",
   "execution_count": null,
   "metadata": {
    "scrolled": true
   },
   "outputs": [],
   "source": []
  },
  {
   "cell_type": "code",
   "execution_count": 3,
   "metadata": {},
   "outputs": [],
   "source": [
    "import cv2\n",
    "import numpy as np\n",
    "import sys\n",
    "from numpy.random import *"
   ]
  },
  {
   "cell_type": "code",
   "execution_count": 4,
   "metadata": {},
   "outputs": [],
   "source": [
    "def del_miss(indeces, dist, max_dist, th_rate = 0.8):\n",
    "    th_dist = max_dist * th_rate\n",
    "    return np.array([indeces[0][np.where(dist.T[0] < th_dist)]])\n"
   ]
  },
  {
   "cell_type": "code",
   "execution_count": 5,
   "metadata": {},
   "outputs": [],
   "source": [
    "def is_converge(Tr, scale):\n",
    "    delta_angle = 0.0001\n",
    "    delta_scale = scale * 0.0001\n",
    "    \n",
    "    min_cos = 1 - delta_angle\n",
    "    max_cos = 1 + delta_angle\n",
    "    min_sin = -delta_angle\n",
    "    max_sin = delta_angle\n",
    "    min_move = -delta_scale\n",
    "    max_move = delta_scale\n",
    "    \n",
    "    return min_cos < Tr[0, 0] and Tr[0, 0] < max_cos and \\\n",
    "           min_cos < Tr[1, 1] and Tr[1, 1] < max_cos and \\\n",
    "           min_sin < -Tr[1, 0] and -Tr[1, 0] < max_sin and \\\n",
    "           min_sin < Tr[0, 1] and Tr[0, 1] < max_sin and \\\n",
    "           min_move < Tr[0, 2] and Tr[0, 2] < max_move and \\\n",
    "           min_move < Tr[1, 2] and Tr[1, 2] < max_move"
   ]
  },
  {
   "cell_type": "code",
   "execution_count": 6,
   "metadata": {},
   "outputs": [],
   "source": [
    "def icp(d1, d2, max_iterate = 100):\n",
    "    src = np.array([d1.T], copy=True).astype(np.float32)\n",
    "    dst = np.array([d2.T], copy=True).astype(np.float32)\n",
    "    \n",
    "    knn = cv2.KNearest()\n",
    "    responses = np.array(range(len(d2[0]))).astype(np.float32)\n",
    "    knn.train(src[0], responses)\n",
    "        \n",
    "    Tr = np.array([[np.cos(0), -np.sin(0), 0],\n",
    "                   [np.sin(0), np.cos(0),  0],\n",
    "                   [0,         0,          1]])\n",
    "\n",
    "    dst = cv2.transform(dst, Tr[0:2])\n",
    "    max_dist = sys.maxint\n",
    "    \n",
    "    scale_x = np.max(d1[0]) - np.min(d1[0])\n",
    "    scale_y = np.max(d1[1]) - np.min(d1[1])\n",
    "    scale = max(scale_x, scale_y)\n",
    "       \n",
    "    for i in range(max_iterate):\n",
    "        ret, results, neighbours, dist = knn.find_nearest(dst[0], 1)\n",
    "        \n",
    "        indeces = results.astype(np.int32).T     \n",
    "        indeces = del_miss(indeces, dist, max_dist)  \n",
    "        \n",
    "        T = cv2.estimateRigidTransform(dst[0, indeces], src[0, indeces], True)\n",
    "\n",
    "        max_dist = np.max(dist)\n",
    "        dst = cv2.transform(dst, T)\n",
    "        Tr = np.dot(np.vstack((T,[0,0,1])), Tr)\n",
    "        \n",
    "        if (is_converge(T, scale)):\n",
    "            break\n",
    "        \n",
    "    return Tr[0:2]"
   ]
  },
  {
   "cell_type": "code",
   "execution_count": 15,
   "metadata": {},
   "outputs": [
    {
     "data": {
      "image/png": "[encoded data removed]",
      "text/plain": [
       "<matplotlib.figure.Figure at 0xb9d6bd0>"
      ]
     },
     "metadata": {},
     "output_type": "display_data"
    }
   ],
   "source": [
    "if __name__ == \"__main__\":\n",
    "    import matplotlib.pyplot as plt\n",
    "    \n",
    "    point_count = 100\n",
    "    th = np.pi / 8\n",
    "    move = np.array([[0.30], [0.5]])\n",
    "    rnd_scale = 0.03\n",
    "    x1 = np.linspace(0, 1.1, point_count)\n",
    "    y1 = np.sin(x1 * np.pi)\n",
    "    d1 = np.array([x1, y1])\n",
    "\n",
    "    rot = np.array([[np.cos(th), -np.sin(th)], [np.sin(th), np.cos(th)]])\n",
    "    rand = np.random.rand(2, point_count)*rnd_scale\n",
    "    d2 = np.dot(rot, d1) + move\n",
    "    d2 = np.add(d2, rand)\n",
    "\n",
    "    plt.plot(d1[0], d1[1])\n",
    "    plt.plot(d2[0], d2[1])\n",
    "    plt.show()"
   ]
  },
  {
   "cell_type": "code",
   "execution_count": 16,
   "metadata": {},
   "outputs": [
    {
     "data": {
      "image/png": "[encoded data removed]",
      "text/plain": [
       "<matplotlib.figure.Figure at 0xb6fda90>"
      ]
     },
     "metadata": {},
     "output_type": "display_data"
    },
    {
     "name": "stdout",
     "output_type": "stream",
     "text": [
      "1.00166826979\n",
      "22.6572180189\n",
      "22.7913494968\n",
      "[[ 0.92282598  0.3873764  -0.49228818]\n",
      " [-0.38870246  0.92493277 -0.35375819]]\n"
     ]
    }
   ],
   "source": [
    "    ret = icp(d1, d2)\n",
    "    \n",
    "    plt.plot(d1[0], d1[1])\n",
    "    dst = np.array([d2.T], copy=True).astype(np.float32)\n",
    "    dst = cv2.transform(dst, ret)\n",
    "    plt.plot(dst[0].T[0], dst[0].T[1])\n",
    "    plt.show()\n",
    "    \n",
    "    print ret[0][0] * ret[0][0] + ret[0][1] * ret[0][1]\n",
    "    print np.arccos(ret[0][0]) / 2 / np.pi * 360\n",
    "    print np.arcsin(ret[0][1]) / 2 / np.pi * 360\n",
    "\n",
    "    print ret"
   ]
  },
  {
   "cell_type": "code",
   "execution_count": null,
   "metadata": {},
   "outputs": [],
   "source": [
    "def icp(a, b,\n",
    "        max_time = 1\n",
    "    ):\n",
    "    import cv2\n",
    "    import numpy\n",
    "    import copy\n",
    "    import pylab\n",
    "    import time\n",
    "    import sys\n",
    "    import sklearn.neighbors\n",
    "    import scipy.optimize\n",
    "\n",
    "\n",
    "\n",
    "    def res(p,src,dst):\n",
    "        T = numpy.matrix([[numpy.cos(p[2]),-numpy.sin(p[2]),p[0]],\n",
    "        [numpy.sin(p[2]), numpy.cos(p[2]),p[1]],\n",
    "        [0 ,0 ,1 ]])\n",
    "        n = numpy.size(src,0)\n",
    "        xt = numpy.ones([n,3])\n",
    "        xt[:,:-1] = src\n",
    "        xt = (xt*T.T).A\n",
    "        d = numpy.zeros(numpy.shape(src))\n",
    "        d[:,0] = xt[:,0]-dst[:,0]\n",
    "        d[:,1] = xt[:,1]-dst[:,1]\n",
    "        r = numpy.sum(numpy.square(d[:,0])+numpy.square(d[:,1]))\n",
    "        return r\n",
    "\n",
    "    def jac(p,src,dst):\n",
    "        T = numpy.matrix([[numpy.cos(p[2]),-numpy.sin(p[2]),p[0]],\n",
    "        [numpy.sin(p[2]), numpy.cos(p[2]),p[1]],\n",
    "        [0 ,0 ,1 ]])\n",
    "        n = numpy.size(src,0)\n",
    "        xt = numpy.ones([n,3])\n",
    "        xt[:,:-1] = src\n",
    "        xt = (xt*T.T).A\n",
    "        d = numpy.zeros(numpy.shape(src))\n",
    "        d[:,0] = xt[:,0]-dst[:,0]\n",
    "        d[:,1] = xt[:,1]-dst[:,1]\n",
    "        dUdth_R = numpy.matrix([[-numpy.sin(p[2]),-numpy.cos(p[2])],\n",
    "                            [ numpy.cos(p[2]),-numpy.sin(p[2])]])\n",
    "        dUdth = (src*dUdth_R.T).A\n",
    "        g = numpy.array([  numpy.sum(2*d[:,0]),\n",
    "                        numpy.sum(2*d[:,1]),\n",
    "                        numpy.sum(2*(d[:,0]*dUdth[:,0]+d[:,1]*dUdth[:,1])) ])\n",
    "        return g\n",
    "    \n",
    "    def hess(p,src,dst):\n",
    "        n = numpy.size(src,0)\n",
    "        T = numpy.matrix([[numpy.cos(p[2]),-numpy.sin(p[2]),p[0]],\n",
    "        [numpy.sin(p[2]), numpy.cos(p[2]),p[1]],\n",
    "        [0 ,0 ,1 ]])\n",
    "        n = numpy.size(src,0)\n",
    "        xt = numpy.ones([n,3])\n",
    "        xt[:,:-1] = src\n",
    "        xt = (xt*T.T).A\n",
    "        d = numpy.zeros(numpy.shape(src))\n",
    "        d[:,0] = xt[:,0]-dst[:,0]\n",
    "        d[:,1] = xt[:,1]-dst[:,1]\n",
    "        dUdth_R = numpy.matrix([[-numpy.sin(p[2]),-numpy.cos(p[2])],[numpy.cos(p[2]),-numpy.sin(p[2])]])\n",
    "        dUdth = (src*dUdth_R.T).A\n",
    "        H = numpy.zeros([3,3])\n",
    "        H[0,0] = n*2\n",
    "        H[0,2] = numpy.sum(2*dUdth[:,0])\n",
    "        H[1,1] = n*2\n",
    "        H[1,2] = numpy.sum(2*dUdth[:,1])\n",
    "        H[2,0] = H[0,2]\n",
    "        H[2,1] = H[1,2]\n",
    "        d2Ud2th_R = numpy.matrix([[-numpy.cos(p[2]), numpy.sin(p[2])],[-numpy.sin(p[2]),-numpy.cos(p[2])]])\n",
    "        d2Ud2th = (src*d2Ud2th_R.T).A\n",
    "        H[2,2] = numpy.sum(2*(numpy.square(dUdth[:,0])+numpy.square(dUdth[:,1]) + d[:,0]*d2Ud2th[:,0]+d[:,0]*d2Ud2th[:,0]))\n",
    "        return H\n",
    "    \n",
    "    \n",
    "    t0 = time.time()\n",
    "    init_pose = (0,0,0)\n",
    "    src = numpy.array([a.T], copy=True).astype(numpy.float32)\n",
    "    dst = numpy.array([b.T], copy=True).astype(numpy.float32)\n",
    "    Tr = numpy.array([[numpy.cos(init_pose[2]),-numpy.sin(init_pose[2]),init_pose[0]],\n",
    "                   [numpy.sin(init_pose[2]), numpy.cos(init_pose[2]),init_pose[1]],\n",
    "                   [0,                    0,                   1          ]])\n",
    "    print(\"src\",numpy.shape(src))\n",
    "    print(\"Tr[0:2]\",numpy.shape(Tr[0:2]))\n",
    "    src = cv2.transform(src, Tr[0:2])\n",
    "    p_opt = numpy.array(init_pose)\n",
    "    T_opt = numpy.array([])\n",
    "    error_max = sys.maxsize\n",
    "    first = False\n",
    "    while not(first and time.time() - t0 > max_time):\n",
    "        distances, indices = sklearn.neighbors.NearestNeighbors(n_neighbors=1, algorithm='auto',p = 3).fit(dst[0]).kneighbors(src[0])\n",
    "        p = scipy.optimize.minimize(res,[0,0,0],args=(src[0],dst[0, indices.T][0]),method='Newton-CG',jac=jac,hess=hess).x\n",
    "        T  = numpy.array([[numpy.cos(p[2]),-numpy.sin(p[2]),p[0]],[numpy.sin(p[2]), numpy.cos(p[2]),p[1]]])\n",
    "        p_opt[:2]  = (p_opt[:2]*numpy.matrix(T[:2,:2]).T).A       \n",
    "        p_opt[0] += p[0]\n",
    "        p_opt[1] += p[1]\n",
    "        p_opt[2] += p[2]\n",
    "        src = cv2.transform(src, T)\n",
    "        Tr = (numpy.matrix(numpy.vstack((T,[0,0,1])))*numpy.matrix(Tr)).A\n",
    "        error = res([0,0,0],src[0],dst[0, indices.T][0])\n",
    "\n",
    "        if error < error_max:\n",
    "            error_max = error\n",
    "            first = True\n",
    "            T_opt = Tr\n",
    "\n",
    "    p_opt[2] = p_opt[2] % (2*numpy.pi)\n",
    "    return T_opt, error_max\n",
    "\n",
    "\n",
    "def main():\n",
    "    import cv2\n",
    "    import numpy\n",
    "    import random\n",
    "    import matplotlib.pyplot\n",
    "    n1 = 100\n",
    "    n2 = 75\n",
    "    bruit = 1/10\n",
    "    center = [random.random()*(2-1)*3,random.random()*(2-1)*3]\n",
    "    radius = random.random()\n",
    "    deformation = 2\n",
    "\n",
    "    template = numpy.array([\n",
    "        [numpy.cos(i*2*numpy.pi/n1)*radius*deformation for i in range(n1)], \n",
    "        [numpy.sin(i*2*numpy.pi/n1)*radius for i in range(n1)]\n",
    "    ])\n",
    "\n",
    "    data = numpy.array([\n",
    "        [numpy.cos(i*2*numpy.pi/n2)*radius*(1+random.random()*bruit)+center[0] for i in range(n2)], \n",
    "        [numpy.sin(i*2*numpy.pi/n2)*radius*deformation*(1+random.random()*bruit)+center[1] for i in range(n2)]\n",
    "    ])\n",
    "\n",
    "    T,error = icp(data,template)\n",
    "    dx = T[0,2]\n",
    "    dy = T[1,2]\n",
    "    rotation = numpy.arcsin(T[0,1]) * 360 / 2 / numpy.pi\n",
    "\n",
    "    print(\"T\",T)\n",
    "    print(\"error\",error)\n",
    "    print(\"rotation°\",rotation)\n",
    "    print(\"dx\",dx)\n",
    "    print(\"dy\",dy)\n",
    "\n",
    "    result = cv2.transform(numpy.array([data.T], copy=True).astype(numpy.float32), T).T\n",
    "    matplotlib.pyplot.plot(template[0], template[1], label=\"template\")\n",
    "    matplotlib.pyplot.plot(data[0], data[1], label=\"data\")\n",
    "    matplotlib.pyplot.plot(result[0], result[1], label=\"result: \"+str(rotation)+\"° - \"+str([dx,dy]))\n",
    "    matplotlib.pyplot.legend(loc=\"upper left\")\n",
    "    matplotlib.pyplot.axis('square')\n",
    "    matplotlib.pyplot.show()\n",
    "\n",
    "if __name__ == \"__main__\":\n",
    "    main()"
   ]
  }
 ],
 "metadata": {
  "kernelspec": {
   "display_name": "clipdraw",
   "language": "python",
   "name": "clipdraw"
  },
  "language_info": {
   "codemirror_mode": {
    "name": "ipython",
    "version": 3
   },
   "file_extension": ".py",
   "mimetype": "text/x-python",
   "name": "python",
   "nbconvert_exporter": "python",
   "pygments_lexer": "ipython3",
   "version": "3.8.12"
  }
 },
 "nbformat": 4,
 "nbformat_minor": 1
}
