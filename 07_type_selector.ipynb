{
 "cells": [
  {
   "cell_type": "code",
   "execution_count": 1,
   "metadata": {},
   "outputs": [],
   "source": [
    "import numpy as np\n",
    "import torch\n",
    "from torch import nn\n",
    "from torch.utils import data\n",
    "import torch.nn.functional as F\n",
    "\n",
    "from torch.optim import Adam\n",
    "\n",
    "import torchvision"
   ]
  },
  {
   "cell_type": "code",
   "execution_count": 5,
   "metadata": {},
   "outputs": [],
   "source": [
    "from math import floor, log2"
   ]
  },
  {
   "cell_type": "markdown",
   "metadata": {},
   "source": [
    "Generate each part as a sequence of strokes. \n",
    "\n",
    "Condition on \n",
    "    (1) image features of a canvas with previous parts \n",
    "    (2) sentence features\n",
    "   \n",
    "Image features: CNN-based architecture. (ResNet, DoodlerGAN encoder)"
   ]
  },
  {
   "cell_type": "code",
   "execution_count": 2,
   "metadata": {},
   "outputs": [],
   "source": [
    "class ClassifierBlock(nn.Module):\n",
    "    def __init__(self, input_channels, filters, downsample=True):\n",
    "        super().__init__()\n",
    "        self.conv_res = nn.Conv2d(input_channels, filters, 1)\n",
    "\n",
    "        self.net = nn.Sequential(\n",
    "            nn.Conv2d(input_channels, filters, 3, padding=1),\n",
    "            leaky_relu(),\n",
    "            nn.Conv2d(filters, filters, 3, padding=1),\n",
    "            leaky_relu()\n",
    "        )\n",
    "\n",
    "        self.downsample = nn.Conv2d(filters, filters, 3, padding = 1, stride = 2) if downsample else None\n",
    "\n",
    "    def forward(self, x):\n",
    "        res = self.conv_res(x)\n",
    "        x = self.net(x)\n",
    "        x = x + res\n",
    "        if self.downsample is not None:\n",
    "            x = self.downsample(x)\n",
    "        return x"
   ]
  },
  {
   "cell_type": "code",
   "execution_count": 13,
   "metadata": {},
   "outputs": [],
   "source": [
    "image_size = 64\n",
    "network_capacity = 16\n",
    "n_part = 7"
   ]
  },
  {
   "cell_type": "code",
   "execution_count": 14,
   "metadata": {},
   "outputs": [],
   "source": [
    "num_layers = int(log2(image_size) - 1)\n",
    "num_init_filters = n_part\n",
    "\n",
    "blocks = []\n",
    "filters = [num_init_filters] + [(network_capacity) * (2 ** i) for i in range(num_layers+1)]\n",
    "chan_in_out = list(zip(filters[0:-1], filters[1:]))"
   ]
  },
  {
   "cell_type": "code",
   "execution_count": 15,
   "metadata": {},
   "outputs": [],
   "source": [
    "def leaky_relu(p=0.2):\n",
    "    return nn.LeakyReLU(p, inplace=True)"
   ]
  },
  {
   "cell_type": "code",
   "execution_count": 16,
   "metadata": {},
   "outputs": [],
   "source": [
    "for ind, (in_chan, out_chan) in enumerate(chan_in_out):\n",
    "    num_layer = ind + 1\n",
    "    is_not_last = ind < (len(chan_in_out) - 1)\n",
    "    block = ClassifierBlock(in_chan, out_chan, downsample = is_not_last)\n",
    "    blocks.append(block)\n",
    "\n",
    "blocks = nn.ModuleList(blocks)"
   ]
  },
  {
   "cell_type": "code",
   "execution_count": 17,
   "metadata": {
    "scrolled": true
   },
   "outputs": [
    {
     "data": {
      "text/plain": [
       "ModuleList(\n",
       "  (0): ClassifierBlock(\n",
       "    (conv_res): Conv2d(7, 16, kernel_size=(1, 1), stride=(1, 1))\n",
       "    (net): Sequential(\n",
       "      (0): Conv2d(7, 16, kernel_size=(3, 3), stride=(1, 1), padding=(1, 1))\n",
       "      (1): LeakyReLU(negative_slope=0.2, inplace=True)\n",
       "      (2): Conv2d(16, 16, kernel_size=(3, 3), stride=(1, 1), padding=(1, 1))\n",
       "      (3): LeakyReLU(negative_slope=0.2, inplace=True)\n",
       "    )\n",
       "    (downsample): Conv2d(16, 16, kernel_size=(3, 3), stride=(2, 2), padding=(1, 1))\n",
       "  )\n",
       "  (1): ClassifierBlock(\n",
       "    (conv_res): Conv2d(16, 32, kernel_size=(1, 1), stride=(1, 1))\n",
       "    (net): Sequential(\n",
       "      (0): Conv2d(16, 32, kernel_size=(3, 3), stride=(1, 1), padding=(1, 1))\n",
       "      (1): LeakyReLU(negative_slope=0.2, inplace=True)\n",
       "      (2): Conv2d(32, 32, kernel_size=(3, 3), stride=(1, 1), padding=(1, 1))\n",
       "      (3): LeakyReLU(negative_slope=0.2, inplace=True)\n",
       "    )\n",
       "    (downsample): Conv2d(32, 32, kernel_size=(3, 3), stride=(2, 2), padding=(1, 1))\n",
       "  )\n",
       "  (2): ClassifierBlock(\n",
       "    (conv_res): Conv2d(32, 64, kernel_size=(1, 1), stride=(1, 1))\n",
       "    (net): Sequential(\n",
       "      (0): Conv2d(32, 64, kernel_size=(3, 3), stride=(1, 1), padding=(1, 1))\n",
       "      (1): LeakyReLU(negative_slope=0.2, inplace=True)\n",
       "      (2): Conv2d(64, 64, kernel_size=(3, 3), stride=(1, 1), padding=(1, 1))\n",
       "      (3): LeakyReLU(negative_slope=0.2, inplace=True)\n",
       "    )\n",
       "    (downsample): Conv2d(64, 64, kernel_size=(3, 3), stride=(2, 2), padding=(1, 1))\n",
       "  )\n",
       "  (3): ClassifierBlock(\n",
       "    (conv_res): Conv2d(64, 128, kernel_size=(1, 1), stride=(1, 1))\n",
       "    (net): Sequential(\n",
       "      (0): Conv2d(64, 128, kernel_size=(3, 3), stride=(1, 1), padding=(1, 1))\n",
       "      (1): LeakyReLU(negative_slope=0.2, inplace=True)\n",
       "      (2): Conv2d(128, 128, kernel_size=(3, 3), stride=(1, 1), padding=(1, 1))\n",
       "      (3): LeakyReLU(negative_slope=0.2, inplace=True)\n",
       "    )\n",
       "    (downsample): Conv2d(128, 128, kernel_size=(3, 3), stride=(2, 2), padding=(1, 1))\n",
       "  )\n",
       "  (4): ClassifierBlock(\n",
       "    (conv_res): Conv2d(128, 256, kernel_size=(1, 1), stride=(1, 1))\n",
       "    (net): Sequential(\n",
       "      (0): Conv2d(128, 256, kernel_size=(3, 3), stride=(1, 1), padding=(1, 1))\n",
       "      (1): LeakyReLU(negative_slope=0.2, inplace=True)\n",
       "      (2): Conv2d(256, 256, kernel_size=(3, 3), stride=(1, 1), padding=(1, 1))\n",
       "      (3): LeakyReLU(negative_slope=0.2, inplace=True)\n",
       "    )\n",
       "    (downsample): Conv2d(256, 256, kernel_size=(3, 3), stride=(2, 2), padding=(1, 1))\n",
       "  )\n",
       "  (5): ClassifierBlock(\n",
       "    (conv_res): Conv2d(256, 512, kernel_size=(1, 1), stride=(1, 1))\n",
       "    (net): Sequential(\n",
       "      (0): Conv2d(256, 512, kernel_size=(3, 3), stride=(1, 1), padding=(1, 1))\n",
       "      (1): LeakyReLU(negative_slope=0.2, inplace=True)\n",
       "      (2): Conv2d(512, 512, kernel_size=(3, 3), stride=(1, 1), padding=(1, 1))\n",
       "      (3): LeakyReLU(negative_slope=0.2, inplace=True)\n",
       "    )\n",
       "  )\n",
       ")"
      ]
     },
     "execution_count": 17,
     "metadata": {},
     "output_type": "execute_result"
    }
   ],
   "source": [
    "blocks"
   ]
  },
  {
   "cell_type": "code",
   "execution_count": null,
   "metadata": {},
   "outputs": [],
   "source": []
  }
 ],
 "metadata": {
  "kernelspec": {
   "display_name": "clipdraw",
   "language": "python",
   "name": "clipdraw"
  },
  "language_info": {
   "codemirror_mode": {
    "name": "ipython",
    "version": 3
   },
   "file_extension": ".py",
   "mimetype": "text/x-python",
   "name": "python",
   "nbconvert_exporter": "python",
   "pygments_lexer": "ipython3",
   "version": "3.8.12"
  }
 },
 "nbformat": 4,
 "nbformat_minor": 4
}
