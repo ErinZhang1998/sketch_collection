{
 "cells": [
  {
   "cell_type": "code",
   "execution_count": 1,
   "metadata": {},
   "outputs": [],
   "source": [
    "import seaborn as sns\n",
    "import numpy as np\n",
    "import pandas as pd\n",
    "import os\n",
    "import json\n",
    "import matplotlib.pyplot as plt\n",
    "import PIL\n",
    "import read_datasets as rd\n",
    "import constants as CONST\n",
    "from importlib import reload\n",
    "reload(rd)\n",
    "reload(CONST)\n",
    "import base64\n",
    "import pickle\n",
    "import collections\n",
    "import itertools, collections\n",
    "from sklearn.metrics import mean_squared_error\n",
    "import cv2 "
   ]
  },
  {
   "cell_type": "code",
   "execution_count": 2,
   "metadata": {},
   "outputs": [],
   "source": [
    "import torch"
   ]
  },
  {
   "cell_type": "code",
   "execution_count": 3,
   "metadata": {},
   "outputs": [],
   "source": [
    "np.set_printoptions(precision=4, suppress=True)"
   ]
  },
  {
   "cell_type": "code",
   "execution_count": 10,
   "metadata": {},
   "outputs": [],
   "source": [
    "w = h = 64\n",
    "TEMPLATE_DICT = {\n",
    "    'arc' : lambda n : rd.generate_arc(n1=n, radius=100, x0=100, y0=100, template_size=w),\n",
    "    'circle' : lambda n : rd.generate_circle(n1=n, radius=100, x0=100, y0=100, template_size=w),\n",
    "    'square' : lambda n : rd.generate_square(n1=n, template_size=w),\n",
    "    'semicircle' : lambda n : rd.generate_semicircle(n1=n, radius=100, x0=100, y0=100, template_size=w),\n",
    "    'zigzag3' : lambda n : rd.generate_zigzag3(n1=n, template_size=w),\n",
    "    'zigzag1' : lambda n : rd.generate_zigzag1(n1=n, template_size=w),\n",
    "}"
   ]
  },
  {
   "cell_type": "code",
   "execution_count": 11,
   "metadata": {
    "scrolled": false
   },
   "outputs": [
    {
     "data": {
      "image/png": "[encoded data removed]",
      "text/plain": [
       "<Figure size 432x648 with 6 Axes>"
      ]
     },
     "metadata": {},
     "output_type": "display_data"
    }
   ],
   "source": [
    "n=200\n",
    "num_pngs_per_row = 2\n",
    "row_figsize = 3\n",
    "column_figsize = 3\n",
    "\n",
    "num_rows = len(TEMPLATE_DICT) // num_pngs_per_row\n",
    "if num_rows * num_pngs_per_row < len(TEMPLATE_DICT):\n",
    "    num_rows += 1\n",
    "\n",
    "fig = plt.figure(figsize=(num_pngs_per_row * row_figsize, num_rows * column_figsize)) \n",
    "fig.patch.set_alpha(1)  # solution\n",
    "\n",
    "for index, (template_name, template_func) in enumerate(TEMPLATE_DICT.items()):\n",
    "    template = template_func(n)\n",
    "\n",
    "    plt.subplot(num_rows, num_pngs_per_row, index+1)\n",
    "    plt.scatter(template[:,0], template[:,1], s=1, c='r')\n",
    "    plt.title(template_name)\n",
    "    # plt.axis('off')\n",
    "    plt.xlim(0,w)\n",
    "    plt.ylim(h,0)\n",
    "\n",
    "plt.show()\n",
    "plt.close()"
   ]
  },
  {
   "cell_type": "code",
   "execution_count": 22,
   "metadata": {},
   "outputs": [],
   "source": [
    "drawing_arr = CONST.face_json['train_data']\n",
    "n = 200\n",
    "h,w = 256,256"
   ]
  },
  {
   "cell_type": "code",
   "execution_count": 7,
   "metadata": {},
   "outputs": [],
   "source": [
    "# reload(rd)\n",
    "# prim = rd.generate_zigzag3()\n",
    "# # prim = rd.interpcurve(200, prim[:,0], prim[:,1])\n",
    "# # np.sqrt(np.sum((prim[1:]-prim[:-1])**2,axis=1)) \n",
    "\n",
    "# plt.figure(figsize=(12,12))\n",
    "# plt.scatter(prim[:,0], prim[:,1], s=1, c='r')\n",
    "# h,w = 256,256\n",
    "# plt.xlim(0,w)\n",
    "# plt.ylim(h,0)\n",
    "# plt.show()"
   ]
  },
  {
   "cell_type": "code",
   "execution_count": null,
   "metadata": {},
   "outputs": [],
   "source": [
    "from tqdm import tqdm\n",
    "\n",
    "use_projective = True\n",
    "\n",
    "M_arr = collections.defaultdict(lambda : np.zeros(9))\n",
    "M_name = collections.defaultdict(lambda : \" \")\n",
    "M_mse = collections.defaultdict(float)\n",
    "\n",
    "b_spline_num_sampled_points = n\n",
    "\n",
    "for idx in tqdm(range(len(drawing_arr))):\n",
    "    strokes_spline_fitted = rd.process_quickdraw_to_stroke_no_normalize(\n",
    "        drawing_arr[idx], \n",
    "        b_spline_num_sampled_points=200,\n",
    "    )\n",
    "    \n",
    "    for stroke_index, data in enumerate(strokes_spline_fitted):\n",
    "        \n",
    "        mat, prim_name, prim_mse = rd.get_transform_smallest_mse(\n",
    "            data, rd.TEMPLATE_DICT, n=200, use_projective=True\n",
    "        )\n",
    "        M_arr[(idx, stroke_index)] = mat\n",
    "        M_name[(idx, stroke_index)] = prim_name\n",
    "        M_mse[(idx, stroke_index)] = prim_mse\n",
    "        \n",
    "#         min_template_name, min_template_mse = None, np.inf\n",
    "#         min_M = None\n",
    "#         for template_name, template_func in rd.TEMPLATE_DICT.items():\n",
    "#             template = template_func(n)\n",
    "#             try:\n",
    "#                 M, result = rd.get_transform(template, data, projective=use_projective)\n",
    "#             except:\n",
    "#                 try:\n",
    "#                     mask = np.zeros(len(data))\n",
    "#                     mask[:20] = 1\n",
    "#                     np.random.shuffle(mask)\n",
    "#                     data = data + (np.random.normal(0, 0.05, len(data)) * mask).reshape(-1,1)\n",
    "#                     M, result = rd.get_transform(template, data, projective=use_projective)\n",
    "#                 except:\n",
    "#                     continue\n",
    "#             mse = rd.mean_squared_error(result, data)\n",
    "#             if mse < min_template_mse:\n",
    "#                 min_template_name = template_name\n",
    "#                 min_template_mse = mse\n",
    "#                 min_M = M\n",
    "#         if min_M is None:\n",
    "#             M_arr[(idx, stroke_index)] = np.zeros(9)\n",
    "#             M_name[(idx, stroke_index)] = 'line'\n",
    "#             M_mse[(idx, stroke_index)] = min_template_mse\n",
    "#         else:\n",
    "#             M_arr[(idx, stroke_index)] = min_M.reshape(-1,)\n",
    "#             M_name[(idx, stroke_index)] = min_template_name\n",
    "#             M_mse[(idx, stroke_index)] = min_template_mse\n",
    "\n",
    "        \n",
    "with open('/raid/xiaoyuz1/SPG_Angel_256_projective_mse.pkl', \"wb+\") as f:\n",
    "    pickle.dump((dict(M_arr), dict(M_name), dict(M_mse)), f)"
   ]
  },
  {
   "cell_type": "code",
   "execution_count": 6,
   "metadata": {},
   "outputs": [
    {
     "name": "stdout",
     "output_type": "stream",
     "text": [
      "0 {}\n"
     ]
    }
   ],
   "source": [
    "line_dict = dict(filter(lambda x: x[1] == 'line', M_name.items()))\n",
    "print(len(line_dict), line_dict)"
   ]
  },
  {
   "cell_type": "code",
   "execution_count": null,
   "metadata": {},
   "outputs": [],
   "source": []
  },
  {
   "cell_type": "code",
   "execution_count": 12,
   "metadata": {},
   "outputs": [],
   "source": [
    "M_arr, M_name = None,None\n",
    "M_mse = None\n",
    "with open('/raid/xiaoyuz1/SPG_Face_256_projective_mse.pkl', \"rb\") as f:\n",
    "    M_arr, M_name, M_mse = pickle.load(f)"
   ]
  },
  {
   "cell_type": "code",
   "execution_count": 13,
   "metadata": {},
   "outputs": [],
   "source": [
    "import math"
   ]
  },
  {
   "cell_type": "code",
   "execution_count": 14,
   "metadata": {},
   "outputs": [
    {
     "data": {
      "text/plain": [
       "29.198029288050922"
      ]
     },
     "execution_count": 14,
     "metadata": {},
     "output_type": "execute_result"
    }
   ],
   "source": [
    "mse_l = list(filter(lambda x: not math.isinf(x), list(M_mse.values())))\n",
    "np.mean(mse_l)"
   ]
  },
  {
   "cell_type": "code",
   "execution_count": null,
   "metadata": {},
   "outputs": [],
   "source": []
  },
  {
   "cell_type": "code",
   "execution_count": 15,
   "metadata": {
    "scrolled": true
   },
   "outputs": [],
   "source": [
    "image_list = list(map(lambda x: x[0], M_name.keys()))\n",
    "stroke_list = list(map(lambda x: x[1], M_name.keys()))\n",
    "arr_list = list(M_arr.values())\n",
    "name_list = list(M_name.values())\n",
    "mse_list = list(M_mse.values())\n",
    "\n",
    "data = {'image': image_list, 'stroke' : stroke_list, 'M' : arr_list, 'primitive' : name_list, 'mse' : mse_list}\n",
    "df = pd.DataFrame.from_dict(data)"
   ]
  },
  {
   "cell_type": "code",
   "execution_count": 16,
   "metadata": {},
   "outputs": [],
   "source": [
    "dfa = df[df.mse.apply(lambda x: not math.isinf(x))]"
   ]
  },
  {
   "cell_type": "code",
   "execution_count": 17,
   "metadata": {},
   "outputs": [
    {
     "name": "stdout",
     "output_type": "stream",
     "text": [
      "4799\n"
     ]
    }
   ],
   "source": [
    "print(len(dfa))"
   ]
  },
  {
   "cell_type": "code",
   "execution_count": 18,
   "metadata": {},
   "outputs": [
    {
     "data": {
      "text/plain": [
       "array(['circle', 'arc', 'zigzag1', 'square', 'semicircle', 'zigzag3'],\n",
       "      dtype=object)"
      ]
     },
     "execution_count": 18,
     "metadata": {},
     "output_type": "execute_result"
    }
   ],
   "source": [
    "dfa.primitive.unique()"
   ]
  },
  {
   "cell_type": "code",
   "execution_count": 19,
   "metadata": {},
   "outputs": [
    {
     "data": {
      "text/html": [
       "<div>\n",
       "<style scoped>\n",
       "    .dataframe tbody tr th:only-of-type {\n",
       "        vertical-align: middle;\n",
       "    }\n",
       "\n",
       "    .dataframe tbody tr th {\n",
       "        vertical-align: top;\n",
       "    }\n",
       "\n",
       "    .dataframe thead th {\n",
       "        text-align: right;\n",
       "    }\n",
       "</style>\n",
       "<table border=\"1\" class=\"dataframe\">\n",
       "  <thead>\n",
       "    <tr style=\"text-align: right;\">\n",
       "      <th></th>\n",
       "      <th>image</th>\n",
       "      <th>stroke</th>\n",
       "      <th>M</th>\n",
       "      <th>primitive</th>\n",
       "      <th>mse</th>\n",
       "    </tr>\n",
       "  </thead>\n",
       "  <tbody>\n",
       "    <tr>\n",
       "      <th>0</th>\n",
       "      <td>0</td>\n",
       "      <td>0</td>\n",
       "      <td>[-0.45756674413275644, -0.6650365591261901, 27...</td>\n",
       "      <td>circle</td>\n",
       "      <td>30.315444</td>\n",
       "    </tr>\n",
       "    <tr>\n",
       "      <th>1</th>\n",
       "      <td>0</td>\n",
       "      <td>1</td>\n",
       "      <td>[0.34003511941727804, -0.16647467813936273, 10...</td>\n",
       "      <td>circle</td>\n",
       "      <td>16.541064</td>\n",
       "    </tr>\n",
       "    <tr>\n",
       "      <th>2</th>\n",
       "      <td>0</td>\n",
       "      <td>2</td>\n",
       "      <td>[0.28550124690610057, -0.05812930820612069, 20...</td>\n",
       "      <td>circle</td>\n",
       "      <td>57.927720</td>\n",
       "    </tr>\n",
       "    <tr>\n",
       "      <th>4</th>\n",
       "      <td>1</td>\n",
       "      <td>0</td>\n",
       "      <td>[0.07426618644942073, -0.7638244586723916, 209...</td>\n",
       "      <td>circle</td>\n",
       "      <td>158.619724</td>\n",
       "    </tr>\n",
       "    <tr>\n",
       "      <th>7</th>\n",
       "      <td>1</td>\n",
       "      <td>3</td>\n",
       "      <td>[0.19429706094749774, -0.30443076333717334, 13...</td>\n",
       "      <td>square</td>\n",
       "      <td>68.302203</td>\n",
       "    </tr>\n",
       "    <tr>\n",
       "      <th>...</th>\n",
       "      <td>...</td>\n",
       "      <td>...</td>\n",
       "      <td>...</td>\n",
       "      <td>...</td>\n",
       "      <td>...</td>\n",
       "    </tr>\n",
       "    <tr>\n",
       "      <th>4786</th>\n",
       "      <td>798</td>\n",
       "      <td>8</td>\n",
       "      <td>[0.14625424143103427, 0.6449338460600859, 78.5...</td>\n",
       "      <td>arc</td>\n",
       "      <td>65.385676</td>\n",
       "    </tr>\n",
       "    <tr>\n",
       "      <th>4787</th>\n",
       "      <td>798</td>\n",
       "      <td>9</td>\n",
       "      <td>[0.12858086223918394, -0.21458547292413488, 11...</td>\n",
       "      <td>semicircle</td>\n",
       "      <td>18.705722</td>\n",
       "    </tr>\n",
       "    <tr>\n",
       "      <th>4793</th>\n",
       "      <td>799</td>\n",
       "      <td>0</td>\n",
       "      <td>[0.17507131867447648, -0.4479608535644788, 124...</td>\n",
       "      <td>circle</td>\n",
       "      <td>25.281218</td>\n",
       "    </tr>\n",
       "    <tr>\n",
       "      <th>4797</th>\n",
       "      <td>799</td>\n",
       "      <td>4</td>\n",
       "      <td>[0.15225883166167298, -0.03110723947371908, 17...</td>\n",
       "      <td>zigzag1</td>\n",
       "      <td>131.915748</td>\n",
       "    </tr>\n",
       "    <tr>\n",
       "      <th>4798</th>\n",
       "      <td>799</td>\n",
       "      <td>5</td>\n",
       "      <td>[1.1970835355412257, 0.10105499539595843, 55.1...</td>\n",
       "      <td>zigzag1</td>\n",
       "      <td>94.107524</td>\n",
       "    </tr>\n",
       "  </tbody>\n",
       "</table>\n",
       "<p>1122 rows × 5 columns</p>\n",
       "</div>"
      ],
      "text/plain": [
       "      image  stroke                                                  M  \\\n",
       "0         0       0  [-0.45756674413275644, -0.6650365591261901, 27...   \n",
       "1         0       1  [0.34003511941727804, -0.16647467813936273, 10...   \n",
       "2         0       2  [0.28550124690610057, -0.05812930820612069, 20...   \n",
       "4         1       0  [0.07426618644942073, -0.7638244586723916, 209...   \n",
       "7         1       3  [0.19429706094749774, -0.30443076333717334, 13...   \n",
       "...     ...     ...                                                ...   \n",
       "4786    798       8  [0.14625424143103427, 0.6449338460600859, 78.5...   \n",
       "4787    798       9  [0.12858086223918394, -0.21458547292413488, 11...   \n",
       "4793    799       0  [0.17507131867447648, -0.4479608535644788, 124...   \n",
       "4797    799       4  [0.15225883166167298, -0.03110723947371908, 17...   \n",
       "4798    799       5  [1.1970835355412257, 0.10105499539595843, 55.1...   \n",
       "\n",
       "       primitive         mse  \n",
       "0         circle   30.315444  \n",
       "1         circle   16.541064  \n",
       "2         circle   57.927720  \n",
       "4         circle  158.619724  \n",
       "7         square   68.302203  \n",
       "...          ...         ...  \n",
       "4786         arc   65.385676  \n",
       "4787  semicircle   18.705722  \n",
       "4793      circle   25.281218  \n",
       "4797     zigzag1  131.915748  \n",
       "4798     zigzag1   94.107524  \n",
       "\n",
       "[1122 rows x 5 columns]"
      ]
     },
     "execution_count": 19,
     "metadata": {},
     "output_type": "execute_result"
    }
   ],
   "source": [
    "dfa[dfa['mse'] >= 10]"
   ]
  },
  {
   "cell_type": "code",
   "execution_count": 26,
   "metadata": {},
   "outputs": [],
   "source": [
    "idx = 200\n",
    "stroke_idx = 1"
   ]
  },
  {
   "cell_type": "code",
   "execution_count": 27,
   "metadata": {},
   "outputs": [
    {
     "data": {
      "image/png": "[encoded data removed]",
      "text/plain": [
       "<Figure size 1728x288 with 1 Axes>"
      ]
     },
     "metadata": {},
     "output_type": "display_data"
    },
    {
     "name": "stdout",
     "output_type": "stream",
     "text": [
      "5\n"
     ]
    }
   ],
   "source": [
    "# print(dict(filter(lambda x: x[0][0] == idx, M_name.items())))\n",
    "\n",
    "rd.show_these_sketches(\n",
    "    CONST.face_json,\n",
    "    [idx], \n",
    "    [str(idx)], \n",
    "    [[]], \n",
    "    num_pngs_per_row = 6,\n",
    "    row_figsize = 4,\n",
    "    column_figsize = 4,\n",
    ")\n",
    "\n",
    "strokes_spline_fitted = rd.process_quickdraw_to_stroke_no_normalize(\n",
    "    drawing_arr[idx], \n",
    "    b_spline_num_sampled_points=200,\n",
    ")\n",
    "print(len(strokes_spline_fitted))"
   ]
  },
  {
   "cell_type": "code",
   "execution_count": 28,
   "metadata": {},
   "outputs": [
    {
     "data": {
      "image/png": "[encoded data removed]",
      "text/plain": [
       "<Figure size 864x432 with 2 Axes>"
      ]
     },
     "metadata": {
      "needs_background": "light"
     },
     "output_type": "display_data"
    }
   ],
   "source": [
    "f, (ax1, ax2) = plt.subplots(1, 2, figsize=(12, 6))\n",
    "\n",
    "for index, entry in dfa[dfa.image == idx].iterrows():\n",
    "    data = strokes_spline_fitted[entry.stroke]\n",
    "    template_func = rd.TEMPLATE_DICT[entry.primitive]\n",
    "    template = template_func(n)\n",
    "    \n",
    "    result, mse = rd.get_transformed_template(template, data, entry.M.reshape(3,3),projective=True)\n",
    "#     ax1.plot(result[:,0], result[:,1], label=\"transformed template\", s=1, c='r')\n",
    "#     ax2.plot(data[:,0], data[:,1], label=\"data\", alpha=0.5, s=1, c='g')\n",
    "    \n",
    "    ax1.plot(result[:,0], result[:,1], label=\"transformed template\", c='r')\n",
    "    ax2.plot(data[:,0], data[:,1], label=\"data\", alpha=0.5,c='g')\n",
    "\n",
    "# plt.legend()\n",
    "# plt.xlim(0,w)\n",
    "# plt.ylim(h,0)\n",
    "\n",
    "ax1.axis(xmin=0,xmax=w)\n",
    "ax1.axis(ymin=h,ymax=0)\n",
    "\n",
    "ax2.axis(xmin=0,xmax=w)\n",
    "ax2.axis(ymin=h,ymax=0)\n",
    "\n",
    "plt.show()"
   ]
  },
  {
   "cell_type": "code",
   "execution_count": 25,
   "metadata": {},
   "outputs": [
    {
     "data": {
      "text/html": [
       "<div>\n",
       "<style scoped>\n",
       "    .dataframe tbody tr th:only-of-type {\n",
       "        vertical-align: middle;\n",
       "    }\n",
       "\n",
       "    .dataframe tbody tr th {\n",
       "        vertical-align: top;\n",
       "    }\n",
       "\n",
       "    .dataframe thead th {\n",
       "        text-align: right;\n",
       "    }\n",
       "</style>\n",
       "<table border=\"1\" class=\"dataframe\">\n",
       "  <thead>\n",
       "    <tr style=\"text-align: right;\">\n",
       "      <th></th>\n",
       "      <th>image</th>\n",
       "      <th>stroke</th>\n",
       "      <th>M</th>\n",
       "      <th>primitive</th>\n",
       "      <th>mse</th>\n",
       "    </tr>\n",
       "  </thead>\n",
       "  <tbody>\n",
       "    <tr>\n",
       "      <th>4</th>\n",
       "      <td>1</td>\n",
       "      <td>0</td>\n",
       "      <td>[0.07426618644942073, -0.7638244586723916, 209...</td>\n",
       "      <td>circle</td>\n",
       "      <td>158.619724</td>\n",
       "    </tr>\n",
       "    <tr>\n",
       "      <th>5</th>\n",
       "      <td>1</td>\n",
       "      <td>1</td>\n",
       "      <td>[0.02277092619178832, 0.002682955158747209, 65...</td>\n",
       "      <td>zigzag1</td>\n",
       "      <td>0.004116</td>\n",
       "    </tr>\n",
       "    <tr>\n",
       "      <th>6</th>\n",
       "      <td>1</td>\n",
       "      <td>2</td>\n",
       "      <td>[0.06515558285921869, -0.008265851324530662, 9...</td>\n",
       "      <td>zigzag1</td>\n",
       "      <td>0.013813</td>\n",
       "    </tr>\n",
       "    <tr>\n",
       "      <th>7</th>\n",
       "      <td>1</td>\n",
       "      <td>3</td>\n",
       "      <td>[0.19429706094749774, -0.30443076333717334, 13...</td>\n",
       "      <td>square</td>\n",
       "      <td>68.302203</td>\n",
       "    </tr>\n",
       "  </tbody>\n",
       "</table>\n",
       "</div>"
      ],
      "text/plain": [
       "   image  stroke                                                  M primitive  \\\n",
       "4      1       0  [0.07426618644942073, -0.7638244586723916, 209...    circle   \n",
       "5      1       1  [0.02277092619178832, 0.002682955158747209, 65...   zigzag1   \n",
       "6      1       2  [0.06515558285921869, -0.008265851324530662, 9...   zigzag1   \n",
       "7      1       3  [0.19429706094749774, -0.30443076333717334, 13...    square   \n",
       "\n",
       "          mse  \n",
       "4  158.619724  \n",
       "5    0.004116  \n",
       "6    0.013813  \n",
       "7   68.302203  "
      ]
     },
     "execution_count": 25,
     "metadata": {},
     "output_type": "execute_result"
    }
   ],
   "source": [
    "dfa[dfa.image == idx]"
   ]
  },
  {
   "cell_type": "code",
   "execution_count": 69,
   "metadata": {},
   "outputs": [
    {
     "data": {
      "text/plain": [
       "array([[  0.0125,  -0.1637,  92.6791],\n",
       "       [ -0.0799,   0.044 , 128.9623],\n",
       "       [  0.0007,  -0.0002,   1.    ]])"
      ]
     },
     "execution_count": 69,
     "metadata": {},
     "output_type": "execute_result"
    }
   ],
   "source": [
    "dfa[dfa.image == idx].M[98].reshape((3,3))"
   ]
  },
  {
   "cell_type": "code",
   "execution_count": 70,
   "metadata": {},
   "outputs": [
    {
     "data": {
      "text/plain": [
       "array([[  0.2515,  -0.0641,  93.3506],\n",
       "       [  0.0989,  -0.1843, 134.0549],\n",
       "       [  0.0011,  -0.0004,   1.    ]])"
      ]
     },
     "execution_count": 70,
     "metadata": {},
     "output_type": "execute_result"
    }
   ],
   "source": [
    "dfa[dfa.image == idx].M[99].reshape((3,3))"
   ]
  },
  {
   "cell_type": "code",
   "execution_count": 59,
   "metadata": {},
   "outputs": [],
   "source": [
    "# dfn = new_df_pair()\n",
    "dfo = pd.read_csv('/raid/xiaoyuz1/amazon_turk/df_all.csv')\n",
    "dfo['no_punc_1'] = dfo.no_punc_1.apply(lambda x: [str(y).strip()[1:-1] for y in x[1:-1].split(',')])\n",
    "# dfn = new_df_pair()\n",
    "dfp = pd.read_csv('/raid/xiaoyuz1/amazon_turk/df_all_pair.csv')\n",
    "dfp['no_punc_1'] = dfp.no_punc_1.apply(lambda x: [str(y).strip()[1:-1] for y in x[1:-1].split(',')])\n",
    "dfp['no_punc_2'] = dfp.no_punc_2.apply(lambda x: [str(y).strip()[1:-1] for y in x[1:-1].split(',')])"
   ]
  },
  {
   "cell_type": "code",
   "execution_count": 61,
   "metadata": {
    "scrolled": true
   },
   "outputs": [
    {
     "data": {
      "text/html": [
       "<div>\n",
       "<style scoped>\n",
       "    .dataframe tbody tr th:only-of-type {\n",
       "        vertical-align: middle;\n",
       "    }\n",
       "\n",
       "    .dataframe tbody tr th {\n",
       "        vertical-align: top;\n",
       "    }\n",
       "\n",
       "    .dataframe thead th {\n",
       "        text-align: right;\n",
       "    }\n",
       "</style>\n",
       "<table border=\"1\" class=\"dataframe\">\n",
       "  <thead>\n",
       "    <tr style=\"text-align: right;\">\n",
       "      <th></th>\n",
       "      <th>image_1</th>\n",
       "      <th>worker_id</th>\n",
       "      <th>part</th>\n",
       "      <th>category</th>\n",
       "      <th>time</th>\n",
       "      <th>folder</th>\n",
       "      <th>text_1</th>\n",
       "      <th>tokenized_1</th>\n",
       "      <th>lower_1</th>\n",
       "      <th>no_punc_1</th>\n",
       "      <th>no_punc_str_1</th>\n",
       "    </tr>\n",
       "  </thead>\n",
       "  <tbody>\n",
       "    <tr>\n",
       "      <th>227</th>\n",
       "      <td>18</td>\n",
       "      <td>AKQAI78JTXXC9</td>\n",
       "      <td>4</td>\n",
       "      <td>face</td>\n",
       "      <td>366.0</td>\n",
       "      <td>/raid/xiaoyuz1/amazon_turk/2022_03_21_release</td>\n",
       "      <td>spiky hair</td>\n",
       "      <td>['spiky', 'hair']</td>\n",
       "      <td>['spiky', 'hair']</td>\n",
       "      <td>[spiky, hair]</td>\n",
       "      <td>spiky hair</td>\n",
       "    </tr>\n",
       "    <tr>\n",
       "      <th>231</th>\n",
       "      <td>18</td>\n",
       "      <td>APRZ7BR8C0ZMQ</td>\n",
       "      <td>0</td>\n",
       "      <td>face</td>\n",
       "      <td>106.2</td>\n",
       "      <td>/raid/xiaoyuz1/amazon_turk/2022_03_21_release</td>\n",
       "      <td>happy</td>\n",
       "      <td>['happy']</td>\n",
       "      <td>['happy']</td>\n",
       "      <td>[happy]</td>\n",
       "      <td>happy</td>\n",
       "    </tr>\n",
       "    <tr>\n",
       "      <th>466</th>\n",
       "      <td>18</td>\n",
       "      <td>A24LB89P1BPKKF</td>\n",
       "      <td>4</td>\n",
       "      <td>face</td>\n",
       "      <td>433.4</td>\n",
       "      <td>/raid/xiaoyuz1/amazon_turk/2022_03_21_release</td>\n",
       "      <td>pointy, straight</td>\n",
       "      <td>['pointy', ',', 'straight']</td>\n",
       "      <td>['pointy', ',', 'straight']</td>\n",
       "      <td>[pointy, straight]</td>\n",
       "      <td>pointy straight</td>\n",
       "    </tr>\n",
       "    <tr>\n",
       "      <th>1288</th>\n",
       "      <td>18</td>\n",
       "      <td>A320QA9HJFUOZO</td>\n",
       "      <td>0</td>\n",
       "      <td>face</td>\n",
       "      <td>719.0</td>\n",
       "      <td>/raid/xiaoyuz1/amazon_turk/2022_03_22_release</td>\n",
       "      <td>round tall</td>\n",
       "      <td>['round', 'tall']</td>\n",
       "      <td>['round', 'tall']</td>\n",
       "      <td>[round, tall]</td>\n",
       "      <td>round tall</td>\n",
       "    </tr>\n",
       "    <tr>\n",
       "      <th>2127</th>\n",
       "      <td>18</td>\n",
       "      <td>A12R2U6TBB3OOG</td>\n",
       "      <td>6</td>\n",
       "      <td>face</td>\n",
       "      <td>137.0</td>\n",
       "      <td>/raid/xiaoyuz1/amazon_turk/2022_03_23_release_2</td>\n",
       "      <td>circular, even</td>\n",
       "      <td>['circular', ',', 'even']</td>\n",
       "      <td>['circular', ',', 'even']</td>\n",
       "      <td>[circular, even]</td>\n",
       "      <td>circular even</td>\n",
       "    </tr>\n",
       "    <tr>\n",
       "      <th>2600</th>\n",
       "      <td>18</td>\n",
       "      <td>A1DMXEJGJY02E1</td>\n",
       "      <td>2</td>\n",
       "      <td>face</td>\n",
       "      <td>73.4</td>\n",
       "      <td>/raid/xiaoyuz1/amazon_turk/2022_03_24_release</td>\n",
       "      <td>curved</td>\n",
       "      <td>['curve']</td>\n",
       "      <td>['curve']</td>\n",
       "      <td>[curve]</td>\n",
       "      <td>curve</td>\n",
       "    </tr>\n",
       "    <tr>\n",
       "      <th>2625</th>\n",
       "      <td>18</td>\n",
       "      <td>A2QX3YJXAAHHVV</td>\n",
       "      <td>0</td>\n",
       "      <td>face</td>\n",
       "      <td>513.8</td>\n",
       "      <td>/raid/xiaoyuz1/amazon_turk/2022_03_24_release</td>\n",
       "      <td>asymmetrical, lumpy, oval</td>\n",
       "      <td>['asymmetrical', ',', 'lumpy', ',', 'oval']</td>\n",
       "      <td>['asymmetrical', ',', 'lumpy', ',', 'oval']</td>\n",
       "      <td>[asymmetrical, lumpy, oval]</td>\n",
       "      <td>asymmetrical lumpy oval</td>\n",
       "    </tr>\n",
       "    <tr>\n",
       "      <th>2961</th>\n",
       "      <td>18</td>\n",
       "      <td>A2K6VG008QFOPN</td>\n",
       "      <td>0</td>\n",
       "      <td>face</td>\n",
       "      <td>687.8</td>\n",
       "      <td>/raid/xiaoyuz1/amazon_turk/2022_03_24_release</td>\n",
       "      <td>Big round</td>\n",
       "      <td>['big', 'round']</td>\n",
       "      <td>['big', 'round']</td>\n",
       "      <td>[big, round]</td>\n",
       "      <td>big round</td>\n",
       "    </tr>\n",
       "    <tr>\n",
       "      <th>3972</th>\n",
       "      <td>18</td>\n",
       "      <td>A2NAKIXS3DVGAA</td>\n",
       "      <td>6</td>\n",
       "      <td>face</td>\n",
       "      <td>201.2</td>\n",
       "      <td>/raid/xiaoyuz1/amazon_turk/2022_04_04_release</td>\n",
       "      <td>egg-shaped</td>\n",
       "      <td>['egg', '-']</td>\n",
       "      <td>['egg', '-']</td>\n",
       "      <td>[egg]</td>\n",
       "      <td>egg</td>\n",
       "    </tr>\n",
       "    <tr>\n",
       "      <th>4150</th>\n",
       "      <td>18</td>\n",
       "      <td>A38DXFI1TZA295</td>\n",
       "      <td>2</td>\n",
       "      <td>face</td>\n",
       "      <td>119.4</td>\n",
       "      <td>/raid/xiaoyuz1/amazon_turk/2022_04_04_release</td>\n",
       "      <td>U-shaped</td>\n",
       "      <td>['u', '-']</td>\n",
       "      <td>['u', '-']</td>\n",
       "      <td>[u]</td>\n",
       "      <td>u</td>\n",
       "    </tr>\n",
       "    <tr>\n",
       "      <th>5562</th>\n",
       "      <td>18</td>\n",
       "      <td>A12R2U6TBB3OOG</td>\n",
       "      <td>0</td>\n",
       "      <td>angel</td>\n",
       "      <td>103.4</td>\n",
       "      <td>/raid/xiaoyuz1/amazon_turk/2022_04_06_release</td>\n",
       "      <td>uneven, tilted</td>\n",
       "      <td>['uneven', ',', 'tilt']</td>\n",
       "      <td>['uneven', ',', 'tilt']</td>\n",
       "      <td>[uneven, tilt]</td>\n",
       "      <td>uneven tilt</td>\n",
       "    </tr>\n",
       "    <tr>\n",
       "      <th>6670</th>\n",
       "      <td>18</td>\n",
       "      <td>A12R2U6TBB3OOG</td>\n",
       "      <td>7</td>\n",
       "      <td>angel</td>\n",
       "      <td>38.0</td>\n",
       "      <td>/raid/xiaoyuz1/amazon_turk/2022_04_06_release</td>\n",
       "      <td>fluffy, thick</td>\n",
       "      <td>['fluffy', ',', 'thick']</td>\n",
       "      <td>['fluffy', ',', 'thick']</td>\n",
       "      <td>[fluffy, thick]</td>\n",
       "      <td>fluffy thick</td>\n",
       "    </tr>\n",
       "    <tr>\n",
       "      <th>7744</th>\n",
       "      <td>18</td>\n",
       "      <td>A1WKV55X49F3P6</td>\n",
       "      <td>4</td>\n",
       "      <td>angel</td>\n",
       "      <td>140.4</td>\n",
       "      <td>/raid/xiaoyuz1/amazon_turk/2022_04_06_release_2</td>\n",
       "      <td>wide circumpolar</td>\n",
       "      <td>['wide', 'circumpolar']</td>\n",
       "      <td>['wide', 'circumpolar']</td>\n",
       "      <td>[wide, circumpolar]</td>\n",
       "      <td>wide circumpolar</td>\n",
       "    </tr>\n",
       "    <tr>\n",
       "      <th>7984</th>\n",
       "      <td>18</td>\n",
       "      <td>A173A97OFDAX9F</td>\n",
       "      <td>5</td>\n",
       "      <td>angel</td>\n",
       "      <td>399.8</td>\n",
       "      <td>/raid/xiaoyuz1/amazon_turk/2022_04_06_release_2</td>\n",
       "      <td>flat trapezoidal</td>\n",
       "      <td>['flat', 'trapezoidal']</td>\n",
       "      <td>['flat', 'trapezoidal']</td>\n",
       "      <td>[flat, trapezoidal]</td>\n",
       "      <td>flat trapezoidal</td>\n",
       "    </tr>\n",
       "    <tr>\n",
       "      <th>8119</th>\n",
       "      <td>18</td>\n",
       "      <td>A320QA9HJFUOZO</td>\n",
       "      <td>5</td>\n",
       "      <td>angel</td>\n",
       "      <td>352.4</td>\n",
       "      <td>/raid/xiaoyuz1/amazon_turk/2022_04_06_release_2</td>\n",
       "      <td>angular three-sided</td>\n",
       "      <td>['angular', 'three', '-', 'sided']</td>\n",
       "      <td>['angular', 'three', '-', 'sided']</td>\n",
       "      <td>[angular, three, sided]</td>\n",
       "      <td>angular three sided</td>\n",
       "    </tr>\n",
       "    <tr>\n",
       "      <th>9236</th>\n",
       "      <td>18</td>\n",
       "      <td>A272X64FOZFYLB</td>\n",
       "      <td>4</td>\n",
       "      <td>angel</td>\n",
       "      <td>369.0</td>\n",
       "      <td>/raid/xiaoyuz1/amazon_turk/2022_04_06_release_2</td>\n",
       "      <td>large, circular</td>\n",
       "      <td>['large', ',', 'circular']</td>\n",
       "      <td>['large', ',', 'circular']</td>\n",
       "      <td>[large, circular]</td>\n",
       "      <td>large circular</td>\n",
       "    </tr>\n",
       "    <tr>\n",
       "      <th>10227</th>\n",
       "      <td>18</td>\n",
       "      <td>A2QX3YJXAAHHVV</td>\n",
       "      <td>0</td>\n",
       "      <td>angel</td>\n",
       "      <td>254.8</td>\n",
       "      <td>/raid/xiaoyuz1/amazon_turk/2022_04_06_release_3</td>\n",
       "      <td>asymmetrical, oblong, elongated, ovoid</td>\n",
       "      <td>['asymmetrical', ',', 'oblong', ',', 'elongate...</td>\n",
       "      <td>['asymmetrical', ',', 'oblong', ',', 'elongate...</td>\n",
       "      <td>[asymmetrical, oblong, elongate, ovoid]</td>\n",
       "      <td>asymmetrical oblong elongate ovoid</td>\n",
       "    </tr>\n",
       "    <tr>\n",
       "      <th>10406</th>\n",
       "      <td>18</td>\n",
       "      <td>A2OVX9UW5WANQE</td>\n",
       "      <td>7</td>\n",
       "      <td>angel</td>\n",
       "      <td>395.6</td>\n",
       "      <td>/raid/xiaoyuz1/amazon_turk/2022_04_06_release_3</td>\n",
       "      <td>long, round</td>\n",
       "      <td>['long', ',', 'round']</td>\n",
       "      <td>['long', ',', 'round']</td>\n",
       "      <td>[long, round]</td>\n",
       "      <td>long round</td>\n",
       "    </tr>\n",
       "  </tbody>\n",
       "</table>\n",
       "</div>"
      ],
      "text/plain": [
       "       image_1       worker_id  part category   time  \\\n",
       "227         18   AKQAI78JTXXC9     4     face  366.0   \n",
       "231         18   APRZ7BR8C0ZMQ     0     face  106.2   \n",
       "466         18  A24LB89P1BPKKF     4     face  433.4   \n",
       "1288        18  A320QA9HJFUOZO     0     face  719.0   \n",
       "2127        18  A12R2U6TBB3OOG     6     face  137.0   \n",
       "2600        18  A1DMXEJGJY02E1     2     face   73.4   \n",
       "2625        18  A2QX3YJXAAHHVV     0     face  513.8   \n",
       "2961        18  A2K6VG008QFOPN     0     face  687.8   \n",
       "3972        18  A2NAKIXS3DVGAA     6     face  201.2   \n",
       "4150        18  A38DXFI1TZA295     2     face  119.4   \n",
       "5562        18  A12R2U6TBB3OOG     0    angel  103.4   \n",
       "6670        18  A12R2U6TBB3OOG     7    angel   38.0   \n",
       "7744        18  A1WKV55X49F3P6     4    angel  140.4   \n",
       "7984        18  A173A97OFDAX9F     5    angel  399.8   \n",
       "8119        18  A320QA9HJFUOZO     5    angel  352.4   \n",
       "9236        18  A272X64FOZFYLB     4    angel  369.0   \n",
       "10227       18  A2QX3YJXAAHHVV     0    angel  254.8   \n",
       "10406       18  A2OVX9UW5WANQE     7    angel  395.6   \n",
       "\n",
       "                                                folder  \\\n",
       "227      /raid/xiaoyuz1/amazon_turk/2022_03_21_release   \n",
       "231      /raid/xiaoyuz1/amazon_turk/2022_03_21_release   \n",
       "466      /raid/xiaoyuz1/amazon_turk/2022_03_21_release   \n",
       "1288     /raid/xiaoyuz1/amazon_turk/2022_03_22_release   \n",
       "2127   /raid/xiaoyuz1/amazon_turk/2022_03_23_release_2   \n",
       "2600     /raid/xiaoyuz1/amazon_turk/2022_03_24_release   \n",
       "2625     /raid/xiaoyuz1/amazon_turk/2022_03_24_release   \n",
       "2961     /raid/xiaoyuz1/amazon_turk/2022_03_24_release   \n",
       "3972     /raid/xiaoyuz1/amazon_turk/2022_04_04_release   \n",
       "4150     /raid/xiaoyuz1/amazon_turk/2022_04_04_release   \n",
       "5562     /raid/xiaoyuz1/amazon_turk/2022_04_06_release   \n",
       "6670     /raid/xiaoyuz1/amazon_turk/2022_04_06_release   \n",
       "7744   /raid/xiaoyuz1/amazon_turk/2022_04_06_release_2   \n",
       "7984   /raid/xiaoyuz1/amazon_turk/2022_04_06_release_2   \n",
       "8119   /raid/xiaoyuz1/amazon_turk/2022_04_06_release_2   \n",
       "9236   /raid/xiaoyuz1/amazon_turk/2022_04_06_release_2   \n",
       "10227  /raid/xiaoyuz1/amazon_turk/2022_04_06_release_3   \n",
       "10406  /raid/xiaoyuz1/amazon_turk/2022_04_06_release_3   \n",
       "\n",
       "                                       text_1  \\\n",
       "227                                spiky hair   \n",
       "231                                     happy   \n",
       "466                          pointy, straight   \n",
       "1288                               round tall   \n",
       "2127                           circular, even   \n",
       "2600                                   curved   \n",
       "2625                asymmetrical, lumpy, oval   \n",
       "2961                                Big round   \n",
       "3972                               egg-shaped   \n",
       "4150                                 U-shaped   \n",
       "5562                           uneven, tilted   \n",
       "6670                            fluffy, thick   \n",
       "7744                         wide circumpolar   \n",
       "7984                         flat trapezoidal   \n",
       "8119                      angular three-sided   \n",
       "9236                          large, circular   \n",
       "10227  asymmetrical, oblong, elongated, ovoid   \n",
       "10406                             long, round   \n",
       "\n",
       "                                             tokenized_1  \\\n",
       "227                                    ['spiky', 'hair']   \n",
       "231                                            ['happy']   \n",
       "466                          ['pointy', ',', 'straight']   \n",
       "1288                                   ['round', 'tall']   \n",
       "2127                           ['circular', ',', 'even']   \n",
       "2600                                           ['curve']   \n",
       "2625         ['asymmetrical', ',', 'lumpy', ',', 'oval']   \n",
       "2961                                    ['big', 'round']   \n",
       "3972                                        ['egg', '-']   \n",
       "4150                                          ['u', '-']   \n",
       "5562                             ['uneven', ',', 'tilt']   \n",
       "6670                            ['fluffy', ',', 'thick']   \n",
       "7744                             ['wide', 'circumpolar']   \n",
       "7984                             ['flat', 'trapezoidal']   \n",
       "8119                  ['angular', 'three', '-', 'sided']   \n",
       "9236                          ['large', ',', 'circular']   \n",
       "10227  ['asymmetrical', ',', 'oblong', ',', 'elongate...   \n",
       "10406                             ['long', ',', 'round']   \n",
       "\n",
       "                                                 lower_1  \\\n",
       "227                                    ['spiky', 'hair']   \n",
       "231                                            ['happy']   \n",
       "466                          ['pointy', ',', 'straight']   \n",
       "1288                                   ['round', 'tall']   \n",
       "2127                           ['circular', ',', 'even']   \n",
       "2600                                           ['curve']   \n",
       "2625         ['asymmetrical', ',', 'lumpy', ',', 'oval']   \n",
       "2961                                    ['big', 'round']   \n",
       "3972                                        ['egg', '-']   \n",
       "4150                                          ['u', '-']   \n",
       "5562                             ['uneven', ',', 'tilt']   \n",
       "6670                            ['fluffy', ',', 'thick']   \n",
       "7744                             ['wide', 'circumpolar']   \n",
       "7984                             ['flat', 'trapezoidal']   \n",
       "8119                  ['angular', 'three', '-', 'sided']   \n",
       "9236                          ['large', ',', 'circular']   \n",
       "10227  ['asymmetrical', ',', 'oblong', ',', 'elongate...   \n",
       "10406                             ['long', ',', 'round']   \n",
       "\n",
       "                                     no_punc_1  \\\n",
       "227                              [spiky, hair]   \n",
       "231                                    [happy]   \n",
       "466                         [pointy, straight]   \n",
       "1288                             [round, tall]   \n",
       "2127                          [circular, even]   \n",
       "2600                                   [curve]   \n",
       "2625               [asymmetrical, lumpy, oval]   \n",
       "2961                              [big, round]   \n",
       "3972                                     [egg]   \n",
       "4150                                       [u]   \n",
       "5562                            [uneven, tilt]   \n",
       "6670                           [fluffy, thick]   \n",
       "7744                       [wide, circumpolar]   \n",
       "7984                       [flat, trapezoidal]   \n",
       "8119                   [angular, three, sided]   \n",
       "9236                         [large, circular]   \n",
       "10227  [asymmetrical, oblong, elongate, ovoid]   \n",
       "10406                            [long, round]   \n",
       "\n",
       "                            no_punc_str_1  \n",
       "227                            spiky hair  \n",
       "231                                 happy  \n",
       "466                       pointy straight  \n",
       "1288                           round tall  \n",
       "2127                        circular even  \n",
       "2600                                curve  \n",
       "2625              asymmetrical lumpy oval  \n",
       "2961                            big round  \n",
       "3972                                  egg  \n",
       "4150                                    u  \n",
       "5562                          uneven tilt  \n",
       "6670                         fluffy thick  \n",
       "7744                     wide circumpolar  \n",
       "7984                     flat trapezoidal  \n",
       "8119                  angular three sided  \n",
       "9236                       large circular  \n",
       "10227  asymmetrical oblong elongate ovoid  \n",
       "10406                          long round  "
      ]
     },
     "execution_count": 61,
     "metadata": {},
     "output_type": "execute_result"
    }
   ],
   "source": [
    "dfo[(dfo['image_1'] == idx)]"
   ]
  },
  {
   "cell_type": "code",
   "execution_count": 135,
   "metadata": {
    "scrolled": true
   },
   "outputs": [],
   "source": [
    "reload(rd)\n",
    "M_arr_idx, M_name_idx, M_mse_idx = {},{},{}\n",
    "\n",
    "template_dict = {\n",
    "    #'arc' : lambda n : rd.generate_arc(n1=n),\n",
    "    'circle' : lambda n : rd.generate_circle(n1=n, radius=100, x0=100, y0=100, template_size=256),\n",
    "    'square' : lambda n : rd.generate_square(n1=n, template_size=256),\n",
    "    'semicircle' : lambda n : rd.generate_semicircle(n1=n, radius=100, x0=100, y0=100, template_size=256),\n",
    "    'zigzag3' : lambda n : rd.generate_zigzag3(n1=n, template_size=256),\n",
    "    #'zigzag1' : lambda n : rd.generate_zigzag1(n1=n, template_size=256),\n",
    "    'zigzag5' : lambda n : rd.generate_zigzag(n1=n,num_fold=5, template_size=256),\n",
    "    'zigzag7' : lambda n : rd.generate_zigzag(n1=n,num_fold=7, template_size=256),\n",
    "    'zigzag10' : lambda n : rd.generate_zigzag(n1=n,num_fold=10, template_size=256),\n",
    "}\n",
    "\n",
    "\n",
    "for stroke_index, data in enumerate(strokes_spline_fitted):\n",
    "    mat, prim_name, prim_mse = rd.get_transform_smallest_mse(data, template_dict, \\\n",
    "                                                            n=200, use_projective=True)\n",
    "    M_arr_idx[(idx, stroke_index)] = mat\n",
    "    M_name_idx[(idx, stroke_index)] = prim_name\n",
    "    M_mse_idx[(idx, stroke_index)] = prim_mse"
   ]
  },
  {
   "cell_type": "code",
   "execution_count": 128,
   "metadata": {},
   "outputs": [
    {
     "data": {
      "image/png": "[encoded data removed]",
      "text/plain": [
       "<Figure size 432x432 with 1 Axes>"
      ]
     },
     "metadata": {
      "needs_background": "light"
     },
     "output_type": "display_data"
    }
   ],
   "source": [
    "plt.figure(figsize=(6,6))\n",
    "stroke_i = strokes_spline_fitted[5]\n",
    "# mask = np.zeros(len(data))\n",
    "# mask[:20] = 1\n",
    "# np.random.shuffle(mask)\n",
    "# stroke_i = data + (np.random.normal(0, 0.05, len(data)) * mask).reshape(-1,1)\n",
    "plt.scatter(stroke_i[:,0], stroke_i[:,1], label=\"template\", s=1, c='g')\n",
    "# plt.xlim(0,w)\n",
    "# plt.ylim(h,0)\n",
    "plt.show()"
   ]
  },
  {
   "cell_type": "code",
   "execution_count": 138,
   "metadata": {},
   "outputs": [
    {
     "data": {
      "image/png": "[encoded data removed]",
      "text/plain": [
       "<Figure size 864x432 with 2 Axes>"
      ]
     },
     "metadata": {
      "needs_background": "light"
     },
     "output_type": "display_data"
    }
   ],
   "source": [
    "f, (ax1, ax2) = plt.subplots(1, 2, figsize=(12, 6))\n",
    "\n",
    "for k, M in M_arr_idx.items():\n",
    "    if k[1] != 3:\n",
    "        continue\n",
    "    data = strokes_spline_fitted[k[1]]\n",
    "    template_func = template_dict[M_name_idx[k]]\n",
    "    template = template_func(n)\n",
    "    \n",
    "    result, mse = rd.get_transformed_template(template, data, M.reshape(3,3),projective=True)\n",
    "    ax1.scatter(result[:,0], result[:,1], label=\"transformed template\", s=1, c='r')\n",
    "    ax1.scatter(data[:,0], data[:,1], label=\"data\", alpha=0.5, s=1, c='g')\n",
    "\n",
    "# plt.legend()\n",
    "# plt.xlim(0,w)\n",
    "# plt.ylim(h,0)\n",
    "\n",
    "# ax1.axis(xmin=0,xmax=w)\n",
    "# ax1.axis(ymin=h,ymax=0)\n",
    "\n",
    "# ax2.axis(xmin=0,xmax=w)\n",
    "# ax2.axis(ymin=h,ymax=0)\n",
    "\n",
    "plt.show()"
   ]
  },
  {
   "cell_type": "code",
   "execution_count": 103,
   "metadata": {},
   "outputs": [],
   "source": [
    "data = strokes_spline_fitted[stroke_idx]"
   ]
  },
  {
   "cell_type": "code",
   "execution_count": 58,
   "metadata": {},
   "outputs": [
    {
     "data": {
      "text/plain": [
       "96     [0.42410748886672833, -0.4494952153664001, 109...\n",
       "97     [-0.21543212411260204, 0.026381272613180722, 1...\n",
       "98     [0.012454767765860896, -0.16372540669478478, 9...\n",
       "99     [0.25145659458290953, -0.0640982518445009, 93....\n",
       "100    [0.048240438971921956, 0.4190080988050944, 55....\n",
       "101    [-0.7491480149913262, 0.09135068226962952, 95....\n",
       "102    [-0.12692410094280748, 0.707983575997115, 139....\n",
       "Name: M, dtype: object"
      ]
     },
     "execution_count": 58,
     "metadata": {},
     "output_type": "execute_result"
    }
   ],
   "source": []
  },
  {
   "cell_type": "code",
   "execution_count": 76,
   "metadata": {},
   "outputs": [
    {
     "name": "stdout",
     "output_type": "stream",
     "text": [
      "2.9199214787598444e-06\n"
     ]
    },
    {
     "data": {
      "image/png": "[encoded data removed]",
      "text/plain": [
       "<Figure size 432x432 with 1 Axes>"
      ]
     },
     "metadata": {
      "needs_background": "light"
     },
     "output_type": "display_data"
    }
   ],
   "source": [
    "data = strokes_spline_fitted[stroke_idx]\n",
    "template_func = rd.TEMPLATE_DICT[M_name[(idx, stroke_idx)]]\n",
    "template = template_func(n)\n",
    "\n",
    "result, mse = rd.get_transformed_template(template, data, M_arr[(idx, stroke_idx)].reshape(3,3))\n",
    "\n",
    "print(mse)\n",
    "\n",
    "datacolors = rd.get_sequence_colors(n, plt.cm.Greens)\n",
    "templatecolors = rd.get_sequence_colors(n, plt.cm.Reds)\n",
    "\n",
    "plt.figure(figsize=(6, 6))\n",
    "# plt.scatter(result[:,0], result[:,1], label=\"transformed template\", s=1, \\\n",
    "#             c=templatecolors)\n",
    "# plt.scatter(data[:,0], data[:,1], label=\"data\", alpha=0.5, s=1, c=datacolors)\n",
    "\n",
    "plt.scatter(result[:,0], result[:,1], label=\"transformed template\", s=1, c='r')\n",
    "plt.scatter(data[:,0], data[:,1], label=\"data\", alpha=0.5, s=1, c='g')\n",
    "\n",
    "plt.legend()\n",
    "# plt.xlim(0,w)\n",
    "# plt.ylim(h,0)\n",
    "\n",
    "plt.show()"
   ]
  },
  {
   "cell_type": "code",
   "execution_count": null,
   "metadata": {},
   "outputs": [],
   "source": []
  },
  {
   "cell_type": "code",
   "execution_count": 14,
   "metadata": {},
   "outputs": [
    {
     "data": {
      "text/plain": [
       "<module 'read_datasets' from '/home/xiaoyuz1/amazon_turk/read_datasets.py'>"
      ]
     },
     "execution_count": 14,
     "metadata": {},
     "output_type": "execute_result"
    }
   ],
   "source": [
    "reload(rd)"
   ]
  },
  {
   "cell_type": "code",
   "execution_count": 49,
   "metadata": {},
   "outputs": [],
   "source": [
    "data = strokes_spline_fitted[stroke_idx]"
   ]
  },
  {
   "cell_type": "code",
   "execution_count": 23,
   "metadata": {},
   "outputs": [
    {
     "name": "stdout",
     "output_type": "stream",
     "text": [
      "circle\n"
     ]
    }
   ],
   "source": [
    "\n",
    "print(M_name[(idx, stroke_idx)])\n",
    "\n",
    "template_func = rd.TEMPLATE_DICT[M_name[(idx, stroke_idx)]]"
   ]
  },
  {
   "cell_type": "code",
   "execution_count": 24,
   "metadata": {},
   "outputs": [],
   "source": [
    "projectiveM = M_arr[(idx, stroke_idx)]\n",
    "template = template_func(n)\n",
    "src_pts = template.astype(np.float32).reshape(-1,1,2)\n",
    "result = cv2.perspectiveTransform(src_pts, projectiveM.reshape(3,3)).reshape(-1,2)"
   ]
  },
  {
   "cell_type": "code",
   "execution_count": 58,
   "metadata": {},
   "outputs": [],
   "source": [
    "# calculate ourselves\n",
    "template_func = rd.TEMPLATE_DICT['zigzag1']\n",
    "template = template_func(n)\n",
    "\n",
    "# template = rd.generate_zigzag(num_fold=10)\n",
    "M, result = rd.get_transform(template, data, projective=True)"
   ]
  },
  {
   "cell_type": "code",
   "execution_count": 59,
   "metadata": {},
   "outputs": [
    {
     "data": {
      "text/plain": [
       "((200, 2), (200, 2))"
      ]
     },
     "execution_count": 59,
     "metadata": {},
     "output_type": "execute_result"
    }
   ],
   "source": [
    "data.shape, template.shape"
   ]
  },
  {
   "cell_type": "code",
   "execution_count": 60,
   "metadata": {},
   "outputs": [
    {
     "name": "stdout",
     "output_type": "stream",
     "text": [
      "0.00017625007577857225\n"
     ]
    },
    {
     "data": {
      "image/png": "[encoded data removed]",
      "text/plain": [
       "<Figure size 432x432 with 1 Axes>"
      ]
     },
     "metadata": {
      "needs_background": "light"
     },
     "output_type": "display_data"
    }
   ],
   "source": [
    "mse = mean_squared_error(result, data)\n",
    "print(mse)\n",
    "\n",
    "datacolors = rd.get_sequence_colors(n, plt.cm.Greens)\n",
    "templatecolors = rd.get_sequence_colors(n, plt.cm.Reds)\n",
    "\n",
    "plt.figure(figsize=(6, 6))\n",
    "# plt.scatter(result[:,0], result[:,1], label=\"transformed template\", s=1, \\\n",
    "#             c=templatecolors)\n",
    "# plt.scatter(data[:,0], data[:,1], label=\"data\", alpha=0.5, s=1, c=datacolors)\n",
    "\n",
    "plt.scatter(result[:,0], result[:,1], label=\"transformed template\", s=1, c='r')\n",
    "plt.scatter(data[:,0], data[:,1], label=\"data\", alpha=0.5, s=1, c='g')\n",
    "\n",
    "plt.legend()\n",
    "# plt.xlim(0,w)\n",
    "# plt.ylim(h,0)\n",
    "\n",
    "plt.show()"
   ]
  },
  {
   "cell_type": "code",
   "execution_count": null,
   "metadata": {
    "scrolled": true
   },
   "outputs": [],
   "source": []
  },
  {
   "cell_type": "code",
   "execution_count": null,
   "metadata": {},
   "outputs": [],
   "source": [
    "import cv2\n",
    "import numpy as np\n",
    "import sys\n",
    "from numpy.random import *"
   ]
  },
  {
   "cell_type": "code",
   "execution_count": null,
   "metadata": {},
   "outputs": [],
   "source": [
    "def del_miss(indeces, dist, max_dist, th_rate = 0.8):\n",
    "    th_dist = max_dist * th_rate\n",
    "    return np.array([indeces[0][np.where(dist.T[0] < th_dist)]])\n"
   ]
  },
  {
   "cell_type": "code",
   "execution_count": null,
   "metadata": {},
   "outputs": [],
   "source": [
    "def is_converge(Tr, scale):\n",
    "    delta_angle = 0.0001\n",
    "    delta_scale = scale * 0.0001\n",
    "    \n",
    "    min_cos = 1 - delta_angle\n",
    "    max_cos = 1 + delta_angle\n",
    "    min_sin = -delta_angle\n",
    "    max_sin = delta_angle\n",
    "    min_move = -delta_scale\n",
    "    max_move = delta_scale\n",
    "    \n",
    "    return min_cos < Tr[0, 0] and Tr[0, 0] < max_cos and \\\n",
    "           min_cos < Tr[1, 1] and Tr[1, 1] < max_cos and \\\n",
    "           min_sin < -Tr[1, 0] and -Tr[1, 0] < max_sin and \\\n",
    "           min_sin < Tr[0, 1] and Tr[0, 1] < max_sin and \\\n",
    "           min_move < Tr[0, 2] and Tr[0, 2] < max_move and \\\n",
    "           min_move < Tr[1, 2] and Tr[1, 2] < max_move"
   ]
  },
  {
   "cell_type": "code",
   "execution_count": null,
   "metadata": {},
   "outputs": [],
   "source": [
    "def icp(d1, d2, max_iterate = 100):\n",
    "    src = np.array([d1.T], copy=True).astype(np.float32)\n",
    "    dst = np.array([d2.T], copy=True).astype(np.float32)\n",
    "    \n",
    "    knn = cv2.KNearest()\n",
    "    responses = np.array(range(len(d2[0]))).astype(np.float32)\n",
    "    knn.train(src[0], responses)\n",
    "        \n",
    "    Tr = np.array([[np.cos(0), -np.sin(0), 0],\n",
    "                   [np.sin(0), np.cos(0),  0],\n",
    "                   [0,         0,          1]])\n",
    "\n",
    "    dst = cv2.transform(dst, Tr[0:2])\n",
    "    max_dist = sys.maxint\n",
    "    \n",
    "    scale_x = np.max(d1[0]) - np.min(d1[0])\n",
    "    scale_y = np.max(d1[1]) - np.min(d1[1])\n",
    "    scale = max(scale_x, scale_y)\n",
    "       \n",
    "    for i in range(max_iterate):\n",
    "        ret, results, neighbours, dist = knn.find_nearest(dst[0], 1)\n",
    "        \n",
    "        indeces = results.astype(np.int32).T     \n",
    "        indeces = del_miss(indeces, dist, max_dist)  \n",
    "        \n",
    "        T = cv2.estimateRigidTransform(dst[0, indeces], src[0, indeces], True)\n",
    "\n",
    "        max_dist = np.max(dist)\n",
    "        dst = cv2.transform(dst, T)\n",
    "        Tr = np.dot(np.vstack((T,[0,0,1])), Tr)\n",
    "        \n",
    "        if (is_converge(T, scale)):\n",
    "            break\n",
    "        \n",
    "    return Tr[0:2]"
   ]
  },
  {
   "cell_type": "code",
   "execution_count": null,
   "metadata": {},
   "outputs": [],
   "source": [
    "if __name__ == \"__main__\":\n",
    "    import matplotlib.pyplot as plt\n",
    "    \n",
    "    point_count = 100\n",
    "    th = np.pi / 8\n",
    "    move = np.array([[0.30], [0.5]])\n",
    "    rnd_scale = 0.03\n",
    "    x1 = np.linspace(0, 1.1, point_count)\n",
    "    y1 = np.sin(x1 * np.pi)\n",
    "    d1 = np.array([x1, y1])\n",
    "\n",
    "    rot = np.array([[np.cos(th), -np.sin(th)], [np.sin(th), np.cos(th)]])\n",
    "    rand = np.random.rand(2, point_count)*rnd_scale\n",
    "    d2 = np.dot(rot, d1) + move\n",
    "    d2 = np.add(d2, rand)\n",
    "\n",
    "    plt.plot(d1[0], d1[1])\n",
    "    plt.plot(d2[0], d2[1])\n",
    "    plt.show()"
   ]
  },
  {
   "cell_type": "code",
   "execution_count": null,
   "metadata": {},
   "outputs": [],
   "source": [
    "    ret = icp(d1, d2)\n",
    "    \n",
    "    plt.plot(d1[0], d1[1])\n",
    "    dst = np.array([d2.T], copy=True).astype(np.float32)\n",
    "    dst = cv2.transform(dst, ret)\n",
    "    plt.plot(dst[0].T[0], dst[0].T[1])\n",
    "    plt.show()\n",
    "    \n",
    "    print ret[0][0] * ret[0][0] + ret[0][1] * ret[0][1]\n",
    "    print np.arccos(ret[0][0]) / 2 / np.pi * 360\n",
    "    print np.arcsin(ret[0][1]) / 2 / np.pi * 360\n",
    "\n",
    "    print ret"
   ]
  },
  {
   "cell_type": "code",
   "execution_count": null,
   "metadata": {},
   "outputs": [],
   "source": [
    "def icp(a, b,\n",
    "        max_time = 1\n",
    "    ):\n",
    "    import cv2\n",
    "    import numpy\n",
    "    import copy\n",
    "    import pylab\n",
    "    import time\n",
    "    import sys\n",
    "    import sklearn.neighbors\n",
    "    import scipy.optimize\n",
    "\n",
    "\n",
    "\n",
    "    def res(p,src,dst):\n",
    "        T = numpy.matrix([[numpy.cos(p[2]),-numpy.sin(p[2]),p[0]],\n",
    "        [numpy.sin(p[2]), numpy.cos(p[2]),p[1]],\n",
    "        [0 ,0 ,1 ]])\n",
    "        n = numpy.size(src,0)\n",
    "        xt = numpy.ones([n,3])\n",
    "        xt[:,:-1] = src\n",
    "        xt = (xt*T.T).A\n",
    "        d = numpy.zeros(numpy.shape(src))\n",
    "        d[:,0] = xt[:,0]-dst[:,0]\n",
    "        d[:,1] = xt[:,1]-dst[:,1]\n",
    "        r = numpy.sum(numpy.square(d[:,0])+numpy.square(d[:,1]))\n",
    "        return r\n",
    "\n",
    "    def jac(p,src,dst):\n",
    "        T = numpy.matrix([[numpy.cos(p[2]),-numpy.sin(p[2]),p[0]],\n",
    "        [numpy.sin(p[2]), numpy.cos(p[2]),p[1]],\n",
    "        [0 ,0 ,1 ]])\n",
    "        n = numpy.size(src,0)\n",
    "        xt = numpy.ones([n,3])\n",
    "        xt[:,:-1] = src\n",
    "        xt = (xt*T.T).A\n",
    "        d = numpy.zeros(numpy.shape(src))\n",
    "        d[:,0] = xt[:,0]-dst[:,0]\n",
    "        d[:,1] = xt[:,1]-dst[:,1]\n",
    "        dUdth_R = numpy.matrix([[-numpy.sin(p[2]),-numpy.cos(p[2])],\n",
    "                            [ numpy.cos(p[2]),-numpy.sin(p[2])]])\n",
    "        dUdth = (src*dUdth_R.T).A\n",
    "        g = numpy.array([  numpy.sum(2*d[:,0]),\n",
    "                        numpy.sum(2*d[:,1]),\n",
    "                        numpy.sum(2*(d[:,0]*dUdth[:,0]+d[:,1]*dUdth[:,1])) ])\n",
    "        return g\n",
    "    \n",
    "    def hess(p,src,dst):\n",
    "        n = numpy.size(src,0)\n",
    "        T = numpy.matrix([[numpy.cos(p[2]),-numpy.sin(p[2]),p[0]],\n",
    "        [numpy.sin(p[2]), numpy.cos(p[2]),p[1]],\n",
    "        [0 ,0 ,1 ]])\n",
    "        n = numpy.size(src,0)\n",
    "        xt = numpy.ones([n,3])\n",
    "        xt[:,:-1] = src\n",
    "        xt = (xt*T.T).A\n",
    "        d = numpy.zeros(numpy.shape(src))\n",
    "        d[:,0] = xt[:,0]-dst[:,0]\n",
    "        d[:,1] = xt[:,1]-dst[:,1]\n",
    "        dUdth_R = numpy.matrix([[-numpy.sin(p[2]),-numpy.cos(p[2])],[numpy.cos(p[2]),-numpy.sin(p[2])]])\n",
    "        dUdth = (src*dUdth_R.T).A\n",
    "        H = numpy.zeros([3,3])\n",
    "        H[0,0] = n*2\n",
    "        H[0,2] = numpy.sum(2*dUdth[:,0])\n",
    "        H[1,1] = n*2\n",
    "        H[1,2] = numpy.sum(2*dUdth[:,1])\n",
    "        H[2,0] = H[0,2]\n",
    "        H[2,1] = H[1,2]\n",
    "        d2Ud2th_R = numpy.matrix([[-numpy.cos(p[2]), numpy.sin(p[2])],[-numpy.sin(p[2]),-numpy.cos(p[2])]])\n",
    "        d2Ud2th = (src*d2Ud2th_R.T).A\n",
    "        H[2,2] = numpy.sum(2*(numpy.square(dUdth[:,0])+numpy.square(dUdth[:,1]) + d[:,0]*d2Ud2th[:,0]+d[:,0]*d2Ud2th[:,0]))\n",
    "        return H\n",
    "    \n",
    "    \n",
    "    t0 = time.time()\n",
    "    init_pose = (0,0,0)\n",
    "    src = numpy.array([a.T], copy=True).astype(numpy.float32)\n",
    "    dst = numpy.array([b.T], copy=True).astype(numpy.float32)\n",
    "    Tr = numpy.array([[numpy.cos(init_pose[2]),-numpy.sin(init_pose[2]),init_pose[0]],\n",
    "                   [numpy.sin(init_pose[2]), numpy.cos(init_pose[2]),init_pose[1]],\n",
    "                   [0,                    0,                   1          ]])\n",
    "    print(\"src\",numpy.shape(src))\n",
    "    print(\"Tr[0:2]\",numpy.shape(Tr[0:2]))\n",
    "    src = cv2.transform(src, Tr[0:2])\n",
    "    p_opt = numpy.array(init_pose)\n",
    "    T_opt = numpy.array([])\n",
    "    error_max = sys.maxsize\n",
    "    first = False\n",
    "    while not(first and time.time() - t0 > max_time):\n",
    "        distances, indices = sklearn.neighbors.NearestNeighbors(n_neighbors=1, algorithm='auto',p = 3).fit(dst[0]).kneighbors(src[0])\n",
    "        p = scipy.optimize.minimize(res,[0,0,0],args=(src[0],dst[0, indices.T][0]),method='Newton-CG',jac=jac,hess=hess).x\n",
    "        T  = numpy.array([[numpy.cos(p[2]),-numpy.sin(p[2]),p[0]],[numpy.sin(p[2]), numpy.cos(p[2]),p[1]]])\n",
    "        p_opt[:2]  = (p_opt[:2]*numpy.matrix(T[:2,:2]).T).A       \n",
    "        p_opt[0] += p[0]\n",
    "        p_opt[1] += p[1]\n",
    "        p_opt[2] += p[2]\n",
    "        src = cv2.transform(src, T)\n",
    "        Tr = (numpy.matrix(numpy.vstack((T,[0,0,1])))*numpy.matrix(Tr)).A\n",
    "        error = res([0,0,0],src[0],dst[0, indices.T][0])\n",
    "\n",
    "        if error < error_max:\n",
    "            error_max = error\n",
    "            first = True\n",
    "            T_opt = Tr\n",
    "\n",
    "    p_opt[2] = p_opt[2] % (2*numpy.pi)\n",
    "    return T_opt, error_max\n",
    "\n",
    "\n",
    "def main():\n",
    "    import cv2\n",
    "    import numpy\n",
    "    import random\n",
    "    import matplotlib.pyplot\n",
    "    n1 = 100\n",
    "    n2 = 75\n",
    "    bruit = 1/10\n",
    "    center = [random.random()*(2-1)*3,random.random()*(2-1)*3]\n",
    "    radius = random.random()\n",
    "    deformation = 2\n",
    "\n",
    "    template = numpy.array([\n",
    "        [numpy.cos(i*2*numpy.pi/n1)*radius*deformation for i in range(n1)], \n",
    "        [numpy.sin(i*2*numpy.pi/n1)*radius for i in range(n1)]\n",
    "    ])\n",
    "\n",
    "    data = numpy.array([\n",
    "        [numpy.cos(i*2*numpy.pi/n2)*radius*(1+random.random()*bruit)+center[0] for i in range(n2)], \n",
    "        [numpy.sin(i*2*numpy.pi/n2)*radius*deformation*(1+random.random()*bruit)+center[1] for i in range(n2)]\n",
    "    ])\n",
    "\n",
    "    T,error = icp(data,template)\n",
    "    dx = T[0,2]\n",
    "    dy = T[1,2]\n",
    "    rotation = numpy.arcsin(T[0,1]) * 360 / 2 / numpy.pi\n",
    "\n",
    "    print(\"T\",T)\n",
    "    print(\"error\",error)\n",
    "    print(\"rotation°\",rotation)\n",
    "    print(\"dx\",dx)\n",
    "    print(\"dy\",dy)\n",
    "\n",
    "    result = cv2.transform(numpy.array([data.T], copy=True).astype(numpy.float32), T).T\n",
    "    matplotlib.pyplot.plot(template[0], template[1], label=\"template\")\n",
    "    matplotlib.pyplot.plot(data[0], data[1], label=\"data\")\n",
    "    matplotlib.pyplot.plot(result[0], result[1], label=\"result: \"+str(rotation)+\"° - \"+str([dx,dy]))\n",
    "    matplotlib.pyplot.legend(loc=\"upper left\")\n",
    "    matplotlib.pyplot.axis('square')\n",
    "    matplotlib.pyplot.show()\n",
    "\n",
    "if __name__ == \"__main__\":\n",
    "    main()"
   ]
  }
 ],
 "metadata": {
  "kernelspec": {
   "display_name": "clipdraw",
   "language": "python",
   "name": "clipdraw"
  },
  "language_info": {
   "codemirror_mode": {
    "name": "ipython",
    "version": 3
   },
   "file_extension": ".py",
   "mimetype": "text/x-python",
   "name": "python",
   "nbconvert_exporter": "python",
   "pygments_lexer": "ipython3",
   "version": "3.8.12"
  }
 },
 "nbformat": 4,
 "nbformat_minor": 1
}
